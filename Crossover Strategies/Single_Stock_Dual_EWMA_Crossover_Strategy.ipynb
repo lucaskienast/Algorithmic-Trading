{
  "nbformat": 4,
  "nbformat_minor": 0,
  "metadata": {
    "colab": {
      "name": "Single Stock Dual-EWMA Crossover Strategy.ipynb",
      "provenance": [],
      "collapsed_sections": []
    },
    "kernelspec": {
      "name": "python3",
      "display_name": "Python 3"
    },
    "language_info": {
      "name": "python"
    }
  },
  "cells": [
    {
      "cell_type": "markdown",
      "metadata": {
        "id": "hqvhaPuxUbgE"
      },
      "source": [
        "# Single Stock Dual-EWMA Crossover Strategy\n",
        "\n",
        "- long when fast MA > slow MA\n",
        "- short when fast MA < slow MA"
      ]
    },
    {
      "cell_type": "markdown",
      "metadata": {
        "id": "uDwMXZW5U2Xj"
      },
      "source": [
        "## Import libraries"
      ]
    },
    {
      "cell_type": "code",
      "metadata": {
        "colab": {
          "base_uri": "https://localhost:8080/"
        },
        "id": "JLfcLR-mURwP",
        "outputId": "1bb637ab-a6fe-4afd-a214-bec4600383df"
      },
      "source": [
        "pip install yfinance"
      ],
      "execution_count": 1,
      "outputs": [
        {
          "output_type": "stream",
          "text": [
            "Requirement already satisfied: yfinance in /usr/local/lib/python3.7/dist-packages (0.1.63)\n",
            "Requirement already satisfied: requests>=2.20 in /usr/local/lib/python3.7/dist-packages (from yfinance) (2.23.0)\n",
            "Requirement already satisfied: lxml>=4.5.1 in /usr/local/lib/python3.7/dist-packages (from yfinance) (4.6.3)\n",
            "Requirement already satisfied: pandas>=0.24 in /usr/local/lib/python3.7/dist-packages (from yfinance) (1.1.5)\n",
            "Requirement already satisfied: multitasking>=0.0.7 in /usr/local/lib/python3.7/dist-packages (from yfinance) (0.0.9)\n",
            "Requirement already satisfied: numpy>=1.15 in /usr/local/lib/python3.7/dist-packages (from yfinance) (1.19.5)\n",
            "Requirement already satisfied: pytz>=2017.2 in /usr/local/lib/python3.7/dist-packages (from pandas>=0.24->yfinance) (2018.9)\n",
            "Requirement already satisfied: python-dateutil>=2.7.3 in /usr/local/lib/python3.7/dist-packages (from pandas>=0.24->yfinance) (2.8.1)\n",
            "Requirement already satisfied: six>=1.5 in /usr/local/lib/python3.7/dist-packages (from python-dateutil>=2.7.3->pandas>=0.24->yfinance) (1.15.0)\n",
            "Requirement already satisfied: certifi>=2017.4.17 in /usr/local/lib/python3.7/dist-packages (from requests>=2.20->yfinance) (2021.5.30)\n",
            "Requirement already satisfied: chardet<4,>=3.0.2 in /usr/local/lib/python3.7/dist-packages (from requests>=2.20->yfinance) (3.0.4)\n",
            "Requirement already satisfied: idna<3,>=2.5 in /usr/local/lib/python3.7/dist-packages (from requests>=2.20->yfinance) (2.10)\n",
            "Requirement already satisfied: urllib3!=1.25.0,!=1.25.1,<1.26,>=1.21.1 in /usr/local/lib/python3.7/dist-packages (from requests>=2.20->yfinance) (1.24.3)\n"
          ],
          "name": "stdout"
        }
      ]
    },
    {
      "cell_type": "code",
      "metadata": {
        "id": "g1skmsbWUn0j"
      },
      "source": [
        "import numpy as np\n",
        "import pandas as pd\n",
        "import yfinance as yf\n",
        "import matplotlib.pyplot as plt\n",
        "from scipy import stats\n",
        "plt.style.use(\"seaborn-whitegrid\")"
      ],
      "execution_count": 2,
      "outputs": []
    },
    {
      "cell_type": "markdown",
      "metadata": {
        "id": "QfCUhI1jU4oy"
      },
      "source": [
        "## Load stock data"
      ]
    },
    {
      "cell_type": "code",
      "metadata": {
        "colab": {
          "base_uri": "https://localhost:8080/",
          "height": 467
        },
        "id": "BiRFK29qUzgQ",
        "outputId": "91d89d53-4330-46ad-c10b-941e32b2de0d"
      },
      "source": [
        "ticker = \"AAPL\"\n",
        "aapl_df = yf.download(tickers=ticker, period=\"max\", interval=\"1d\", group_by=\"ticker\", auto_adjust=True)\n",
        "aapl_df"
      ],
      "execution_count": 3,
      "outputs": [
        {
          "output_type": "stream",
          "text": [
            "\r[*********************100%***********************]  1 of 1 completed\n"
          ],
          "name": "stdout"
        },
        {
          "output_type": "execute_result",
          "data": {
            "text/html": [
              "<div>\n",
              "<style scoped>\n",
              "    .dataframe tbody tr th:only-of-type {\n",
              "        vertical-align: middle;\n",
              "    }\n",
              "\n",
              "    .dataframe tbody tr th {\n",
              "        vertical-align: top;\n",
              "    }\n",
              "\n",
              "    .dataframe thead th {\n",
              "        text-align: right;\n",
              "    }\n",
              "</style>\n",
              "<table border=\"1\" class=\"dataframe\">\n",
              "  <thead>\n",
              "    <tr style=\"text-align: right;\">\n",
              "      <th></th>\n",
              "      <th>Open</th>\n",
              "      <th>High</th>\n",
              "      <th>Low</th>\n",
              "      <th>Close</th>\n",
              "      <th>Volume</th>\n",
              "    </tr>\n",
              "    <tr>\n",
              "      <th>Date</th>\n",
              "      <th></th>\n",
              "      <th></th>\n",
              "      <th></th>\n",
              "      <th></th>\n",
              "      <th></th>\n",
              "    </tr>\n",
              "  </thead>\n",
              "  <tbody>\n",
              "    <tr>\n",
              "      <th>1980-12-12</th>\n",
              "      <td>0.100600</td>\n",
              "      <td>0.101037</td>\n",
              "      <td>0.100600</td>\n",
              "      <td>0.100600</td>\n",
              "      <td>469033600</td>\n",
              "    </tr>\n",
              "    <tr>\n",
              "      <th>1980-12-15</th>\n",
              "      <td>0.095789</td>\n",
              "      <td>0.095789</td>\n",
              "      <td>0.095352</td>\n",
              "      <td>0.095352</td>\n",
              "      <td>175884800</td>\n",
              "    </tr>\n",
              "    <tr>\n",
              "      <th>1980-12-16</th>\n",
              "      <td>0.088790</td>\n",
              "      <td>0.088790</td>\n",
              "      <td>0.088353</td>\n",
              "      <td>0.088353</td>\n",
              "      <td>105728000</td>\n",
              "    </tr>\n",
              "    <tr>\n",
              "      <th>1980-12-17</th>\n",
              "      <td>0.090540</td>\n",
              "      <td>0.090977</td>\n",
              "      <td>0.090540</td>\n",
              "      <td>0.090540</td>\n",
              "      <td>86441600</td>\n",
              "    </tr>\n",
              "    <tr>\n",
              "      <th>1980-12-18</th>\n",
              "      <td>0.093165</td>\n",
              "      <td>0.093602</td>\n",
              "      <td>0.093165</td>\n",
              "      <td>0.093165</td>\n",
              "      <td>73449600</td>\n",
              "    </tr>\n",
              "    <tr>\n",
              "      <th>...</th>\n",
              "      <td>...</td>\n",
              "      <td>...</td>\n",
              "      <td>...</td>\n",
              "      <td>...</td>\n",
              "      <td>...</td>\n",
              "    </tr>\n",
              "    <tr>\n",
              "      <th>2021-08-06</th>\n",
              "      <td>146.350006</td>\n",
              "      <td>147.110001</td>\n",
              "      <td>145.630005</td>\n",
              "      <td>146.139999</td>\n",
              "      <td>54067400</td>\n",
              "    </tr>\n",
              "    <tr>\n",
              "      <th>2021-08-09</th>\n",
              "      <td>146.199997</td>\n",
              "      <td>146.699997</td>\n",
              "      <td>145.520004</td>\n",
              "      <td>146.089996</td>\n",
              "      <td>48908700</td>\n",
              "    </tr>\n",
              "    <tr>\n",
              "      <th>2021-08-10</th>\n",
              "      <td>146.440002</td>\n",
              "      <td>147.710007</td>\n",
              "      <td>145.300003</td>\n",
              "      <td>145.600006</td>\n",
              "      <td>68922200</td>\n",
              "    </tr>\n",
              "    <tr>\n",
              "      <th>2021-08-11</th>\n",
              "      <td>146.050003</td>\n",
              "      <td>146.720001</td>\n",
              "      <td>145.529999</td>\n",
              "      <td>145.860001</td>\n",
              "      <td>48422100</td>\n",
              "    </tr>\n",
              "    <tr>\n",
              "      <th>2021-08-12</th>\n",
              "      <td>146.190002</td>\n",
              "      <td>149.050003</td>\n",
              "      <td>145.839996</td>\n",
              "      <td>148.889999</td>\n",
              "      <td>72282600</td>\n",
              "    </tr>\n",
              "  </tbody>\n",
              "</table>\n",
              "<p>10254 rows × 5 columns</p>\n",
              "</div>"
            ],
            "text/plain": [
              "                  Open        High         Low       Close     Volume\n",
              "Date                                                                 \n",
              "1980-12-12    0.100600    0.101037    0.100600    0.100600  469033600\n",
              "1980-12-15    0.095789    0.095789    0.095352    0.095352  175884800\n",
              "1980-12-16    0.088790    0.088790    0.088353    0.088353  105728000\n",
              "1980-12-17    0.090540    0.090977    0.090540    0.090540   86441600\n",
              "1980-12-18    0.093165    0.093602    0.093165    0.093165   73449600\n",
              "...                ...         ...         ...         ...        ...\n",
              "2021-08-06  146.350006  147.110001  145.630005  146.139999   54067400\n",
              "2021-08-09  146.199997  146.699997  145.520004  146.089996   48908700\n",
              "2021-08-10  146.440002  147.710007  145.300003  145.600006   68922200\n",
              "2021-08-11  146.050003  146.720001  145.529999  145.860001   48422100\n",
              "2021-08-12  146.190002  149.050003  145.839996  148.889999   72282600\n",
              "\n",
              "[10254 rows x 5 columns]"
            ]
          },
          "metadata": {
            "tags": []
          },
          "execution_count": 3
        }
      ]
    },
    {
      "cell_type": "markdown",
      "metadata": {
        "id": "cTmQopDPU-YY"
      },
      "source": [
        "## Get close prices"
      ]
    },
    {
      "cell_type": "code",
      "metadata": {
        "colab": {
          "base_uri": "https://localhost:8080/",
          "height": 450
        },
        "id": "POjKvXR7U8Yu",
        "outputId": "596f803e-6a9e-4b86-c59d-1fe306b8d093"
      },
      "source": [
        "close_df = aapl_df.copy()\n",
        "close_df = close_df.drop(columns=[\"Open\", \"High\", \"Low\", \"Volume\"])\n",
        "close_df = close_df.rename(columns={\"Close\":\"AAPL\"})\n",
        "close_df"
      ],
      "execution_count": 4,
      "outputs": [
        {
          "output_type": "execute_result",
          "data": {
            "text/html": [
              "<div>\n",
              "<style scoped>\n",
              "    .dataframe tbody tr th:only-of-type {\n",
              "        vertical-align: middle;\n",
              "    }\n",
              "\n",
              "    .dataframe tbody tr th {\n",
              "        vertical-align: top;\n",
              "    }\n",
              "\n",
              "    .dataframe thead th {\n",
              "        text-align: right;\n",
              "    }\n",
              "</style>\n",
              "<table border=\"1\" class=\"dataframe\">\n",
              "  <thead>\n",
              "    <tr style=\"text-align: right;\">\n",
              "      <th></th>\n",
              "      <th>AAPL</th>\n",
              "    </tr>\n",
              "    <tr>\n",
              "      <th>Date</th>\n",
              "      <th></th>\n",
              "    </tr>\n",
              "  </thead>\n",
              "  <tbody>\n",
              "    <tr>\n",
              "      <th>1980-12-12</th>\n",
              "      <td>0.100600</td>\n",
              "    </tr>\n",
              "    <tr>\n",
              "      <th>1980-12-15</th>\n",
              "      <td>0.095352</td>\n",
              "    </tr>\n",
              "    <tr>\n",
              "      <th>1980-12-16</th>\n",
              "      <td>0.088353</td>\n",
              "    </tr>\n",
              "    <tr>\n",
              "      <th>1980-12-17</th>\n",
              "      <td>0.090540</td>\n",
              "    </tr>\n",
              "    <tr>\n",
              "      <th>1980-12-18</th>\n",
              "      <td>0.093165</td>\n",
              "    </tr>\n",
              "    <tr>\n",
              "      <th>...</th>\n",
              "      <td>...</td>\n",
              "    </tr>\n",
              "    <tr>\n",
              "      <th>2021-08-06</th>\n",
              "      <td>146.139999</td>\n",
              "    </tr>\n",
              "    <tr>\n",
              "      <th>2021-08-09</th>\n",
              "      <td>146.089996</td>\n",
              "    </tr>\n",
              "    <tr>\n",
              "      <th>2021-08-10</th>\n",
              "      <td>145.600006</td>\n",
              "    </tr>\n",
              "    <tr>\n",
              "      <th>2021-08-11</th>\n",
              "      <td>145.860001</td>\n",
              "    </tr>\n",
              "    <tr>\n",
              "      <th>2021-08-12</th>\n",
              "      <td>148.889999</td>\n",
              "    </tr>\n",
              "  </tbody>\n",
              "</table>\n",
              "<p>10254 rows × 1 columns</p>\n",
              "</div>"
            ],
            "text/plain": [
              "                  AAPL\n",
              "Date                  \n",
              "1980-12-12    0.100600\n",
              "1980-12-15    0.095352\n",
              "1980-12-16    0.088353\n",
              "1980-12-17    0.090540\n",
              "1980-12-18    0.093165\n",
              "...                ...\n",
              "2021-08-06  146.139999\n",
              "2021-08-09  146.089996\n",
              "2021-08-10  145.600006\n",
              "2021-08-11  145.860001\n",
              "2021-08-12  148.889999\n",
              "\n",
              "[10254 rows x 1 columns]"
            ]
          },
          "metadata": {
            "tags": []
          },
          "execution_count": 4
        }
      ]
    },
    {
      "cell_type": "markdown",
      "metadata": {
        "id": "7Jg_WxjbVbxZ"
      },
      "source": [
        "## Visualise adjusted close prices"
      ]
    },
    {
      "cell_type": "code",
      "metadata": {
        "colab": {
          "base_uri": "https://localhost:8080/",
          "height": 519
        },
        "id": "14vm3HwAVZVY",
        "outputId": "cb199a6f-4299-446d-a466-f670a53019d6"
      },
      "source": [
        "plt.figure(figsize=(16,8))\n",
        "plt.plot(close_df.loc[\"2019-01-01\":\"2021-01-01\", \"AAPL\"], label=\"Daily adj close\")\n",
        "plt.title(\"AAPL Adj Close 2019-2021\", fontsize=18)\n",
        "plt.legend(fontsize=18)\n",
        "plt.xlabel(\"Date\", fontsize=18)\n",
        "plt.ylabel(\"Adj Close\", fontsize=18)\n",
        "plt.show()"
      ],
      "execution_count": 5,
      "outputs": [
        {
          "output_type": "display_data",
          "data": {
            "image/png": "[encoded data removed]",
            "text/plain": [
              "<Figure size 1152x576 with 1 Axes>"
            ]
          },
          "metadata": {
            "tags": []
          }
        }
      ]
    },
    {
      "cell_type": "markdown",
      "metadata": {
        "id": "-bHBF_HgVjyk"
      },
      "source": [
        "## Exponentially Weighted Moving Average (EWMA)"
      ]
    },
    {
      "cell_type": "code",
      "metadata": {
        "id": "jEhL06XwVhU_"
      },
      "source": [
        "def EWMA(df, period):\n",
        "  return df.ewm(span=period).mean()"
      ],
      "execution_count": 6,
      "outputs": []
    },
    {
      "cell_type": "code",
      "metadata": {
        "colab": {
          "base_uri": "https://localhost:8080/",
          "height": 450
        },
        "id": "ipQw59-9VtXf",
        "outputId": "3c521825-96b1-4f51-d898-89754f4eb947"
      },
      "source": [
        "fast_ewma_df = close_df.copy()\n",
        "fast_ewma_df = EWMA(fast_ewma_df, 21)\n",
        "fast_ewma_df"
      ],
      "execution_count": 7,
      "outputs": [
        {
          "output_type": "execute_result",
          "data": {
            "text/html": [
              "<div>\n",
              "<style scoped>\n",
              "    .dataframe tbody tr th:only-of-type {\n",
              "        vertical-align: middle;\n",
              "    }\n",
              "\n",
              "    .dataframe tbody tr th {\n",
              "        vertical-align: top;\n",
              "    }\n",
              "\n",
              "    .dataframe thead th {\n",
              "        text-align: right;\n",
              "    }\n",
              "</style>\n",
              "<table border=\"1\" class=\"dataframe\">\n",
              "  <thead>\n",
              "    <tr style=\"text-align: right;\">\n",
              "      <th></th>\n",
              "      <th>AAPL</th>\n",
              "    </tr>\n",
              "    <tr>\n",
              "      <th>Date</th>\n",
              "      <th></th>\n",
              "    </tr>\n",
              "  </thead>\n",
              "  <tbody>\n",
              "    <tr>\n",
              "      <th>1980-12-12</th>\n",
              "      <td>0.100600</td>\n",
              "    </tr>\n",
              "    <tr>\n",
              "      <th>1980-12-15</th>\n",
              "      <td>0.097851</td>\n",
              "    </tr>\n",
              "    <tr>\n",
              "      <th>1980-12-16</th>\n",
              "      <td>0.094379</td>\n",
              "    </tr>\n",
              "    <tr>\n",
              "      <th>1980-12-17</th>\n",
              "      <td>0.093278</td>\n",
              "    </tr>\n",
              "    <tr>\n",
              "      <th>1980-12-18</th>\n",
              "      <td>0.093251</td>\n",
              "    </tr>\n",
              "    <tr>\n",
              "      <th>...</th>\n",
              "      <td>...</td>\n",
              "    </tr>\n",
              "    <tr>\n",
              "      <th>2021-08-06</th>\n",
              "      <td>144.768334</td>\n",
              "    </tr>\n",
              "    <tr>\n",
              "      <th>2021-08-09</th>\n",
              "      <td>144.888485</td>\n",
              "    </tr>\n",
              "    <tr>\n",
              "      <th>2021-08-10</th>\n",
              "      <td>144.953169</td>\n",
              "    </tr>\n",
              "    <tr>\n",
              "      <th>2021-08-11</th>\n",
              "      <td>145.035608</td>\n",
              "    </tr>\n",
              "    <tr>\n",
              "      <th>2021-08-12</th>\n",
              "      <td>145.386007</td>\n",
              "    </tr>\n",
              "  </tbody>\n",
              "</table>\n",
              "<p>10254 rows × 1 columns</p>\n",
              "</div>"
            ],
            "text/plain": [
              "                  AAPL\n",
              "Date                  \n",
              "1980-12-12    0.100600\n",
              "1980-12-15    0.097851\n",
              "1980-12-16    0.094379\n",
              "1980-12-17    0.093278\n",
              "1980-12-18    0.093251\n",
              "...                ...\n",
              "2021-08-06  144.768334\n",
              "2021-08-09  144.888485\n",
              "2021-08-10  144.953169\n",
              "2021-08-11  145.035608\n",
              "2021-08-12  145.386007\n",
              "\n",
              "[10254 rows x 1 columns]"
            ]
          },
          "metadata": {
            "tags": []
          },
          "execution_count": 7
        }
      ]
    },
    {
      "cell_type": "code",
      "metadata": {
        "colab": {
          "base_uri": "https://localhost:8080/",
          "height": 450
        },
        "id": "YRqaB55fV89O",
        "outputId": "3df33587-b763-45d6-acc0-cb538b5f2389"
      },
      "source": [
        "slow_ewma_df = close_df.copy()\n",
        "slow_ewma_df = EWMA(slow_ewma_df, 125)\n",
        "slow_ewma_df"
      ],
      "execution_count": 8,
      "outputs": [
        {
          "output_type": "execute_result",
          "data": {
            "text/html": [
              "<div>\n",
              "<style scoped>\n",
              "    .dataframe tbody tr th:only-of-type {\n",
              "        vertical-align: middle;\n",
              "    }\n",
              "\n",
              "    .dataframe tbody tr th {\n",
              "        vertical-align: top;\n",
              "    }\n",
              "\n",
              "    .dataframe thead th {\n",
              "        text-align: right;\n",
              "    }\n",
              "</style>\n",
              "<table border=\"1\" class=\"dataframe\">\n",
              "  <thead>\n",
              "    <tr style=\"text-align: right;\">\n",
              "      <th></th>\n",
              "      <th>AAPL</th>\n",
              "    </tr>\n",
              "    <tr>\n",
              "      <th>Date</th>\n",
              "      <th></th>\n",
              "    </tr>\n",
              "  </thead>\n",
              "  <tbody>\n",
              "    <tr>\n",
              "      <th>1980-12-12</th>\n",
              "      <td>0.100600</td>\n",
              "    </tr>\n",
              "    <tr>\n",
              "      <th>1980-12-15</th>\n",
              "      <td>0.097955</td>\n",
              "    </tr>\n",
              "    <tr>\n",
              "      <th>1980-12-16</th>\n",
              "      <td>0.094703</td>\n",
              "    </tr>\n",
              "    <tr>\n",
              "      <th>1980-12-17</th>\n",
              "      <td>0.093637</td>\n",
              "    </tr>\n",
              "    <tr>\n",
              "      <th>1980-12-18</th>\n",
              "      <td>0.093540</td>\n",
              "    </tr>\n",
              "    <tr>\n",
              "      <th>...</th>\n",
              "      <td>...</td>\n",
              "    </tr>\n",
              "    <tr>\n",
              "      <th>2021-08-06</th>\n",
              "      <td>132.882666</td>\n",
              "    </tr>\n",
              "    <tr>\n",
              "      <th>2021-08-09</th>\n",
              "      <td>133.092306</td>\n",
              "    </tr>\n",
              "    <tr>\n",
              "      <th>2021-08-10</th>\n",
              "      <td>133.290841</td>\n",
              "    </tr>\n",
              "    <tr>\n",
              "      <th>2021-08-11</th>\n",
              "      <td>133.490352</td>\n",
              "    </tr>\n",
              "    <tr>\n",
              "      <th>2021-08-12</th>\n",
              "      <td>133.734790</td>\n",
              "    </tr>\n",
              "  </tbody>\n",
              "</table>\n",
              "<p>10254 rows × 1 columns</p>\n",
              "</div>"
            ],
            "text/plain": [
              "                  AAPL\n",
              "Date                  \n",
              "1980-12-12    0.100600\n",
              "1980-12-15    0.097955\n",
              "1980-12-16    0.094703\n",
              "1980-12-17    0.093637\n",
              "1980-12-18    0.093540\n",
              "...                ...\n",
              "2021-08-06  132.882666\n",
              "2021-08-09  133.092306\n",
              "2021-08-10  133.290841\n",
              "2021-08-11  133.490352\n",
              "2021-08-12  133.734790\n",
              "\n",
              "[10254 rows x 1 columns]"
            ]
          },
          "metadata": {
            "tags": []
          },
          "execution_count": 8
        }
      ]
    },
    {
      "cell_type": "markdown",
      "metadata": {
        "id": "RBAVyVI1WIBg"
      },
      "source": [
        "## Visualise EWMAs with adjusted close prices"
      ]
    },
    {
      "cell_type": "code",
      "metadata": {
        "colab": {
          "base_uri": "https://localhost:8080/",
          "height": 519
        },
        "id": "N_LPdHuRWGj2",
        "outputId": "41474fd8-1c30-447b-c055-b61b6f64c6de"
      },
      "source": [
        "plt.figure(figsize=(16,8))\n",
        "plt.plot(close_df.loc[\"2019-01-01\":\"2021-01-01\",\"AAPL\"], alpha=1.0, label=\"Daily adj close\", linewidth=2, color=\"cornflowerblue\", zorder=1)\n",
        "plt.plot(slow_ewma_df.loc[\"2019-01-01\":\"2021-01-01\",\"AAPL\"], alpha=1.0, label=\"125D EWMA\", linewidth=2, color=\"darkorange\", zorder=2)\n",
        "plt.plot(fast_ewma_df.loc[\"2019-01-01\":\"2021-01-01\",\"AAPL\"], alpha=1.0, label=\"21D EWMA\", linewidth=2, color=\"magenta\", zorder=3)\n",
        "plt.title(\"AAPL Daily Adj Close with EWMAs\", fontsize=18)\n",
        "plt.legend(fontsize=18)\n",
        "plt.xlabel(\"Date\", fontsize=18)\n",
        "plt.ylabel(\"Price\", fontsize=18)\n",
        "plt.show()"
      ],
      "execution_count": 9,
      "outputs": [
        {
          "output_type": "display_data",
          "data": {
            "image/png": "[encoded data removed]",
            "text/plain": [
              "<Figure size 1152x576 with 1 Axes>"
            ]
          },
          "metadata": {
            "tags": []
          }
        }
      ]
    },
    {
      "cell_type": "markdown",
      "metadata": {
        "id": "KEJ-0maXZZfK"
      },
      "source": [
        "## Compute long and short signals\n",
        "\n",
        "- long when fast MA > slow MA\n",
        "- short when fast MA < slow MA"
      ]
    },
    {
      "cell_type": "code",
      "metadata": {
        "id": "tTNIyuDpWmgt"
      },
      "source": [
        "def get_long_short(fast_ma, slow_ma):\n",
        "  # create initial long/short signal dataframe with all zeros\n",
        "  long_short = (fast_ma*0).fillna(0).astype(np.int)\n",
        "  # create long signals when close > moving avg\n",
        "  long_signals = (fast_ma > slow_ma).astype(np.int)\n",
        "  # create short signals when close < moving avg\n",
        "  short_signals = (fast_ma < slow_ma).astype(np.int)\n",
        "  # combine both long and short signals\n",
        "  long_short = long_short + long_signals - short_signals\n",
        "\n",
        "  return long_short"
      ],
      "execution_count": 10,
      "outputs": []
    },
    {
      "cell_type": "code",
      "metadata": {
        "colab": {
          "base_uri": "https://localhost:8080/",
          "height": 450
        },
        "id": "oOka-oqhZ8HL",
        "outputId": "02a6c14d-2423-494f-ae37-f15d20f0071b"
      },
      "source": [
        "# compute signals b/w 2019 and 2021 and cut ewma and close to that timeframe too\n",
        "close_df = close_df.loc[\"2019-01-01\":\"2021-01-01\", :]\n",
        "fast_ewma_df = fast_ewma_df.loc[\"2019-01-01\":\"2021-01-01\", :]\n",
        "slow_ewma_df = slow_ewma_df.loc[\"2019-01-01\":\"2021-01-01\", :]\n",
        "signal = get_long_short(fast_ewma_df, slow_ewma_df)\n",
        "signal"
      ],
      "execution_count": 11,
      "outputs": [
        {
          "output_type": "execute_result",
          "data": {
            "text/html": [
              "<div>\n",
              "<style scoped>\n",
              "    .dataframe tbody tr th:only-of-type {\n",
              "        vertical-align: middle;\n",
              "    }\n",
              "\n",
              "    .dataframe tbody tr th {\n",
              "        vertical-align: top;\n",
              "    }\n",
              "\n",
              "    .dataframe thead th {\n",
              "        text-align: right;\n",
              "    }\n",
              "</style>\n",
              "<table border=\"1\" class=\"dataframe\">\n",
              "  <thead>\n",
              "    <tr style=\"text-align: right;\">\n",
              "      <th></th>\n",
              "      <th>AAPL</th>\n",
              "    </tr>\n",
              "    <tr>\n",
              "      <th>Date</th>\n",
              "      <th></th>\n",
              "    </tr>\n",
              "  </thead>\n",
              "  <tbody>\n",
              "    <tr>\n",
              "      <th>2019-01-02</th>\n",
              "      <td>-1</td>\n",
              "    </tr>\n",
              "    <tr>\n",
              "      <th>2019-01-03</th>\n",
              "      <td>-1</td>\n",
              "    </tr>\n",
              "    <tr>\n",
              "      <th>2019-01-04</th>\n",
              "      <td>-1</td>\n",
              "    </tr>\n",
              "    <tr>\n",
              "      <th>2019-01-07</th>\n",
              "      <td>-1</td>\n",
              "    </tr>\n",
              "    <tr>\n",
              "      <th>2019-01-08</th>\n",
              "      <td>-1</td>\n",
              "    </tr>\n",
              "    <tr>\n",
              "      <th>...</th>\n",
              "      <td>...</td>\n",
              "    </tr>\n",
              "    <tr>\n",
              "      <th>2020-12-24</th>\n",
              "      <td>1</td>\n",
              "    </tr>\n",
              "    <tr>\n",
              "      <th>2020-12-28</th>\n",
              "      <td>1</td>\n",
              "    </tr>\n",
              "    <tr>\n",
              "      <th>2020-12-29</th>\n",
              "      <td>1</td>\n",
              "    </tr>\n",
              "    <tr>\n",
              "      <th>2020-12-30</th>\n",
              "      <td>1</td>\n",
              "    </tr>\n",
              "    <tr>\n",
              "      <th>2020-12-31</th>\n",
              "      <td>1</td>\n",
              "    </tr>\n",
              "  </tbody>\n",
              "</table>\n",
              "<p>505 rows × 1 columns</p>\n",
              "</div>"
            ],
            "text/plain": [
              "            AAPL\n",
              "Date            \n",
              "2019-01-02    -1\n",
              "2019-01-03    -1\n",
              "2019-01-04    -1\n",
              "2019-01-07    -1\n",
              "2019-01-08    -1\n",
              "...          ...\n",
              "2020-12-24     1\n",
              "2020-12-28     1\n",
              "2020-12-29     1\n",
              "2020-12-30     1\n",
              "2020-12-31     1\n",
              "\n",
              "[505 rows x 1 columns]"
            ]
          },
          "metadata": {
            "tags": []
          },
          "execution_count": 11
        }
      ]
    },
    {
      "cell_type": "markdown",
      "metadata": {
        "id": "9eqJ6w5qaL4r"
      },
      "source": [
        "## Filter signal\n",
        "\n",
        "Filter out all consecutive-equal signals, so only long/short changes remain."
      ]
    },
    {
      "cell_type": "code",
      "metadata": {
        "id": "v6PK9pk1Z_Ep"
      },
      "source": [
        "def filter_signal(signal):\n",
        "\n",
        "  filtered_signal = signal.copy()\n",
        "  for ticker in filtered_signal:\n",
        "    filtered_signal.loc[filtered_signal[ticker].shift(1).eq(filtered_signal[ticker]), ticker] = 0\n",
        "  \n",
        "  return filtered_signal"
      ],
      "execution_count": 12,
      "outputs": []
    },
    {
      "cell_type": "code",
      "metadata": {
        "colab": {
          "base_uri": "https://localhost:8080/",
          "height": 450
        },
        "id": "Fa3h1jj7aSuw",
        "outputId": "eba39924-b3f9-4a4e-c4b3-2c105a125801"
      },
      "source": [
        "filtered_signal = filter_signal(signal)\n",
        "filtered_signal"
      ],
      "execution_count": 13,
      "outputs": [
        {
          "output_type": "execute_result",
          "data": {
            "text/html": [
              "<div>\n",
              "<style scoped>\n",
              "    .dataframe tbody tr th:only-of-type {\n",
              "        vertical-align: middle;\n",
              "    }\n",
              "\n",
              "    .dataframe tbody tr th {\n",
              "        vertical-align: top;\n",
              "    }\n",
              "\n",
              "    .dataframe thead th {\n",
              "        text-align: right;\n",
              "    }\n",
              "</style>\n",
              "<table border=\"1\" class=\"dataframe\">\n",
              "  <thead>\n",
              "    <tr style=\"text-align: right;\">\n",
              "      <th></th>\n",
              "      <th>AAPL</th>\n",
              "    </tr>\n",
              "    <tr>\n",
              "      <th>Date</th>\n",
              "      <th></th>\n",
              "    </tr>\n",
              "  </thead>\n",
              "  <tbody>\n",
              "    <tr>\n",
              "      <th>2019-01-02</th>\n",
              "      <td>-1</td>\n",
              "    </tr>\n",
              "    <tr>\n",
              "      <th>2019-01-03</th>\n",
              "      <td>0</td>\n",
              "    </tr>\n",
              "    <tr>\n",
              "      <th>2019-01-04</th>\n",
              "      <td>0</td>\n",
              "    </tr>\n",
              "    <tr>\n",
              "      <th>2019-01-07</th>\n",
              "      <td>0</td>\n",
              "    </tr>\n",
              "    <tr>\n",
              "      <th>2019-01-08</th>\n",
              "      <td>0</td>\n",
              "    </tr>\n",
              "    <tr>\n",
              "      <th>...</th>\n",
              "      <td>...</td>\n",
              "    </tr>\n",
              "    <tr>\n",
              "      <th>2020-12-24</th>\n",
              "      <td>0</td>\n",
              "    </tr>\n",
              "    <tr>\n",
              "      <th>2020-12-28</th>\n",
              "      <td>0</td>\n",
              "    </tr>\n",
              "    <tr>\n",
              "      <th>2020-12-29</th>\n",
              "      <td>0</td>\n",
              "    </tr>\n",
              "    <tr>\n",
              "      <th>2020-12-30</th>\n",
              "      <td>0</td>\n",
              "    </tr>\n",
              "    <tr>\n",
              "      <th>2020-12-31</th>\n",
              "      <td>0</td>\n",
              "    </tr>\n",
              "  </tbody>\n",
              "</table>\n",
              "<p>505 rows × 1 columns</p>\n",
              "</div>"
            ],
            "text/plain": [
              "            AAPL\n",
              "Date            \n",
              "2019-01-02    -1\n",
              "2019-01-03     0\n",
              "2019-01-04     0\n",
              "2019-01-07     0\n",
              "2019-01-08     0\n",
              "...          ...\n",
              "2020-12-24     0\n",
              "2020-12-28     0\n",
              "2020-12-29     0\n",
              "2020-12-30     0\n",
              "2020-12-31     0\n",
              "\n",
              "[505 rows x 1 columns]"
            ]
          },
          "metadata": {
            "tags": []
          },
          "execution_count": 13
        }
      ]
    },
    {
      "cell_type": "markdown",
      "metadata": {
        "id": "CNeXeI4dafUy"
      },
      "source": [
        "## Visualise filtered signals with adjusted close and EWMAs"
      ]
    },
    {
      "cell_type": "code",
      "metadata": {
        "colab": {
          "base_uri": "https://localhost:8080/",
          "height": 519
        },
        "id": "g6KjjfTdaWTx",
        "outputId": "3baf7026-33cb-43a9-c2ad-0a38c84bc529"
      },
      "source": [
        "plt.figure(figsize=(16,8))\n",
        "plt.plot(close_df.loc[\"2019-01-01\":\"2021-01-01\",\"AAPL\"], alpha=1.0, label=\"Daily adj close\", linewidth=2, color=\"cornflowerblue\", zorder=1)\n",
        "plt.plot(slow_ewma_df.loc[\"2019-01-01\":\"2021-01-01\",\"AAPL\"], alpha=1.0, label=\"125D EWMA\", linewidth=2, color=\"darkorange\", zorder=2)\n",
        "plt.plot(fast_ewma_df.loc[\"2019-01-01\":\"2021-01-01\",\"AAPL\"], alpha=1.0, label=\"21D EWMA\", linewidth=2, color=\"magenta\", zorder=3)\n",
        "plt.scatter(filtered_signal.index, np.where(filtered_signal.loc[:, \"AAPL\"]==1, close_df.loc[:,\"AAPL\"], np.nan), alpha=1, label=\"Long Signal\", marker=\"^\", color=\"green\", s=200, zorder=4)\n",
        "plt.scatter(filtered_signal.index, np.where(filtered_signal.loc[:, \"AAPL\"]==-1, close_df.loc[:, \"AAPL\"], np.nan), alpha=1, label=\"Short Signal\", marker=\"v\", color=\"red\", s=200, zorder=5)\n",
        "plt.title(\"AAPL Daily Adj Close with EWMAs & Filtered Signals\", fontsize=18)\n",
        "plt.legend(fontsize=18)\n",
        "plt.xlabel(\"Date\", fontsize=18)\n",
        "plt.ylabel(\"Price\", fontsize=18)\n",
        "plt.show()"
      ],
      "execution_count": 14,
      "outputs": [
        {
          "output_type": "display_data",
          "data": {
            "image/png": "[encoded data removed]",
            "text/plain": [
              "<Figure size 1152x576 with 1 Axes>"
            ]
          },
          "metadata": {
            "tags": []
          }
        }
      ]
    },
    {
      "cell_type": "markdown",
      "metadata": {
        "id": "4-NvIoIsbDS7"
      },
      "source": [
        "## Signal returns"
      ]
    },
    {
      "cell_type": "code",
      "metadata": {
        "id": "iiAeBH_Raz2A"
      },
      "source": [
        "def get_lookahead_returns(close, signal):\n",
        "\n",
        "  entry_signals = signal.copy()\n",
        "  entry_signals = entry_signals[signal!=0]\n",
        "\n",
        "  entry_prices = close.copy()\n",
        "  entry_prices = entry_prices[signal!=0]\n",
        "\n",
        "  price_returns = entry_prices.copy()\n",
        "\n",
        "  for ticker in entry_prices:\n",
        "\n",
        "    valid_indexes = entry_prices.loc[:, ticker].index.get_indexer(entry_prices.loc[:, ticker].index[~entry_prices.loc[:, ticker].isnull()])\n",
        "\n",
        "    for i in range(len(valid_indexes)):\n",
        "\n",
        "      current_price = entry_prices.loc[:, ticker].iloc[valid_indexes[i]]\n",
        "\n",
        "      if i < (len(valid_indexes)-1):\n",
        "        next_price = entry_prices.loc[:, ticker].iloc[valid_indexes[i+1]]\n",
        "        price_returns.loc[:, ticker].iloc[valid_indexes[i]] = (next_price / current_price) - 1\n",
        "\n",
        "      else:\n",
        "        last_price = close.loc[:, ticker].iloc[-1]\n",
        "        price_returns.loc[:, ticker].iloc[valid_indexes[i]] = (last_price / current_price) - 1\n",
        "\n",
        "  signal_returns = entry_signals * price_returns\n",
        "\n",
        "  return signal_returns"
      ],
      "execution_count": 15,
      "outputs": []
    },
    {
      "cell_type": "code",
      "metadata": {
        "colab": {
          "base_uri": "https://localhost:8080/",
          "height": 450
        },
        "id": "WHuXCCkJbsr5",
        "outputId": "df746192-6af9-4f63-88f9-1baf7ddfea27"
      },
      "source": [
        "signal_returns = get_lookahead_returns(close_df, filtered_signal)\n",
        "signal_returns"
      ],
      "execution_count": 16,
      "outputs": [
        {
          "output_type": "execute_result",
          "data": {
            "text/html": [
              "<div>\n",
              "<style scoped>\n",
              "    .dataframe tbody tr th:only-of-type {\n",
              "        vertical-align: middle;\n",
              "    }\n",
              "\n",
              "    .dataframe tbody tr th {\n",
              "        vertical-align: top;\n",
              "    }\n",
              "\n",
              "    .dataframe thead th {\n",
              "        text-align: right;\n",
              "    }\n",
              "</style>\n",
              "<table border=\"1\" class=\"dataframe\">\n",
              "  <thead>\n",
              "    <tr style=\"text-align: right;\">\n",
              "      <th></th>\n",
              "      <th>AAPL</th>\n",
              "    </tr>\n",
              "    <tr>\n",
              "      <th>Date</th>\n",
              "      <th></th>\n",
              "    </tr>\n",
              "  </thead>\n",
              "  <tbody>\n",
              "    <tr>\n",
              "      <th>2019-01-02</th>\n",
              "      <td>-0.196599</td>\n",
              "    </tr>\n",
              "    <tr>\n",
              "      <th>2019-01-03</th>\n",
              "      <td>NaN</td>\n",
              "    </tr>\n",
              "    <tr>\n",
              "      <th>2019-01-04</th>\n",
              "      <td>NaN</td>\n",
              "    </tr>\n",
              "    <tr>\n",
              "      <th>2019-01-07</th>\n",
              "      <td>NaN</td>\n",
              "    </tr>\n",
              "    <tr>\n",
              "      <th>2019-01-08</th>\n",
              "      <td>NaN</td>\n",
              "    </tr>\n",
              "    <tr>\n",
              "      <th>...</th>\n",
              "      <td>...</td>\n",
              "    </tr>\n",
              "    <tr>\n",
              "      <th>2020-12-24</th>\n",
              "      <td>NaN</td>\n",
              "    </tr>\n",
              "    <tr>\n",
              "      <th>2020-12-28</th>\n",
              "      <td>NaN</td>\n",
              "    </tr>\n",
              "    <tr>\n",
              "      <th>2020-12-29</th>\n",
              "      <td>NaN</td>\n",
              "    </tr>\n",
              "    <tr>\n",
              "      <th>2020-12-30</th>\n",
              "      <td>NaN</td>\n",
              "    </tr>\n",
              "    <tr>\n",
              "      <th>2020-12-31</th>\n",
              "      <td>NaN</td>\n",
              "    </tr>\n",
              "  </tbody>\n",
              "</table>\n",
              "<p>505 rows × 1 columns</p>\n",
              "</div>"
            ],
            "text/plain": [
              "                AAPL\n",
              "Date                \n",
              "2019-01-02 -0.196599\n",
              "2019-01-03       NaN\n",
              "2019-01-04       NaN\n",
              "2019-01-07       NaN\n",
              "2019-01-08       NaN\n",
              "...              ...\n",
              "2020-12-24       NaN\n",
              "2020-12-28       NaN\n",
              "2020-12-29       NaN\n",
              "2020-12-30       NaN\n",
              "2020-12-31       NaN\n",
              "\n",
              "[505 rows x 1 columns]"
            ]
          },
          "metadata": {
            "tags": []
          },
          "execution_count": 16
        }
      ]
    },
    {
      "cell_type": "markdown",
      "metadata": {
        "id": "-lKotKfxcR13"
      },
      "source": [
        "## Visualise signal returns"
      ]
    },
    {
      "cell_type": "code",
      "metadata": {
        "colab": {
          "base_uri": "https://localhost:8080/",
          "height": 519
        },
        "id": "uIlHhCWzbu_d",
        "outputId": "bdd2d002-5feb-4869-fdff-530a25236209"
      },
      "source": [
        "plt.figure(figsize=(16,8))\n",
        "plt.bar(signal_returns.index, signal_returns.loc[:, \"AAPL\"], alpha=1.0, label=\"Signal returns\", width=1, color=\"cornflowerblue\", zorder=1)\n",
        "plt.legend(fontsize=18)\n",
        "plt.title(\"Expected signal returns for 2019-2021\", fontsize=18)\n",
        "plt.xlabel(\"Date\", fontsize=18)\n",
        "plt.ylabel(\"Signal returns\", fontsize=18)\n",
        "plt.show()"
      ],
      "execution_count": 17,
      "outputs": [
        {
          "output_type": "display_data",
          "data": {
            "image/png": "[encoded data removed]",
            "text/plain": [
              "<Figure size 1152x576 with 1 Axes>"
            ]
          },
          "metadata": {
            "tags": []
          }
        }
      ]
    },
    {
      "cell_type": "markdown",
      "metadata": {
        "id": "VQJieEiOcmIT"
      },
      "source": [
        "## Cumulative returns"
      ]
    },
    {
      "cell_type": "code",
      "metadata": {
        "colab": {
          "base_uri": "https://localhost:8080/"
        },
        "id": "tQnuvxjbchzW",
        "outputId": "d7e3bbf9-838b-4ab3-96b2-64851778720b"
      },
      "source": [
        "signal_cumu_returns = ((signal_returns / len(signal_returns.columns)).sum(axis=1)+1).cumprod()\n",
        "signal_cumu_returns"
      ],
      "execution_count": 18,
      "outputs": [
        {
          "output_type": "execute_result",
          "data": {
            "text/plain": [
              "Date\n",
              "2019-01-02    0.803401\n",
              "2019-01-03    0.803401\n",
              "2019-01-04    0.803401\n",
              "2019-01-07    0.803401\n",
              "2019-01-08    0.803401\n",
              "                ...   \n",
              "2020-12-24    1.200675\n",
              "2020-12-28    1.200675\n",
              "2020-12-29    1.200675\n",
              "2020-12-30    1.200675\n",
              "2020-12-31    1.200675\n",
              "Length: 505, dtype: float64"
            ]
          },
          "metadata": {
            "tags": []
          },
          "execution_count": 18
        }
      ]
    },
    {
      "cell_type": "code",
      "metadata": {
        "colab": {
          "base_uri": "https://localhost:8080/"
        },
        "id": "Z-lyStSUc3_w",
        "outputId": "820c2a37-f930-4d78-978e-1120b7cbbb44"
      },
      "source": [
        "buy_hold_cumu_returns = ((close_df / close_df.shift(1) - 1).sum(axis=1)+1).cumprod()\n",
        "buy_hold_cumu_returns"
      ],
      "execution_count": 19,
      "outputs": [
        {
          "output_type": "execute_result",
          "data": {
            "text/plain": [
              "Date\n",
              "2019-01-02    1.000000\n",
              "2019-01-03    0.900393\n",
              "2019-01-04    0.938830\n",
              "2019-01-07    0.936740\n",
              "2019-01-08    0.954597\n",
              "                ...   \n",
              "2020-12-24    3.422230\n",
              "2020-12-28    3.544629\n",
              "2020-12-29    3.497433\n",
              "2020-12-30    3.467611\n",
              "2020-12-31    3.440902\n",
              "Length: 505, dtype: float64"
            ]
          },
          "metadata": {
            "tags": []
          },
          "execution_count": 19
        }
      ]
    },
    {
      "cell_type": "markdown",
      "metadata": {
        "id": "p5kX98DFd_RS"
      },
      "source": [
        "## Find optimal EWMA spans"
      ]
    },
    {
      "cell_type": "code",
      "metadata": {
        "id": "V1n2vehEdIny"
      },
      "source": [
        "stats_table = pd.DataFrame(data={\"Stats\":[\"Cumsum (2Y)\", \"CAGR\", \"Mean\", \"Median\", \"Max\", \"Min\", \"St. dev.\",\"Skew\", \"Kurtosis\"]})\n",
        "stats_table.set_index(\"Stats\", inplace=True)\n",
        "\n",
        "buy_hold_returns = (close_df / close_df.shift(1) - 1).sum(axis=1)\n",
        "\n",
        "stats_table[\"Buy & Hold\"] = [(buy_hold_returns+1).cumprod()[-1]-1,\n",
        "                            ((buy_hold_returns+1).cumprod()[-1])**(1/2)-1,\n",
        "                            buy_hold_returns.mean(),\n",
        "                            buy_hold_returns.median(),\n",
        "                            buy_hold_returns.max(),\n",
        "                            buy_hold_returns.min(), \n",
        "                            buy_hold_returns.std(), \n",
        "                            stats.skew(buy_hold_returns.dropna(axis=0)), \n",
        "                            stats.kurtosis(buy_hold_returns.dropna(axis=0), fisher=True)]"
      ],
      "execution_count": 20,
      "outputs": []
    },
    {
      "cell_type": "code",
      "metadata": {
        "id": "7Rvid4q-fN9J"
      },
      "source": [
        "for i in range(5, 21, 5):\n",
        "  for j in range(25, 100, 5):\n",
        "\n",
        "    # get close prices\n",
        "    close_df = aapl_df.copy()\n",
        "    close_df = close_df.drop(columns=[\"Open\", \"High\", \"Low\", \"Volume\"])\n",
        "    close_df = close_df.rename(columns={\"Close\":\"AAPL\"})\n",
        "\n",
        "    # get EWMAs\n",
        "    fast_ewma_df = close_df.copy()\n",
        "    fast_ewma_df = EWMA(fast_ewma_df, i)\n",
        "    slow_ewma_df = close_df.copy()\n",
        "    slow_ewma_df = EWMA(slow_ewma_df, j)\n",
        "\n",
        "    # compute signals\n",
        "    close_df = close_df.loc[\"2019-01-01\":\"2021-01-01\", :]\n",
        "    fast_ewma_df = fast_ewma_df.loc[\"2019-01-01\":\"2021-01-01\", :]\n",
        "    slow_ewma_df = slow_ewma_df.loc[\"2019-01-01\":\"2021-01-01\", :]\n",
        "    signal = get_long_short(fast_ewma_df, slow_ewma_df)\n",
        "\n",
        "    # filter signal\n",
        "    filtered_signal = filter_signal(signal)\n",
        "\n",
        "    # get signal returns\n",
        "    signal_returns = get_lookahead_returns(close_df, filtered_signal).sum(axis=1)\n",
        "\n",
        "    # enter signal return stats into table\n",
        "    stats_table[\"{}D-Fast / {}D-Slow\".format(i, j)] = [(signal_returns+1).cumprod()[-1]-1,\n",
        "                                                      ((signal_returns+1).cumprod()[-1])**(1/2)-1,\n",
        "                                                      signal_returns.mean(),\n",
        "                                                      signal_returns.median(),\n",
        "                                                      signal_returns.max(),\n",
        "                                                      signal_returns.min(), \n",
        "                                                      signal_returns.std(), \n",
        "                                                      stats.skew(signal_returns.dropna(axis=0)), \n",
        "                                                      stats.kurtosis(signal_returns.dropna(axis=0), fisher=True)]  "
      ],
      "execution_count": 21,
      "outputs": []
    },
    {
      "cell_type": "code",
      "metadata": {
        "colab": {
          "base_uri": "https://localhost:8080/",
          "height": 430
        },
        "id": "lqN1YWzohwb8",
        "outputId": "0935983c-636f-4e26-bd15-a7abf0253aec"
      },
      "source": [
        "stats_table"
      ],
      "execution_count": 22,
      "outputs": [
        {
          "output_type": "execute_result",
          "data": {
            "text/html": [
              "<div>\n",
              "<style scoped>\n",
              "    .dataframe tbody tr th:only-of-type {\n",
              "        vertical-align: middle;\n",
              "    }\n",
              "\n",
              "    .dataframe tbody tr th {\n",
              "        vertical-align: top;\n",
              "    }\n",
              "\n",
              "    .dataframe thead th {\n",
              "        text-align: right;\n",
              "    }\n",
              "</style>\n",
              "<table border=\"1\" class=\"dataframe\">\n",
              "  <thead>\n",
              "    <tr style=\"text-align: right;\">\n",
              "      <th></th>\n",
              "      <th>Buy &amp; Hold</th>\n",
              "      <th>5D-Fast / 25D-Slow</th>\n",
              "      <th>5D-Fast / 30D-Slow</th>\n",
              "      <th>5D-Fast / 35D-Slow</th>\n",
              "      <th>5D-Fast / 40D-Slow</th>\n",
              "      <th>5D-Fast / 45D-Slow</th>\n",
              "      <th>5D-Fast / 50D-Slow</th>\n",
              "      <th>5D-Fast / 55D-Slow</th>\n",
              "      <th>5D-Fast / 60D-Slow</th>\n",
              "      <th>5D-Fast / 65D-Slow</th>\n",
              "      <th>5D-Fast / 70D-Slow</th>\n",
              "      <th>5D-Fast / 75D-Slow</th>\n",
              "      <th>5D-Fast / 80D-Slow</th>\n",
              "      <th>5D-Fast / 85D-Slow</th>\n",
              "      <th>5D-Fast / 90D-Slow</th>\n",
              "      <th>5D-Fast / 95D-Slow</th>\n",
              "      <th>10D-Fast / 25D-Slow</th>\n",
              "      <th>10D-Fast / 30D-Slow</th>\n",
              "      <th>10D-Fast / 35D-Slow</th>\n",
              "      <th>10D-Fast / 40D-Slow</th>\n",
              "      <th>10D-Fast / 45D-Slow</th>\n",
              "      <th>10D-Fast / 50D-Slow</th>\n",
              "      <th>10D-Fast / 55D-Slow</th>\n",
              "      <th>10D-Fast / 60D-Slow</th>\n",
              "      <th>10D-Fast / 65D-Slow</th>\n",
              "      <th>10D-Fast / 70D-Slow</th>\n",
              "      <th>10D-Fast / 75D-Slow</th>\n",
              "      <th>10D-Fast / 80D-Slow</th>\n",
              "      <th>10D-Fast / 85D-Slow</th>\n",
              "      <th>10D-Fast / 90D-Slow</th>\n",
              "      <th>10D-Fast / 95D-Slow</th>\n",
              "      <th>15D-Fast / 25D-Slow</th>\n",
              "      <th>15D-Fast / 30D-Slow</th>\n",
              "      <th>15D-Fast / 35D-Slow</th>\n",
              "      <th>15D-Fast / 40D-Slow</th>\n",
              "      <th>15D-Fast / 45D-Slow</th>\n",
              "      <th>15D-Fast / 50D-Slow</th>\n",
              "      <th>15D-Fast / 55D-Slow</th>\n",
              "      <th>15D-Fast / 60D-Slow</th>\n",
              "      <th>15D-Fast / 65D-Slow</th>\n",
              "      <th>15D-Fast / 70D-Slow</th>\n",
              "      <th>15D-Fast / 75D-Slow</th>\n",
              "      <th>15D-Fast / 80D-Slow</th>\n",
              "      <th>15D-Fast / 85D-Slow</th>\n",
              "      <th>15D-Fast / 90D-Slow</th>\n",
              "      <th>15D-Fast / 95D-Slow</th>\n",
              "      <th>20D-Fast / 25D-Slow</th>\n",
              "      <th>20D-Fast / 30D-Slow</th>\n",
              "      <th>20D-Fast / 35D-Slow</th>\n",
              "      <th>20D-Fast / 40D-Slow</th>\n",
              "      <th>20D-Fast / 45D-Slow</th>\n",
              "      <th>20D-Fast / 50D-Slow</th>\n",
              "      <th>20D-Fast / 55D-Slow</th>\n",
              "      <th>20D-Fast / 60D-Slow</th>\n",
              "      <th>20D-Fast / 65D-Slow</th>\n",
              "      <th>20D-Fast / 70D-Slow</th>\n",
              "      <th>20D-Fast / 75D-Slow</th>\n",
              "      <th>20D-Fast / 80D-Slow</th>\n",
              "      <th>20D-Fast / 85D-Slow</th>\n",
              "      <th>20D-Fast / 90D-Slow</th>\n",
              "      <th>20D-Fast / 95D-Slow</th>\n",
              "    </tr>\n",
              "    <tr>\n",
              "      <th>Stats</th>\n",
              "      <th></th>\n",
              "      <th></th>\n",
              "      <th></th>\n",
              "      <th></th>\n",
              "      <th></th>\n",
              "      <th></th>\n",
              "      <th></th>\n",
              "      <th></th>\n",
              "      <th></th>\n",
              "      <th></th>\n",
              "      <th></th>\n",
              "      <th></th>\n",
              "      <th></th>\n",
              "      <th></th>\n",
              "      <th></th>\n",
              "      <th></th>\n",
              "      <th></th>\n",
              "      <th></th>\n",
              "      <th></th>\n",
              "      <th></th>\n",
              "      <th></th>\n",
              "      <th></th>\n",
              "      <th></th>\n",
              "      <th></th>\n",
              "      <th></th>\n",
              "      <th></th>\n",
              "      <th></th>\n",
              "      <th></th>\n",
              "      <th></th>\n",
              "      <th></th>\n",
              "      <th></th>\n",
              "      <th></th>\n",
              "      <th></th>\n",
              "      <th></th>\n",
              "      <th></th>\n",
              "      <th></th>\n",
              "      <th></th>\n",
              "      <th></th>\n",
              "      <th></th>\n",
              "      <th></th>\n",
              "      <th></th>\n",
              "      <th></th>\n",
              "      <th></th>\n",
              "      <th></th>\n",
              "      <th></th>\n",
              "      <th></th>\n",
              "      <th></th>\n",
              "      <th></th>\n",
              "      <th></th>\n",
              "      <th></th>\n",
              "      <th></th>\n",
              "      <th></th>\n",
              "      <th></th>\n",
              "      <th></th>\n",
              "      <th></th>\n",
              "      <th></th>\n",
              "      <th></th>\n",
              "      <th></th>\n",
              "      <th></th>\n",
              "      <th></th>\n",
              "      <th></th>\n",
              "    </tr>\n",
              "  </thead>\n",
              "  <tbody>\n",
              "    <tr>\n",
              "      <th>Cumsum (2Y)</th>\n",
              "      <td>2.440902</td>\n",
              "      <td>1.415189</td>\n",
              "      <td>1.066852</td>\n",
              "      <td>0.934105</td>\n",
              "      <td>0.869907</td>\n",
              "      <td>0.734121</td>\n",
              "      <td>1.050993</td>\n",
              "      <td>1.356359</td>\n",
              "      <td>1.032960</td>\n",
              "      <td>1.215757</td>\n",
              "      <td>0.924320</td>\n",
              "      <td>0.713890</td>\n",
              "      <td>0.759824</td>\n",
              "      <td>0.790872</td>\n",
              "      <td>0.641866</td>\n",
              "      <td>1.035486</td>\n",
              "      <td>1.201322</td>\n",
              "      <td>1.079217</td>\n",
              "      <td>1.185653</td>\n",
              "      <td>0.803095</td>\n",
              "      <td>1.051398</td>\n",
              "      <td>0.993400</td>\n",
              "      <td>1.188701</td>\n",
              "      <td>1.500449</td>\n",
              "      <td>1.656321</td>\n",
              "      <td>1.155210</td>\n",
              "      <td>1.058787</td>\n",
              "      <td>1.372262</td>\n",
              "      <td>0.917262</td>\n",
              "      <td>0.672849</td>\n",
              "      <td>0.540894</td>\n",
              "      <td>1.247909</td>\n",
              "      <td>0.714452</td>\n",
              "      <td>0.724493</td>\n",
              "      <td>0.981143</td>\n",
              "      <td>0.939033</td>\n",
              "      <td>1.508836</td>\n",
              "      <td>1.214607</td>\n",
              "      <td>1.009254</td>\n",
              "      <td>1.315640</td>\n",
              "      <td>1.150661</td>\n",
              "      <td>0.652046</td>\n",
              "      <td>0.581616</td>\n",
              "      <td>0.661231</td>\n",
              "      <td>1.114738</td>\n",
              "      <td>0.477598</td>\n",
              "      <td>0.693692</td>\n",
              "      <td>0.909914</td>\n",
              "      <td>0.927923</td>\n",
              "      <td>1.030095</td>\n",
              "      <td>1.330748</td>\n",
              "      <td>0.837023</td>\n",
              "      <td>1.075875</td>\n",
              "      <td>1.012874</td>\n",
              "      <td>0.579529</td>\n",
              "      <td>0.633694</td>\n",
              "      <td>0.896788</td>\n",
              "      <td>0.364989</td>\n",
              "      <td>0.364372</td>\n",
              "      <td>0.418568</td>\n",
              "      <td>0.443966</td>\n",
              "    </tr>\n",
              "    <tr>\n",
              "      <th>CAGR</th>\n",
              "      <td>0.854967</td>\n",
              "      <td>0.554088</td>\n",
              "      <td>0.437655</td>\n",
              "      <td>0.390721</td>\n",
              "      <td>0.367445</td>\n",
              "      <td>0.316860</td>\n",
              "      <td>0.432129</td>\n",
              "      <td>0.535044</td>\n",
              "      <td>0.425819</td>\n",
              "      <td>0.488542</td>\n",
              "      <td>0.387199</td>\n",
              "      <td>0.309156</td>\n",
              "      <td>0.326584</td>\n",
              "      <td>0.338235</td>\n",
              "      <td>0.281353</td>\n",
              "      <td>0.426704</td>\n",
              "      <td>0.483685</td>\n",
              "      <td>0.441949</td>\n",
              "      <td>0.478395</td>\n",
              "      <td>0.342794</td>\n",
              "      <td>0.432270</td>\n",
              "      <td>0.411878</td>\n",
              "      <td>0.479426</td>\n",
              "      <td>0.581281</td>\n",
              "      <td>0.629822</td>\n",
              "      <td>0.468063</td>\n",
              "      <td>0.434847</td>\n",
              "      <td>0.540215</td>\n",
              "      <td>0.384652</td>\n",
              "      <td>0.293387</td>\n",
              "      <td>0.241327</td>\n",
              "      <td>0.499303</td>\n",
              "      <td>0.309371</td>\n",
              "      <td>0.313200</td>\n",
              "      <td>0.407531</td>\n",
              "      <td>0.392492</td>\n",
              "      <td>0.583930</td>\n",
              "      <td>0.488156</td>\n",
              "      <td>0.417482</td>\n",
              "      <td>0.521723</td>\n",
              "      <td>0.466513</td>\n",
              "      <td>0.285320</td>\n",
              "      <td>0.257623</td>\n",
              "      <td>0.288888</td>\n",
              "      <td>0.454214</td>\n",
              "      <td>0.215565</td>\n",
              "      <td>0.301419</td>\n",
              "      <td>0.381996</td>\n",
              "      <td>0.388497</td>\n",
              "      <td>0.424814</td>\n",
              "      <td>0.526679</td>\n",
              "      <td>0.355368</td>\n",
              "      <td>0.440790</td>\n",
              "      <td>0.418758</td>\n",
              "      <td>0.256793</td>\n",
              "      <td>0.278160</td>\n",
              "      <td>0.377239</td>\n",
              "      <td>0.168327</td>\n",
              "      <td>0.168063</td>\n",
              "      <td>0.191037</td>\n",
              "      <td>0.201651</td>\n",
              "    </tr>\n",
              "    <tr>\n",
              "      <th>Mean</th>\n",
              "      <td>0.002734</td>\n",
              "      <td>0.002265</td>\n",
              "      <td>0.001933</td>\n",
              "      <td>0.001693</td>\n",
              "      <td>0.001587</td>\n",
              "      <td>0.001471</td>\n",
              "      <td>0.001853</td>\n",
              "      <td>0.002152</td>\n",
              "      <td>0.001797</td>\n",
              "      <td>0.001969</td>\n",
              "      <td>0.001716</td>\n",
              "      <td>0.001745</td>\n",
              "      <td>0.001791</td>\n",
              "      <td>0.001834</td>\n",
              "      <td>0.001664</td>\n",
              "      <td>0.002044</td>\n",
              "      <td>0.001947</td>\n",
              "      <td>0.001817</td>\n",
              "      <td>0.002028</td>\n",
              "      <td>0.001551</td>\n",
              "      <td>0.001823</td>\n",
              "      <td>0.001762</td>\n",
              "      <td>0.001999</td>\n",
              "      <td>0.002471</td>\n",
              "      <td>0.002640</td>\n",
              "      <td>0.002160</td>\n",
              "      <td>0.002071</td>\n",
              "      <td>0.002407</td>\n",
              "      <td>0.001959</td>\n",
              "      <td>0.001683</td>\n",
              "      <td>0.001526</td>\n",
              "      <td>0.002037</td>\n",
              "      <td>0.001450</td>\n",
              "      <td>0.001532</td>\n",
              "      <td>0.001735</td>\n",
              "      <td>0.001706</td>\n",
              "      <td>0.002532</td>\n",
              "      <td>0.002240</td>\n",
              "      <td>0.001997</td>\n",
              "      <td>0.002337</td>\n",
              "      <td>0.002160</td>\n",
              "      <td>0.001586</td>\n",
              "      <td>0.001506</td>\n",
              "      <td>0.001652</td>\n",
              "      <td>0.002196</td>\n",
              "      <td>0.001397</td>\n",
              "      <td>0.001449</td>\n",
              "      <td>0.001663</td>\n",
              "      <td>0.001682</td>\n",
              "      <td>0.001828</td>\n",
              "      <td>0.002337</td>\n",
              "      <td>0.001777</td>\n",
              "      <td>0.002066</td>\n",
              "      <td>0.001994</td>\n",
              "      <td>0.001476</td>\n",
              "      <td>0.001540</td>\n",
              "      <td>0.001893</td>\n",
              "      <td>0.001197</td>\n",
              "      <td>0.001196</td>\n",
              "      <td>0.001285</td>\n",
              "      <td>0.001354</td>\n",
              "    </tr>\n",
              "    <tr>\n",
              "      <th>Median</th>\n",
              "      <td>0.002548</td>\n",
              "      <td>0.000000</td>\n",
              "      <td>0.000000</td>\n",
              "      <td>0.000000</td>\n",
              "      <td>0.000000</td>\n",
              "      <td>0.000000</td>\n",
              "      <td>0.000000</td>\n",
              "      <td>0.000000</td>\n",
              "      <td>0.000000</td>\n",
              "      <td>0.000000</td>\n",
              "      <td>0.000000</td>\n",
              "      <td>0.000000</td>\n",
              "      <td>0.000000</td>\n",
              "      <td>0.000000</td>\n",
              "      <td>0.000000</td>\n",
              "      <td>0.000000</td>\n",
              "      <td>0.000000</td>\n",
              "      <td>0.000000</td>\n",
              "      <td>0.000000</td>\n",
              "      <td>0.000000</td>\n",
              "      <td>0.000000</td>\n",
              "      <td>0.000000</td>\n",
              "      <td>0.000000</td>\n",
              "      <td>0.000000</td>\n",
              "      <td>0.000000</td>\n",
              "      <td>0.000000</td>\n",
              "      <td>0.000000</td>\n",
              "      <td>0.000000</td>\n",
              "      <td>0.000000</td>\n",
              "      <td>0.000000</td>\n",
              "      <td>0.000000</td>\n",
              "      <td>0.000000</td>\n",
              "      <td>0.000000</td>\n",
              "      <td>0.000000</td>\n",
              "      <td>0.000000</td>\n",
              "      <td>0.000000</td>\n",
              "      <td>0.000000</td>\n",
              "      <td>0.000000</td>\n",
              "      <td>0.000000</td>\n",
              "      <td>0.000000</td>\n",
              "      <td>0.000000</td>\n",
              "      <td>0.000000</td>\n",
              "      <td>0.000000</td>\n",
              "      <td>0.000000</td>\n",
              "      <td>0.000000</td>\n",
              "      <td>0.000000</td>\n",
              "      <td>0.000000</td>\n",
              "      <td>0.000000</td>\n",
              "      <td>0.000000</td>\n",
              "      <td>0.000000</td>\n",
              "      <td>0.000000</td>\n",
              "      <td>0.000000</td>\n",
              "      <td>0.000000</td>\n",
              "      <td>0.000000</td>\n",
              "      <td>0.000000</td>\n",
              "      <td>0.000000</td>\n",
              "      <td>0.000000</td>\n",
              "      <td>0.000000</td>\n",
              "      <td>0.000000</td>\n",
              "      <td>0.000000</td>\n",
              "      <td>0.000000</td>\n",
              "    </tr>\n",
              "    <tr>\n",
              "      <th>Max</th>\n",
              "      <td>0.119808</td>\n",
              "      <td>0.679252</td>\n",
              "      <td>0.646926</td>\n",
              "      <td>0.544514</td>\n",
              "      <td>0.495522</td>\n",
              "      <td>0.495522</td>\n",
              "      <td>0.516058</td>\n",
              "      <td>0.537834</td>\n",
              "      <td>0.536562</td>\n",
              "      <td>0.536562</td>\n",
              "      <td>0.560154</td>\n",
              "      <td>0.877707</td>\n",
              "      <td>0.877707</td>\n",
              "      <td>0.877707</td>\n",
              "      <td>0.877707</td>\n",
              "      <td>0.877707</td>\n",
              "      <td>0.544514</td>\n",
              "      <td>0.509298</td>\n",
              "      <td>0.555068</td>\n",
              "      <td>0.501324</td>\n",
              "      <td>0.546697</td>\n",
              "      <td>0.545418</td>\n",
              "      <td>0.613477</td>\n",
              "      <td>0.887395</td>\n",
              "      <td>0.887395</td>\n",
              "      <td>0.887395</td>\n",
              "      <td>0.887395</td>\n",
              "      <td>0.887395</td>\n",
              "      <td>0.887395</td>\n",
              "      <td>0.941883</td>\n",
              "      <td>0.934358</td>\n",
              "      <td>0.523251</td>\n",
              "      <td>0.521975</td>\n",
              "      <td>0.634001</td>\n",
              "      <td>0.544490</td>\n",
              "      <td>0.567096</td>\n",
              "      <td>0.886062</td>\n",
              "      <td>0.917137</td>\n",
              "      <td>0.856171</td>\n",
              "      <td>0.856171</td>\n",
              "      <td>0.856171</td>\n",
              "      <td>0.856171</td>\n",
              "      <td>0.856171</td>\n",
              "      <td>0.917137</td>\n",
              "      <td>0.917137</td>\n",
              "      <td>0.886062</td>\n",
              "      <td>0.554236</td>\n",
              "      <td>0.545768</td>\n",
              "      <td>0.543399</td>\n",
              "      <td>0.542260</td>\n",
              "      <td>0.856171</td>\n",
              "      <td>0.817822</td>\n",
              "      <td>0.817822</td>\n",
              "      <td>0.817822</td>\n",
              "      <td>0.817822</td>\n",
              "      <td>0.817822</td>\n",
              "      <td>0.817822</td>\n",
              "      <td>0.817822</td>\n",
              "      <td>0.817822</td>\n",
              "      <td>0.817822</td>\n",
              "      <td>0.856171</td>\n",
              "    </tr>\n",
              "    <tr>\n",
              "      <th>Min</th>\n",
              "      <td>-0.128647</td>\n",
              "      <td>-0.084949</td>\n",
              "      <td>-0.084949</td>\n",
              "      <td>-0.069198</td>\n",
              "      <td>-0.070414</td>\n",
              "      <td>-0.093423</td>\n",
              "      <td>-0.102964</td>\n",
              "      <td>-0.102964</td>\n",
              "      <td>-0.103343</td>\n",
              "      <td>-0.083719</td>\n",
              "      <td>-0.106829</td>\n",
              "      <td>-0.120797</td>\n",
              "      <td>-0.109233</td>\n",
              "      <td>-0.112082</td>\n",
              "      <td>-0.118314</td>\n",
              "      <td>-0.116279</td>\n",
              "      <td>-0.053951</td>\n",
              "      <td>-0.090416</td>\n",
              "      <td>-0.092181</td>\n",
              "      <td>-0.102964</td>\n",
              "      <td>-0.103343</td>\n",
              "      <td>-0.094327</td>\n",
              "      <td>-0.086771</td>\n",
              "      <td>-0.083782</td>\n",
              "      <td>-0.087852</td>\n",
              "      <td>-0.108012</td>\n",
              "      <td>-0.112082</td>\n",
              "      <td>-0.112718</td>\n",
              "      <td>-0.116279</td>\n",
              "      <td>-0.137711</td>\n",
              "      <td>-0.150493</td>\n",
              "      <td>-0.094815</td>\n",
              "      <td>-0.102964</td>\n",
              "      <td>-0.103343</td>\n",
              "      <td>-0.093084</td>\n",
              "      <td>-0.086771</td>\n",
              "      <td>-0.083782</td>\n",
              "      <td>-0.094021</td>\n",
              "      <td>-0.108012</td>\n",
              "      <td>-0.112082</td>\n",
              "      <td>-0.112718</td>\n",
              "      <td>-0.159127</td>\n",
              "      <td>-0.159127</td>\n",
              "      <td>-0.150493</td>\n",
              "      <td>-0.150493</td>\n",
              "      <td>-0.169110</td>\n",
              "      <td>-0.102964</td>\n",
              "      <td>-0.092181</td>\n",
              "      <td>-0.093084</td>\n",
              "      <td>-0.104587</td>\n",
              "      <td>-0.104587</td>\n",
              "      <td>-0.108845</td>\n",
              "      <td>-0.113449</td>\n",
              "      <td>-0.112718</td>\n",
              "      <td>-0.183580</td>\n",
              "      <td>-0.183580</td>\n",
              "      <td>-0.150493</td>\n",
              "      <td>-0.212997</td>\n",
              "      <td>-0.212997</td>\n",
              "      <td>-0.168427</td>\n",
              "      <td>-0.183626</td>\n",
              "    </tr>\n",
              "    <tr>\n",
              "      <th>St. dev.</th>\n",
              "      <td>0.023808</td>\n",
              "      <td>0.037392</td>\n",
              "      <td>0.036300</td>\n",
              "      <td>0.031425</td>\n",
              "      <td>0.029561</td>\n",
              "      <td>0.030980</td>\n",
              "      <td>0.033336</td>\n",
              "      <td>0.034458</td>\n",
              "      <td>0.031669</td>\n",
              "      <td>0.031787</td>\n",
              "      <td>0.032841</td>\n",
              "      <td>0.044369</td>\n",
              "      <td>0.044232</td>\n",
              "      <td>0.044519</td>\n",
              "      <td>0.044555</td>\n",
              "      <td>0.043335</td>\n",
              "      <td>0.031377</td>\n",
              "      <td>0.030419</td>\n",
              "      <td>0.035411</td>\n",
              "      <td>0.031142</td>\n",
              "      <td>0.032082</td>\n",
              "      <td>0.031944</td>\n",
              "      <td>0.034395</td>\n",
              "      <td>0.044125</td>\n",
              "      <td>0.045723</td>\n",
              "      <td>0.043520</td>\n",
              "      <td>0.043559</td>\n",
              "      <td>0.045382</td>\n",
              "      <td>0.044480</td>\n",
              "      <td>0.044773</td>\n",
              "      <td>0.044721</td>\n",
              "      <td>0.033484</td>\n",
              "      <td>0.031016</td>\n",
              "      <td>0.034578</td>\n",
              "      <td>0.031240</td>\n",
              "      <td>0.031923</td>\n",
              "      <td>0.045833</td>\n",
              "      <td>0.044694</td>\n",
              "      <td>0.042382</td>\n",
              "      <td>0.044402</td>\n",
              "      <td>0.043359</td>\n",
              "      <td>0.041386</td>\n",
              "      <td>0.041510</td>\n",
              "      <td>0.043864</td>\n",
              "      <td>0.046020</td>\n",
              "      <td>0.042568</td>\n",
              "      <td>0.032145</td>\n",
              "      <td>0.031261</td>\n",
              "      <td>0.031271</td>\n",
              "      <td>0.033205</td>\n",
              "      <td>0.043942</td>\n",
              "      <td>0.040493</td>\n",
              "      <td>0.042173</td>\n",
              "      <td>0.041791</td>\n",
              "      <td>0.040151</td>\n",
              "      <td>0.040077</td>\n",
              "      <td>0.042231</td>\n",
              "      <td>0.040161</td>\n",
              "      <td>0.040159</td>\n",
              "      <td>0.040705</td>\n",
              "      <td>0.042223</td>\n",
              "    </tr>\n",
              "    <tr>\n",
              "      <th>Skew</th>\n",
              "      <td>-0.200554</td>\n",
              "      <td>14.991683</td>\n",
              "      <td>14.598168</td>\n",
              "      <td>14.075665</td>\n",
              "      <td>13.804012</td>\n",
              "      <td>13.316709</td>\n",
              "      <td>13.895173</td>\n",
              "      <td>14.077441</td>\n",
              "      <td>14.056424</td>\n",
              "      <td>14.113747</td>\n",
              "      <td>13.856871</td>\n",
              "      <td>16.799068</td>\n",
              "      <td>16.962405</td>\n",
              "      <td>16.830632</td>\n",
              "      <td>16.791671</td>\n",
              "      <td>17.812433</td>\n",
              "      <td>14.222628</td>\n",
              "      <td>13.517432</td>\n",
              "      <td>13.883700</td>\n",
              "      <td>13.462915</td>\n",
              "      <td>14.194936</td>\n",
              "      <td>14.315174</td>\n",
              "      <td>14.894202</td>\n",
              "      <td>17.716790</td>\n",
              "      <td>16.969659</td>\n",
              "      <td>18.009520</td>\n",
              "      <td>17.951028</td>\n",
              "      <td>17.041515</td>\n",
              "      <td>17.398146</td>\n",
              "      <td>18.811963</td>\n",
              "      <td>18.401511</td>\n",
              "      <td>13.998639</td>\n",
              "      <td>13.368136</td>\n",
              "      <td>14.939531</td>\n",
              "      <td>14.277881</td>\n",
              "      <td>14.611002</td>\n",
              "      <td>16.846103</td>\n",
              "      <td>18.254800</td>\n",
              "      <td>17.666900</td>\n",
              "      <td>16.774510</td>\n",
              "      <td>17.200078</td>\n",
              "      <td>17.978420</td>\n",
              "      <td>17.793362</td>\n",
              "      <td>18.476294</td>\n",
              "      <td>17.287377</td>\n",
              "      <td>18.015867</td>\n",
              "      <td>13.690822</td>\n",
              "      <td>14.280642</td>\n",
              "      <td>14.261339</td>\n",
              "      <td>14.137795</td>\n",
              "      <td>16.915399</td>\n",
              "      <td>17.452907</td>\n",
              "      <td>16.693701</td>\n",
              "      <td>16.894197</td>\n",
              "      <td>17.241301</td>\n",
              "      <td>17.352063</td>\n",
              "      <td>16.497925</td>\n",
              "      <td>16.781172</td>\n",
              "      <td>16.782376</td>\n",
              "      <td>16.619445</td>\n",
              "      <td>17.008398</td>\n",
              "    </tr>\n",
              "    <tr>\n",
              "      <th>Kurtosis</th>\n",
              "      <td>5.826841</td>\n",
              "      <td>246.773813</td>\n",
              "      <td>235.898090</td>\n",
              "      <td>219.777375</td>\n",
              "      <td>210.031923</td>\n",
              "      <td>198.883192</td>\n",
              "      <td>208.947388</td>\n",
              "      <td>212.166143</td>\n",
              "      <td>218.288839</td>\n",
              "      <td>215.298042</td>\n",
              "      <td>215.467032</td>\n",
              "      <td>314.570375</td>\n",
              "      <td>318.254863</td>\n",
              "      <td>312.491697</td>\n",
              "      <td>311.746528</td>\n",
              "      <td>341.992767</td>\n",
              "      <td>221.005542</td>\n",
              "      <td>203.572116</td>\n",
              "      <td>207.873513</td>\n",
              "      <td>202.624901</td>\n",
              "      <td>221.614090</td>\n",
              "      <td>223.898607</td>\n",
              "      <td>240.308603</td>\n",
              "      <td>334.755124</td>\n",
              "      <td>304.156935</td>\n",
              "      <td>349.164949</td>\n",
              "      <td>348.051740</td>\n",
              "      <td>309.592157</td>\n",
              "      <td>326.588172</td>\n",
              "      <td>387.294743</td>\n",
              "      <td>377.272376</td>\n",
              "      <td>209.744409</td>\n",
              "      <td>205.658897</td>\n",
              "      <td>252.150034</td>\n",
              "      <td>226.538969</td>\n",
              "      <td>236.903403</td>\n",
              "      <td>300.521977</td>\n",
              "      <td>356.876847</td>\n",
              "      <td>338.477713</td>\n",
              "      <td>298.841115</td>\n",
              "      <td>317.407412</td>\n",
              "      <td>363.795431</td>\n",
              "      <td>359.679475</td>\n",
              "      <td>378.390952</td>\n",
              "      <td>324.905142</td>\n",
              "      <td>371.450336</td>\n",
              "      <td>215.081127</td>\n",
              "      <td>227.706278</td>\n",
              "      <td>226.248757</td>\n",
              "      <td>216.634326</td>\n",
              "      <td>306.001479</td>\n",
              "      <td>336.546638</td>\n",
              "      <td>301.067600</td>\n",
              "      <td>308.520292</td>\n",
              "      <td>343.869925</td>\n",
              "      <td>346.280451</td>\n",
              "      <td>298.479525</td>\n",
              "      <td>342.362751</td>\n",
              "      <td>342.430448</td>\n",
              "      <td>327.087312</td>\n",
              "      <td>338.024572</td>\n",
              "    </tr>\n",
              "  </tbody>\n",
              "</table>\n",
              "</div>"
            ],
            "text/plain": [
              "             Buy & Hold  ...  20D-Fast / 95D-Slow\n",
              "Stats                    ...                     \n",
              "Cumsum (2Y)    2.440902  ...             0.443966\n",
              "CAGR           0.854967  ...             0.201651\n",
              "Mean           0.002734  ...             0.001354\n",
              "Median         0.002548  ...             0.000000\n",
              "Max            0.119808  ...             0.856171\n",
              "Min           -0.128647  ...            -0.183626\n",
              "St. dev.       0.023808  ...             0.042223\n",
              "Skew          -0.200554  ...            17.008398\n",
              "Kurtosis       5.826841  ...           338.024572\n",
              "\n",
              "[9 rows x 61 columns]"
            ]
          },
          "metadata": {
            "tags": []
          },
          "execution_count": 22
        }
      ]
    },
    {
      "cell_type": "code",
      "metadata": {
        "colab": {
          "base_uri": "https://localhost:8080/"
        },
        "id": "VunNPnYgh4fQ",
        "outputId": "c1a79556-b7a0-4750-9c54-97737b226532"
      },
      "source": [
        "stats_table.loc[\"Cumsum (2Y)\", :].nlargest(5)"
      ],
      "execution_count": 23,
      "outputs": [
        {
          "output_type": "execute_result",
          "data": {
            "text/plain": [
              "Buy & Hold             2.440902\n",
              "10D-Fast / 65D-Slow    1.656321\n",
              "15D-Fast / 50D-Slow    1.508836\n",
              "10D-Fast / 60D-Slow    1.500449\n",
              "5D-Fast / 25D-Slow     1.415189\n",
              "Name: Cumsum (2Y), dtype: float64"
            ]
          },
          "metadata": {
            "tags": []
          },
          "execution_count": 23
        }
      ]
    },
    {
      "cell_type": "code",
      "metadata": {
        "colab": {
          "base_uri": "https://localhost:8080/"
        },
        "id": "4M6Q6Tp9j-X_",
        "outputId": "c5033fb2-978b-4b0b-9da9-5b13c8f4cc80"
      },
      "source": [
        "stats_table.loc[\"Mean\", :].nlargest(5)"
      ],
      "execution_count": 24,
      "outputs": [
        {
          "output_type": "execute_result",
          "data": {
            "text/plain": [
              "Buy & Hold             0.002734\n",
              "10D-Fast / 65D-Slow    0.002640\n",
              "15D-Fast / 50D-Slow    0.002532\n",
              "10D-Fast / 60D-Slow    0.002471\n",
              "10D-Fast / 80D-Slow    0.002407\n",
              "Name: Mean, dtype: float64"
            ]
          },
          "metadata": {
            "tags": []
          },
          "execution_count": 24
        }
      ]
    },
    {
      "cell_type": "code",
      "metadata": {
        "colab": {
          "base_uri": "https://localhost:8080/"
        },
        "id": "qBuHKKoxkOg_",
        "outputId": "dffff188-54aa-4521-95c1-33789cf88ad2"
      },
      "source": [
        "stats_table.loc[\"St. dev.\", :].nsmallest(5)"
      ],
      "execution_count": 25,
      "outputs": [
        {
          "output_type": "execute_result",
          "data": {
            "text/plain": [
              "Buy & Hold             0.023808\n",
              "5D-Fast / 40D-Slow     0.029561\n",
              "10D-Fast / 30D-Slow    0.030419\n",
              "5D-Fast / 45D-Slow     0.030980\n",
              "15D-Fast / 30D-Slow    0.031016\n",
              "Name: St. dev., dtype: float64"
            ]
          },
          "metadata": {
            "tags": []
          },
          "execution_count": 25
        }
      ]
    },
    {
      "cell_type": "code",
      "metadata": {
        "id": "p6azBRLwkSxT"
      },
      "source": [
        ""
      ],
      "execution_count": 25,
      "outputs": []
    }
  ]
}