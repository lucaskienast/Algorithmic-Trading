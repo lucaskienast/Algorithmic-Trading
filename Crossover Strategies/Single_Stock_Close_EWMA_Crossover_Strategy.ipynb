{
  "nbformat": 4,
  "nbformat_minor": 0,
  "metadata": {
    "colab": {
      "name": "Single Stock Close-EWMA Crossover Strategy.ipynb",
      "provenance": [],
      "collapsed_sections": [],
      "authorship_tag": "ABX9TyOhzefoxi41iBHh2kCNhd0M"
    },
    "kernelspec": {
      "name": "python3",
      "display_name": "Python 3"
    },
    "language_info": {
      "name": "python"
    }
  },
  "cells": [
    {
      "cell_type": "markdown",
      "metadata": {
        "id": "-KsjVTx_F72a"
      },
      "source": [
        "# Single Stock Close-EWMA Crossover Strategy\n",
        "\n",
        "- long when close > EWMA21 (i.e. close crosses above close)\n",
        "- short when close < EWMA21 (i.e. close crosses below close)"
      ]
    },
    {
      "cell_type": "markdown",
      "metadata": {
        "id": "iMwoprL1GOTu"
      },
      "source": [
        "## Import libraries"
      ]
    },
    {
      "cell_type": "code",
      "metadata": {
        "id": "hCX8U7uJHzT1",
        "colab": {
          "base_uri": "https://localhost:8080/"
        },
        "executionInfo": {
          "status": "ok",
          "timestamp": 1628779284520,
          "user_tz": -120,
          "elapsed": 3026,
          "user": {
            "displayName": "Max Lucas Kienast",
            "photoUrl": "",
            "userId": "18136220580306165387"
          }
        },
        "outputId": "72fa1ec4-1728-41f6-ad3d-8210dd6fe35b"
      },
      "source": [
        "pip install yfinance"
      ],
      "execution_count": 1,
      "outputs": [
        {
          "output_type": "stream",
          "text": [
            "Requirement already satisfied: yfinance in /usr/local/lib/python3.7/dist-packages (0.1.63)\n",
            "Requirement already satisfied: multitasking>=0.0.7 in /usr/local/lib/python3.7/dist-packages (from yfinance) (0.0.9)\n",
            "Requirement already satisfied: pandas>=0.24 in /usr/local/lib/python3.7/dist-packages (from yfinance) (1.1.5)\n",
            "Requirement already satisfied: numpy>=1.15 in /usr/local/lib/python3.7/dist-packages (from yfinance) (1.19.5)\n",
            "Requirement already satisfied: lxml>=4.5.1 in /usr/local/lib/python3.7/dist-packages (from yfinance) (4.6.3)\n",
            "Requirement already satisfied: requests>=2.20 in /usr/local/lib/python3.7/dist-packages (from yfinance) (2.23.0)\n",
            "Requirement already satisfied: python-dateutil>=2.7.3 in /usr/local/lib/python3.7/dist-packages (from pandas>=0.24->yfinance) (2.8.1)\n",
            "Requirement already satisfied: pytz>=2017.2 in /usr/local/lib/python3.7/dist-packages (from pandas>=0.24->yfinance) (2018.9)\n",
            "Requirement already satisfied: six>=1.5 in /usr/local/lib/python3.7/dist-packages (from python-dateutil>=2.7.3->pandas>=0.24->yfinance) (1.15.0)\n",
            "Requirement already satisfied: certifi>=2017.4.17 in /usr/local/lib/python3.7/dist-packages (from requests>=2.20->yfinance) (2021.5.30)\n",
            "Requirement already satisfied: urllib3!=1.25.0,!=1.25.1,<1.26,>=1.21.1 in /usr/local/lib/python3.7/dist-packages (from requests>=2.20->yfinance) (1.24.3)\n",
            "Requirement already satisfied: chardet<4,>=3.0.2 in /usr/local/lib/python3.7/dist-packages (from requests>=2.20->yfinance) (3.0.4)\n",
            "Requirement already satisfied: idna<3,>=2.5 in /usr/local/lib/python3.7/dist-packages (from requests>=2.20->yfinance) (2.10)\n"
          ],
          "name": "stdout"
        }
      ]
    },
    {
      "cell_type": "code",
      "metadata": {
        "id": "gqhLxK5DjGw7",
        "executionInfo": {
          "status": "ok",
          "timestamp": 1628779284853,
          "user_tz": -120,
          "elapsed": 336,
          "user": {
            "displayName": "Max Lucas Kienast",
            "photoUrl": "",
            "userId": "18136220580306165387"
          }
        }
      },
      "source": [
        "import numpy as np\n",
        "import pandas as pd\n",
        "import yfinance as yf\n",
        "import matplotlib.pyplot as plt\n",
        "from scipy.stats import skew\n",
        "from scipy.stats import kurtosis\n",
        "plt.style.use(\"seaborn-whitegrid\")"
      ],
      "execution_count": 2,
      "outputs": []
    },
    {
      "cell_type": "markdown",
      "metadata": {
        "id": "sV7hF89cGSC9"
      },
      "source": [
        "## Load stock data"
      ]
    },
    {
      "cell_type": "code",
      "metadata": {
        "colab": {
          "base_uri": "https://localhost:8080/",
          "height": 467
        },
        "id": "kSV0LEVyjIhi",
        "executionInfo": {
          "status": "ok",
          "timestamp": 1628779285544,
          "user_tz": -120,
          "elapsed": 693,
          "user": {
            "displayName": "Max Lucas Kienast",
            "photoUrl": "",
            "userId": "18136220580306165387"
          }
        },
        "outputId": "ecefa87c-745c-4de7-b08e-2df2dc1b141c"
      },
      "source": [
        "ticker = \"AAPL\"\n",
        "aapl_df = yf.download(tickers=ticker, period=\"max\", interval=\"1d\", group_by=\"ticker\", auto_adjust=True)\n",
        "aapl_df"
      ],
      "execution_count": 3,
      "outputs": [
        {
          "output_type": "stream",
          "text": [
            "\r[*********************100%***********************]  1 of 1 completed\n"
          ],
          "name": "stdout"
        },
        {
          "output_type": "execute_result",
          "data": {
            "text/html": [
              "<div>\n",
              "<style scoped>\n",
              "    .dataframe tbody tr th:only-of-type {\n",
              "        vertical-align: middle;\n",
              "    }\n",
              "\n",
              "    .dataframe tbody tr th {\n",
              "        vertical-align: top;\n",
              "    }\n",
              "\n",
              "    .dataframe thead th {\n",
              "        text-align: right;\n",
              "    }\n",
              "</style>\n",
              "<table border=\"1\" class=\"dataframe\">\n",
              "  <thead>\n",
              "    <tr style=\"text-align: right;\">\n",
              "      <th></th>\n",
              "      <th>Open</th>\n",
              "      <th>High</th>\n",
              "      <th>Low</th>\n",
              "      <th>Close</th>\n",
              "      <th>Volume</th>\n",
              "    </tr>\n",
              "    <tr>\n",
              "      <th>Date</th>\n",
              "      <th></th>\n",
              "      <th></th>\n",
              "      <th></th>\n",
              "      <th></th>\n",
              "      <th></th>\n",
              "    </tr>\n",
              "  </thead>\n",
              "  <tbody>\n",
              "    <tr>\n",
              "      <th>1980-12-12</th>\n",
              "      <td>0.100600</td>\n",
              "      <td>0.101037</td>\n",
              "      <td>0.100600</td>\n",
              "      <td>0.100600</td>\n",
              "      <td>469033600</td>\n",
              "    </tr>\n",
              "    <tr>\n",
              "      <th>1980-12-15</th>\n",
              "      <td>0.095789</td>\n",
              "      <td>0.095789</td>\n",
              "      <td>0.095352</td>\n",
              "      <td>0.095352</td>\n",
              "      <td>175884800</td>\n",
              "    </tr>\n",
              "    <tr>\n",
              "      <th>1980-12-16</th>\n",
              "      <td>0.088790</td>\n",
              "      <td>0.088790</td>\n",
              "      <td>0.088353</td>\n",
              "      <td>0.088353</td>\n",
              "      <td>105728000</td>\n",
              "    </tr>\n",
              "    <tr>\n",
              "      <th>1980-12-17</th>\n",
              "      <td>0.090540</td>\n",
              "      <td>0.090977</td>\n",
              "      <td>0.090540</td>\n",
              "      <td>0.090540</td>\n",
              "      <td>86441600</td>\n",
              "    </tr>\n",
              "    <tr>\n",
              "      <th>1980-12-18</th>\n",
              "      <td>0.093165</td>\n",
              "      <td>0.093602</td>\n",
              "      <td>0.093165</td>\n",
              "      <td>0.093165</td>\n",
              "      <td>73449600</td>\n",
              "    </tr>\n",
              "    <tr>\n",
              "      <th>...</th>\n",
              "      <td>...</td>\n",
              "      <td>...</td>\n",
              "      <td>...</td>\n",
              "      <td>...</td>\n",
              "      <td>...</td>\n",
              "    </tr>\n",
              "    <tr>\n",
              "      <th>2021-08-06</th>\n",
              "      <td>146.350006</td>\n",
              "      <td>147.110001</td>\n",
              "      <td>145.630005</td>\n",
              "      <td>146.139999</td>\n",
              "      <td>54067400</td>\n",
              "    </tr>\n",
              "    <tr>\n",
              "      <th>2021-08-09</th>\n",
              "      <td>146.199997</td>\n",
              "      <td>146.699997</td>\n",
              "      <td>145.520004</td>\n",
              "      <td>146.089996</td>\n",
              "      <td>48908700</td>\n",
              "    </tr>\n",
              "    <tr>\n",
              "      <th>2021-08-10</th>\n",
              "      <td>146.440002</td>\n",
              "      <td>147.710007</td>\n",
              "      <td>145.300003</td>\n",
              "      <td>145.600006</td>\n",
              "      <td>68922200</td>\n",
              "    </tr>\n",
              "    <tr>\n",
              "      <th>2021-08-11</th>\n",
              "      <td>146.050003</td>\n",
              "      <td>146.720001</td>\n",
              "      <td>145.529999</td>\n",
              "      <td>145.860001</td>\n",
              "      <td>48422100</td>\n",
              "    </tr>\n",
              "    <tr>\n",
              "      <th>2021-08-12</th>\n",
              "      <td>146.190002</td>\n",
              "      <td>147.869995</td>\n",
              "      <td>145.839996</td>\n",
              "      <td>147.689301</td>\n",
              "      <td>22451151</td>\n",
              "    </tr>\n",
              "  </tbody>\n",
              "</table>\n",
              "<p>10254 rows × 5 columns</p>\n",
              "</div>"
            ],
            "text/plain": [
              "                  Open        High         Low       Close     Volume\n",
              "Date                                                                 \n",
              "1980-12-12    0.100600    0.101037    0.100600    0.100600  469033600\n",
              "1980-12-15    0.095789    0.095789    0.095352    0.095352  175884800\n",
              "1980-12-16    0.088790    0.088790    0.088353    0.088353  105728000\n",
              "1980-12-17    0.090540    0.090977    0.090540    0.090540   86441600\n",
              "1980-12-18    0.093165    0.093602    0.093165    0.093165   73449600\n",
              "...                ...         ...         ...         ...        ...\n",
              "2021-08-06  146.350006  147.110001  145.630005  146.139999   54067400\n",
              "2021-08-09  146.199997  146.699997  145.520004  146.089996   48908700\n",
              "2021-08-10  146.440002  147.710007  145.300003  145.600006   68922200\n",
              "2021-08-11  146.050003  146.720001  145.529999  145.860001   48422100\n",
              "2021-08-12  146.190002  147.869995  145.839996  147.689301   22451151\n",
              "\n",
              "[10254 rows x 5 columns]"
            ]
          },
          "metadata": {
            "tags": []
          },
          "execution_count": 3
        }
      ]
    },
    {
      "cell_type": "markdown",
      "metadata": {
        "id": "zOLNxZ9kvXPv"
      },
      "source": [
        "## Get close prices"
      ]
    },
    {
      "cell_type": "code",
      "metadata": {
        "colab": {
          "base_uri": "https://localhost:8080/",
          "height": 450
        },
        "id": "hhQHeJw5vWJ3",
        "executionInfo": {
          "status": "ok",
          "timestamp": 1628779285544,
          "user_tz": -120,
          "elapsed": 6,
          "user": {
            "displayName": "Max Lucas Kienast",
            "photoUrl": "",
            "userId": "18136220580306165387"
          }
        },
        "outputId": "642f69db-498f-43d9-f96d-790340a6cd74"
      },
      "source": [
        "aapl_close = aapl_df.copy()\n",
        "aapl_close = aapl_close.drop(columns=[\"Open\", \"High\", \"Low\", \"Volume\"])\n",
        "aapl_close = aapl_close.rename(columns={\"Close\":\"AAPL\"})\n",
        "aapl_close"
      ],
      "execution_count": 4,
      "outputs": [
        {
          "output_type": "execute_result",
          "data": {
            "text/html": [
              "<div>\n",
              "<style scoped>\n",
              "    .dataframe tbody tr th:only-of-type {\n",
              "        vertical-align: middle;\n",
              "    }\n",
              "\n",
              "    .dataframe tbody tr th {\n",
              "        vertical-align: top;\n",
              "    }\n",
              "\n",
              "    .dataframe thead th {\n",
              "        text-align: right;\n",
              "    }\n",
              "</style>\n",
              "<table border=\"1\" class=\"dataframe\">\n",
              "  <thead>\n",
              "    <tr style=\"text-align: right;\">\n",
              "      <th></th>\n",
              "      <th>AAPL</th>\n",
              "    </tr>\n",
              "    <tr>\n",
              "      <th>Date</th>\n",
              "      <th></th>\n",
              "    </tr>\n",
              "  </thead>\n",
              "  <tbody>\n",
              "    <tr>\n",
              "      <th>1980-12-12</th>\n",
              "      <td>0.100600</td>\n",
              "    </tr>\n",
              "    <tr>\n",
              "      <th>1980-12-15</th>\n",
              "      <td>0.095352</td>\n",
              "    </tr>\n",
              "    <tr>\n",
              "      <th>1980-12-16</th>\n",
              "      <td>0.088353</td>\n",
              "    </tr>\n",
              "    <tr>\n",
              "      <th>1980-12-17</th>\n",
              "      <td>0.090540</td>\n",
              "    </tr>\n",
              "    <tr>\n",
              "      <th>1980-12-18</th>\n",
              "      <td>0.093165</td>\n",
              "    </tr>\n",
              "    <tr>\n",
              "      <th>...</th>\n",
              "      <td>...</td>\n",
              "    </tr>\n",
              "    <tr>\n",
              "      <th>2021-08-06</th>\n",
              "      <td>146.139999</td>\n",
              "    </tr>\n",
              "    <tr>\n",
              "      <th>2021-08-09</th>\n",
              "      <td>146.089996</td>\n",
              "    </tr>\n",
              "    <tr>\n",
              "      <th>2021-08-10</th>\n",
              "      <td>145.600006</td>\n",
              "    </tr>\n",
              "    <tr>\n",
              "      <th>2021-08-11</th>\n",
              "      <td>145.860001</td>\n",
              "    </tr>\n",
              "    <tr>\n",
              "      <th>2021-08-12</th>\n",
              "      <td>147.689301</td>\n",
              "    </tr>\n",
              "  </tbody>\n",
              "</table>\n",
              "<p>10254 rows × 1 columns</p>\n",
              "</div>"
            ],
            "text/plain": [
              "                  AAPL\n",
              "Date                  \n",
              "1980-12-12    0.100600\n",
              "1980-12-15    0.095352\n",
              "1980-12-16    0.088353\n",
              "1980-12-17    0.090540\n",
              "1980-12-18    0.093165\n",
              "...                ...\n",
              "2021-08-06  146.139999\n",
              "2021-08-09  146.089996\n",
              "2021-08-10  145.600006\n",
              "2021-08-11  145.860001\n",
              "2021-08-12  147.689301\n",
              "\n",
              "[10254 rows x 1 columns]"
            ]
          },
          "metadata": {
            "tags": []
          },
          "execution_count": 4
        }
      ]
    },
    {
      "cell_type": "markdown",
      "metadata": {
        "id": "NgRavc2AJTr6"
      },
      "source": [
        "## Visualise adjusted close prices"
      ]
    },
    {
      "cell_type": "code",
      "metadata": {
        "colab": {
          "base_uri": "https://localhost:8080/",
          "height": 519
        },
        "id": "nwgRqaIyI5cy",
        "executionInfo": {
          "status": "ok",
          "timestamp": 1628779286118,
          "user_tz": -120,
          "elapsed": 579,
          "user": {
            "displayName": "Max Lucas Kienast",
            "photoUrl": "",
            "userId": "18136220580306165387"
          }
        },
        "outputId": "fdf3f4e7-528f-4255-aab7-abca3005ceb6"
      },
      "source": [
        "plt.figure(figsize=(16,8))\n",
        "plt.plot(aapl_close.loc[\"2019-01-01\":\"2021-01-01\", \"AAPL\"], label=\"Daily close\")\n",
        "plt.title(\"AAPL Adj Close 2019-2021\", fontsize=18)\n",
        "plt.legend(fontsize=18)\n",
        "plt.xlabel(\"Date\", fontsize=18)\n",
        "plt.ylabel(\"Adj Close\", fontsize=18)\n",
        "plt.show()"
      ],
      "execution_count": 5,
      "outputs": [
        {
          "output_type": "display_data",
          "data": {
            "image/png": "[encoded data removed]",
            "text/plain": [
              "<Figure size 1152x576 with 1 Axes>"
            ]
          },
          "metadata": {
            "tags": []
          }
        }
      ]
    },
    {
      "cell_type": "markdown",
      "metadata": {
        "id": "_SAa3iVfKp1l"
      },
      "source": [
        "## Exponentially Weighted Moving Average (EWMA)"
      ]
    },
    {
      "cell_type": "code",
      "metadata": {
        "id": "-o9CRW4xJxVi",
        "executionInfo": {
          "status": "ok",
          "timestamp": 1628779286120,
          "user_tz": -120,
          "elapsed": 9,
          "user": {
            "displayName": "Max Lucas Kienast",
            "photoUrl": "",
            "userId": "18136220580306165387"
          }
        }
      },
      "source": [
        "def EWMA(df, period):\n",
        "  return df.ewm(span=period, adjust=False).mean()"
      ],
      "execution_count": 6,
      "outputs": []
    },
    {
      "cell_type": "code",
      "metadata": {
        "id": "OxZb-nNnK1c4",
        "colab": {
          "base_uri": "https://localhost:8080/",
          "height": 450
        },
        "executionInfo": {
          "status": "ok",
          "timestamp": 1628779286120,
          "user_tz": -120,
          "elapsed": 8,
          "user": {
            "displayName": "Max Lucas Kienast",
            "photoUrl": "",
            "userId": "18136220580306165387"
          }
        },
        "outputId": "f68169c1-13a0-4d93-a321-474721eceb2d"
      },
      "source": [
        "aapl_ewma = aapl_close.copy()\n",
        "aapl_ewma.loc[:,\"AAPL\"] = EWMA(aapl_ewma, 21)\n",
        "aapl_ewma"
      ],
      "execution_count": 7,
      "outputs": [
        {
          "output_type": "execute_result",
          "data": {
            "text/html": [
              "<div>\n",
              "<style scoped>\n",
              "    .dataframe tbody tr th:only-of-type {\n",
              "        vertical-align: middle;\n",
              "    }\n",
              "\n",
              "    .dataframe tbody tr th {\n",
              "        vertical-align: top;\n",
              "    }\n",
              "\n",
              "    .dataframe thead th {\n",
              "        text-align: right;\n",
              "    }\n",
              "</style>\n",
              "<table border=\"1\" class=\"dataframe\">\n",
              "  <thead>\n",
              "    <tr style=\"text-align: right;\">\n",
              "      <th></th>\n",
              "      <th>AAPL</th>\n",
              "    </tr>\n",
              "    <tr>\n",
              "      <th>Date</th>\n",
              "      <th></th>\n",
              "    </tr>\n",
              "  </thead>\n",
              "  <tbody>\n",
              "    <tr>\n",
              "      <th>1980-12-12</th>\n",
              "      <td>0.100600</td>\n",
              "    </tr>\n",
              "    <tr>\n",
              "      <th>1980-12-15</th>\n",
              "      <td>0.100123</td>\n",
              "    </tr>\n",
              "    <tr>\n",
              "      <th>1980-12-16</th>\n",
              "      <td>0.099053</td>\n",
              "    </tr>\n",
              "    <tr>\n",
              "      <th>1980-12-17</th>\n",
              "      <td>0.098279</td>\n",
              "    </tr>\n",
              "    <tr>\n",
              "      <th>1980-12-18</th>\n",
              "      <td>0.097814</td>\n",
              "    </tr>\n",
              "    <tr>\n",
              "      <th>...</th>\n",
              "      <td>...</td>\n",
              "    </tr>\n",
              "    <tr>\n",
              "      <th>2021-08-06</th>\n",
              "      <td>144.768334</td>\n",
              "    </tr>\n",
              "    <tr>\n",
              "      <th>2021-08-09</th>\n",
              "      <td>144.888485</td>\n",
              "    </tr>\n",
              "    <tr>\n",
              "      <th>2021-08-10</th>\n",
              "      <td>144.953169</td>\n",
              "    </tr>\n",
              "    <tr>\n",
              "      <th>2021-08-11</th>\n",
              "      <td>145.035608</td>\n",
              "    </tr>\n",
              "    <tr>\n",
              "      <th>2021-08-12</th>\n",
              "      <td>145.276853</td>\n",
              "    </tr>\n",
              "  </tbody>\n",
              "</table>\n",
              "<p>10254 rows × 1 columns</p>\n",
              "</div>"
            ],
            "text/plain": [
              "                  AAPL\n",
              "Date                  \n",
              "1980-12-12    0.100600\n",
              "1980-12-15    0.100123\n",
              "1980-12-16    0.099053\n",
              "1980-12-17    0.098279\n",
              "1980-12-18    0.097814\n",
              "...                ...\n",
              "2021-08-06  144.768334\n",
              "2021-08-09  144.888485\n",
              "2021-08-10  144.953169\n",
              "2021-08-11  145.035608\n",
              "2021-08-12  145.276853\n",
              "\n",
              "[10254 rows x 1 columns]"
            ]
          },
          "metadata": {
            "tags": []
          },
          "execution_count": 7
        }
      ]
    },
    {
      "cell_type": "markdown",
      "metadata": {
        "id": "kRCD9esWMHC4"
      },
      "source": [
        "## Visualise SMA on top of adjusted close"
      ]
    },
    {
      "cell_type": "code",
      "metadata": {
        "colab": {
          "base_uri": "https://localhost:8080/",
          "height": 519
        },
        "id": "Axv7bCX-L6dh",
        "executionInfo": {
          "status": "ok",
          "timestamp": 1628779286744,
          "user_tz": -120,
          "elapsed": 630,
          "user": {
            "displayName": "Max Lucas Kienast",
            "photoUrl": "",
            "userId": "18136220580306165387"
          }
        },
        "outputId": "5bca23d2-d381-4a62-8bbd-6f28aabce8fb"
      },
      "source": [
        "plt.figure(figsize=(16,8))\n",
        "plt.plot(aapl_close.loc[\"2019-01-01\":\"2021-01-01\",\"AAPL\"], alpha=1.0, label=\"Daily close\", linewidth=2, color=\"cornflowerblue\", zorder=2)\n",
        "plt.plot(aapl_ewma.loc[\"2019-01-01\":\"2021-01-01\",\"AAPL\"], alpha=1.0, label=\"21D EWMA\", linewidth=2, color=\"darkorange\", zorder=1)\n",
        "plt.title(\"AAPL Daily Adj Close with 21D-EWMA\", fontsize=18)\n",
        "plt.legend(fontsize=18)\n",
        "plt.xlabel(\"Date\", fontsize=18)\n",
        "plt.ylabel(\"Price\", fontsize=18)\n",
        "plt.show()"
      ],
      "execution_count": 8,
      "outputs": [
        {
          "output_type": "display_data",
          "data": {
            "image/png": "[encoded data removed]",
            "text/plain": [
              "<Figure size 1152x576 with 1 Axes>"
            ]
          },
          "metadata": {
            "tags": []
          }
        }
      ]
    },
    {
      "cell_type": "markdown",
      "metadata": {
        "id": "dK7KU3iSOf8D"
      },
      "source": [
        "## Compute long and short signals\n",
        "\n",
        "- Long: close > EWMA21\n",
        "- Short: close < EWMA21"
      ]
    },
    {
      "cell_type": "code",
      "metadata": {
        "id": "3BapG8sutqAM",
        "executionInfo": {
          "status": "ok",
          "timestamp": 1628779286744,
          "user_tz": -120,
          "elapsed": 19,
          "user": {
            "displayName": "Max Lucas Kienast",
            "photoUrl": "",
            "userId": "18136220580306165387"
          }
        }
      },
      "source": [
        "def get_long_short(close, moving_avg):\n",
        "  # create initial long/short signal dataframe with all zeros\n",
        "  long_short = (close*0).fillna(0).astype(np.int)\n",
        "  # create long signals when close > moving avg\n",
        "  long_signals = (close > moving_avg).astype(np.int)\n",
        "  # create short signals when close < moving avg\n",
        "  short_signals = (close < moving_avg).astype(np.int)\n",
        "  # combine both long and short signals\n",
        "  long_short = long_short + long_signals - short_signals\n",
        "\n",
        "  return long_short"
      ],
      "execution_count": 9,
      "outputs": []
    },
    {
      "cell_type": "code",
      "metadata": {
        "id": "346n1Dsftp-T",
        "colab": {
          "base_uri": "https://localhost:8080/",
          "height": 450
        },
        "executionInfo": {
          "status": "ok",
          "timestamp": 1628779286745,
          "user_tz": -120,
          "elapsed": 19,
          "user": {
            "displayName": "Max Lucas Kienast",
            "photoUrl": "",
            "userId": "18136220580306165387"
          }
        },
        "outputId": "dae131d9-d013-4f22-8d81-95193b1ff757"
      },
      "source": [
        "# compute signals b/w 2020 and 2021 and cut ewma and close to that timeframe too\n",
        "aapl_close = aapl_close.loc[\"2019-01-01\":\"2021-01-01\", :]\n",
        "aapl_ewma = aapl_ewma.loc[\"2019-01-01\":\"2021-01-01\", :]\n",
        "signal = get_long_short(aapl_close, aapl_ewma)\n",
        "signal"
      ],
      "execution_count": 10,
      "outputs": [
        {
          "output_type": "execute_result",
          "data": {
            "text/html": [
              "<div>\n",
              "<style scoped>\n",
              "    .dataframe tbody tr th:only-of-type {\n",
              "        vertical-align: middle;\n",
              "    }\n",
              "\n",
              "    .dataframe tbody tr th {\n",
              "        vertical-align: top;\n",
              "    }\n",
              "\n",
              "    .dataframe thead th {\n",
              "        text-align: right;\n",
              "    }\n",
              "</style>\n",
              "<table border=\"1\" class=\"dataframe\">\n",
              "  <thead>\n",
              "    <tr style=\"text-align: right;\">\n",
              "      <th></th>\n",
              "      <th>AAPL</th>\n",
              "    </tr>\n",
              "    <tr>\n",
              "      <th>Date</th>\n",
              "      <th></th>\n",
              "    </tr>\n",
              "  </thead>\n",
              "  <tbody>\n",
              "    <tr>\n",
              "      <th>2019-01-02</th>\n",
              "      <td>-1</td>\n",
              "    </tr>\n",
              "    <tr>\n",
              "      <th>2019-01-03</th>\n",
              "      <td>-1</td>\n",
              "    </tr>\n",
              "    <tr>\n",
              "      <th>2019-01-04</th>\n",
              "      <td>-1</td>\n",
              "    </tr>\n",
              "    <tr>\n",
              "      <th>2019-01-07</th>\n",
              "      <td>-1</td>\n",
              "    </tr>\n",
              "    <tr>\n",
              "      <th>2019-01-08</th>\n",
              "      <td>-1</td>\n",
              "    </tr>\n",
              "    <tr>\n",
              "      <th>...</th>\n",
              "      <td>...</td>\n",
              "    </tr>\n",
              "    <tr>\n",
              "      <th>2020-12-24</th>\n",
              "      <td>1</td>\n",
              "    </tr>\n",
              "    <tr>\n",
              "      <th>2020-12-28</th>\n",
              "      <td>1</td>\n",
              "    </tr>\n",
              "    <tr>\n",
              "      <th>2020-12-29</th>\n",
              "      <td>1</td>\n",
              "    </tr>\n",
              "    <tr>\n",
              "      <th>2020-12-30</th>\n",
              "      <td>1</td>\n",
              "    </tr>\n",
              "    <tr>\n",
              "      <th>2020-12-31</th>\n",
              "      <td>1</td>\n",
              "    </tr>\n",
              "  </tbody>\n",
              "</table>\n",
              "<p>505 rows × 1 columns</p>\n",
              "</div>"
            ],
            "text/plain": [
              "            AAPL\n",
              "Date            \n",
              "2019-01-02    -1\n",
              "2019-01-03    -1\n",
              "2019-01-04    -1\n",
              "2019-01-07    -1\n",
              "2019-01-08    -1\n",
              "...          ...\n",
              "2020-12-24     1\n",
              "2020-12-28     1\n",
              "2020-12-29     1\n",
              "2020-12-30     1\n",
              "2020-12-31     1\n",
              "\n",
              "[505 rows x 1 columns]"
            ]
          },
          "metadata": {
            "tags": []
          },
          "execution_count": 10
        }
      ]
    },
    {
      "cell_type": "markdown",
      "metadata": {
        "id": "i-8cD3Nx3iFm"
      },
      "source": [
        "## Filter signal\n",
        "\n",
        "Filter out all consecutive-equal signals, so only long/short changes remain."
      ]
    },
    {
      "cell_type": "code",
      "metadata": {
        "id": "e8x7ymLLtp8C",
        "executionInfo": {
          "status": "ok",
          "timestamp": 1628779286745,
          "user_tz": -120,
          "elapsed": 18,
          "user": {
            "displayName": "Max Lucas Kienast",
            "photoUrl": "",
            "userId": "18136220580306165387"
          }
        }
      },
      "source": [
        "def filter_signal(signal):\n",
        "\n",
        "  filtered_signal = signal.copy()\n",
        "  for ticker in filtered_signal:\n",
        "    filtered_signal.loc[filtered_signal[ticker].shift(1).eq(filtered_signal[ticker])] = 0\n",
        "  \n",
        "  return filtered_signal"
      ],
      "execution_count": 11,
      "outputs": []
    },
    {
      "cell_type": "code",
      "metadata": {
        "id": "OQOFrtWltp5o",
        "colab": {
          "base_uri": "https://localhost:8080/",
          "height": 450
        },
        "executionInfo": {
          "status": "ok",
          "timestamp": 1628779286746,
          "user_tz": -120,
          "elapsed": 18,
          "user": {
            "displayName": "Max Lucas Kienast",
            "photoUrl": "",
            "userId": "18136220580306165387"
          }
        },
        "outputId": "5be65b23-84fb-472f-8d46-5d85447baef0"
      },
      "source": [
        "filtered_signal = filter_signal(signal)\n",
        "filtered_signal"
      ],
      "execution_count": 12,
      "outputs": [
        {
          "output_type": "execute_result",
          "data": {
            "text/html": [
              "<div>\n",
              "<style scoped>\n",
              "    .dataframe tbody tr th:only-of-type {\n",
              "        vertical-align: middle;\n",
              "    }\n",
              "\n",
              "    .dataframe tbody tr th {\n",
              "        vertical-align: top;\n",
              "    }\n",
              "\n",
              "    .dataframe thead th {\n",
              "        text-align: right;\n",
              "    }\n",
              "</style>\n",
              "<table border=\"1\" class=\"dataframe\">\n",
              "  <thead>\n",
              "    <tr style=\"text-align: right;\">\n",
              "      <th></th>\n",
              "      <th>AAPL</th>\n",
              "    </tr>\n",
              "    <tr>\n",
              "      <th>Date</th>\n",
              "      <th></th>\n",
              "    </tr>\n",
              "  </thead>\n",
              "  <tbody>\n",
              "    <tr>\n",
              "      <th>2019-01-02</th>\n",
              "      <td>-1</td>\n",
              "    </tr>\n",
              "    <tr>\n",
              "      <th>2019-01-03</th>\n",
              "      <td>0</td>\n",
              "    </tr>\n",
              "    <tr>\n",
              "      <th>2019-01-04</th>\n",
              "      <td>0</td>\n",
              "    </tr>\n",
              "    <tr>\n",
              "      <th>2019-01-07</th>\n",
              "      <td>0</td>\n",
              "    </tr>\n",
              "    <tr>\n",
              "      <th>2019-01-08</th>\n",
              "      <td>0</td>\n",
              "    </tr>\n",
              "    <tr>\n",
              "      <th>...</th>\n",
              "      <td>...</td>\n",
              "    </tr>\n",
              "    <tr>\n",
              "      <th>2020-12-24</th>\n",
              "      <td>0</td>\n",
              "    </tr>\n",
              "    <tr>\n",
              "      <th>2020-12-28</th>\n",
              "      <td>0</td>\n",
              "    </tr>\n",
              "    <tr>\n",
              "      <th>2020-12-29</th>\n",
              "      <td>0</td>\n",
              "    </tr>\n",
              "    <tr>\n",
              "      <th>2020-12-30</th>\n",
              "      <td>0</td>\n",
              "    </tr>\n",
              "    <tr>\n",
              "      <th>2020-12-31</th>\n",
              "      <td>0</td>\n",
              "    </tr>\n",
              "  </tbody>\n",
              "</table>\n",
              "<p>505 rows × 1 columns</p>\n",
              "</div>"
            ],
            "text/plain": [
              "            AAPL\n",
              "Date            \n",
              "2019-01-02    -1\n",
              "2019-01-03     0\n",
              "2019-01-04     0\n",
              "2019-01-07     0\n",
              "2019-01-08     0\n",
              "...          ...\n",
              "2020-12-24     0\n",
              "2020-12-28     0\n",
              "2020-12-29     0\n",
              "2020-12-30     0\n",
              "2020-12-31     0\n",
              "\n",
              "[505 rows x 1 columns]"
            ]
          },
          "metadata": {
            "tags": []
          },
          "execution_count": 12
        }
      ]
    },
    {
      "cell_type": "code",
      "metadata": {
        "id": "v_hHyqWXtp2O",
        "colab": {
          "base_uri": "https://localhost:8080/",
          "height": 519
        },
        "executionInfo": {
          "status": "ok",
          "timestamp": 1628779286746,
          "user_tz": -120,
          "elapsed": 17,
          "user": {
            "displayName": "Max Lucas Kienast",
            "photoUrl": "",
            "userId": "18136220580306165387"
          }
        },
        "outputId": "ae624383-4ffb-4f25-c0e1-6996d182651c"
      },
      "source": [
        "plt.figure(figsize=(16,8))\n",
        "plt.plot(aapl_close.loc[:,\"AAPL\"], alpha=1.0, label=\"Daily close\", linewidth=2, color=\"cornflowerblue\", zorder=2)\n",
        "plt.plot(aapl_ewma.loc[:,\"AAPL\"], alpha=1.0, label=\"21D EWMA\", linewidth=2, color=\"darkorange\", zorder=1)\n",
        "plt.scatter(filtered_signal.index, np.where(filtered_signal.loc[:, \"AAPL\"]==1, aapl_close.loc[:,\"AAPL\"], np.nan), alpha=1, label=\"Long Signal\", marker=\"^\", color=\"green\", s=200, zorder=3)\n",
        "plt.scatter(filtered_signal.index, np.where(filtered_signal.loc[:, \"AAPL\"]==-1, aapl_close.loc[:, \"AAPL\"], np.nan), alpha=1, label=\"Short Signal\", marker=\"v\", color=\"red\", s=200, zorder=5)\n",
        "plt.title(\"AAPL Daily Adj Close with 21D-EWMA & Long/Short Signals\", fontsize=18)\n",
        "plt.legend(fontsize=18)\n",
        "plt.xlabel(\"Date\", fontsize=18)\n",
        "plt.ylabel(\"Price\", fontsize=18)\n",
        "plt.show()"
      ],
      "execution_count": 13,
      "outputs": [
        {
          "output_type": "display_data",
          "data": {
            "image/png": "[encoded data removed]",
            "text/plain": [
              "<Figure size 1152x576 with 1 Axes>"
            ]
          },
          "metadata": {
            "tags": []
          }
        }
      ]
    },
    {
      "cell_type": "markdown",
      "metadata": {
        "id": "vjROxxtV9_NP"
      },
      "source": [
        "## Signal log returns\n",
        "\n",
        "For each long/short signal get the price of the next (opposite) signal to compute the returns made in the period between signal changes."
      ]
    },
    {
      "cell_type": "code",
      "metadata": {
        "id": "eMWwTy-6tpz2",
        "executionInfo": {
          "status": "ok",
          "timestamp": 1628779286747,
          "user_tz": -120,
          "elapsed": 15,
          "user": {
            "displayName": "Max Lucas Kienast",
            "photoUrl": "",
            "userId": "18136220580306165387"
          }
        }
      },
      "source": [
        "def get_lookahead_returns(close, signal):\n",
        "\n",
        "  entry_signals = signal.copy()\n",
        "  entry_signals = entry_signals[entry_signals!=0].dropna(axis=0)\n",
        "\n",
        "  entry_prices = close.copy()\n",
        "  entry_prices = entry_prices[signal!=0].dropna(axis=0)\n",
        "\n",
        "  exit_prices = entry_prices.shift(-1)\n",
        "  price_returns = exit_prices/entry_prices - 1\n",
        "  signal_returns = entry_signals * price_returns\n",
        "\n",
        "  return pd.DataFrame(data={\"Entry prices\":entry_prices[\"AAPL\"],\n",
        "                            \"Exit prices\":exit_prices[\"AAPL\"],\n",
        "                            \"Price returns\":price_returns[\"AAPL\"],\n",
        "                            \"Entry signals\":entry_signals[\"AAPL\"],\n",
        "                            \"Signal returns\":signal_returns[\"AAPL\"]}, index=entry_signals.index)"
      ],
      "execution_count": 14,
      "outputs": []
    },
    {
      "cell_type": "code",
      "metadata": {
        "colab": {
          "base_uri": "https://localhost:8080/",
          "height": 1000
        },
        "id": "OZxtWcwE_3Qn",
        "executionInfo": {
          "status": "ok",
          "timestamp": 1628779286747,
          "user_tz": -120,
          "elapsed": 15,
          "user": {
            "displayName": "Max Lucas Kienast",
            "photoUrl": "",
            "userId": "18136220580306165387"
          }
        },
        "outputId": "5fd015c1-5820-4098-cdd8-51b7bf4d542c"
      },
      "source": [
        "return_df = get_lookahead_returns(aapl_close, filtered_signal)\n",
        "return_df.head(50)"
      ],
      "execution_count": 15,
      "outputs": [
        {
          "output_type": "execute_result",
          "data": {
            "text/html": [
              "<div>\n",
              "<style scoped>\n",
              "    .dataframe tbody tr th:only-of-type {\n",
              "        vertical-align: middle;\n",
              "    }\n",
              "\n",
              "    .dataframe tbody tr th {\n",
              "        vertical-align: top;\n",
              "    }\n",
              "\n",
              "    .dataframe thead th {\n",
              "        text-align: right;\n",
              "    }\n",
              "</style>\n",
              "<table border=\"1\" class=\"dataframe\">\n",
              "  <thead>\n",
              "    <tr style=\"text-align: right;\">\n",
              "      <th></th>\n",
              "      <th>Entry prices</th>\n",
              "      <th>Exit prices</th>\n",
              "      <th>Price returns</th>\n",
              "      <th>Entry signals</th>\n",
              "      <th>Signal returns</th>\n",
              "    </tr>\n",
              "    <tr>\n",
              "      <th>Date</th>\n",
              "      <th></th>\n",
              "      <th></th>\n",
              "      <th></th>\n",
              "      <th></th>\n",
              "      <th></th>\n",
              "    </tr>\n",
              "  </thead>\n",
              "  <tbody>\n",
              "    <tr>\n",
              "      <th>2019-01-02</th>\n",
              "      <td>38.382229</td>\n",
              "      <td>38.114872</td>\n",
              "      <td>-0.006966</td>\n",
              "      <td>-1.0</td>\n",
              "      <td>0.006966</td>\n",
              "    </tr>\n",
              "    <tr>\n",
              "      <th>2019-01-18</th>\n",
              "      <td>38.114872</td>\n",
              "      <td>37.259346</td>\n",
              "      <td>-0.022446</td>\n",
              "      <td>1.0</td>\n",
              "      <td>-0.022446</td>\n",
              "    </tr>\n",
              "    <tr>\n",
              "      <th>2019-01-22</th>\n",
              "      <td>37.259346</td>\n",
              "      <td>38.343330</td>\n",
              "      <td>0.029093</td>\n",
              "      <td>-1.0</td>\n",
              "      <td>-0.029093</td>\n",
              "    </tr>\n",
              "    <tr>\n",
              "      <th>2019-01-25</th>\n",
              "      <td>38.343330</td>\n",
              "      <td>37.594753</td>\n",
              "      <td>-0.019523</td>\n",
              "      <td>1.0</td>\n",
              "      <td>-0.019523</td>\n",
              "    </tr>\n",
              "    <tr>\n",
              "      <th>2019-01-29</th>\n",
              "      <td>37.594753</td>\n",
              "      <td>40.163769</td>\n",
              "      <td>0.068334</td>\n",
              "      <td>-1.0</td>\n",
              "      <td>-0.068334</td>\n",
              "    </tr>\n",
              "    <tr>\n",
              "      <th>2019-01-30</th>\n",
              "      <td>40.163769</td>\n",
              "      <td>49.516289</td>\n",
              "      <td>0.232860</td>\n",
              "      <td>1.0</td>\n",
              "      <td>0.232860</td>\n",
              "    </tr>\n",
              "    <tr>\n",
              "      <th>2019-05-07</th>\n",
              "      <td>49.516289</td>\n",
              "      <td>45.384624</td>\n",
              "      <td>-0.083441</td>\n",
              "      <td>-1.0</td>\n",
              "      <td>0.083441</td>\n",
              "    </tr>\n",
              "    <tr>\n",
              "      <th>2019-06-06</th>\n",
              "      <td>45.384624</td>\n",
              "      <td>49.991215</td>\n",
              "      <td>0.101501</td>\n",
              "      <td>1.0</td>\n",
              "      <td>0.101501</td>\n",
              "    </tr>\n",
              "    <tr>\n",
              "      <th>2019-08-02</th>\n",
              "      <td>49.991215</td>\n",
              "      <td>49.846642</td>\n",
              "      <td>-0.002892</td>\n",
              "      <td>-1.0</td>\n",
              "      <td>0.002892</td>\n",
              "    </tr>\n",
              "    <tr>\n",
              "      <th>2019-08-08</th>\n",
              "      <td>49.846642</td>\n",
              "      <td>49.435886</td>\n",
              "      <td>-0.008240</td>\n",
              "      <td>1.0</td>\n",
              "      <td>-0.008240</td>\n",
              "    </tr>\n",
              "    <tr>\n",
              "      <th>2019-08-09</th>\n",
              "      <td>49.435886</td>\n",
              "      <td>51.398666</td>\n",
              "      <td>0.039704</td>\n",
              "      <td>-1.0</td>\n",
              "      <td>-0.039704</td>\n",
              "    </tr>\n",
              "    <tr>\n",
              "      <th>2019-08-13</th>\n",
              "      <td>51.398666</td>\n",
              "      <td>49.868778</td>\n",
              "      <td>-0.029765</td>\n",
              "      <td>1.0</td>\n",
              "      <td>-0.029765</td>\n",
              "    </tr>\n",
              "    <tr>\n",
              "      <th>2019-08-14</th>\n",
              "      <td>49.868778</td>\n",
              "      <td>50.791138</td>\n",
              "      <td>0.018496</td>\n",
              "      <td>-1.0</td>\n",
              "      <td>-0.018496</td>\n",
              "    </tr>\n",
              "    <tr>\n",
              "      <th>2019-08-16</th>\n",
              "      <td>50.791138</td>\n",
              "      <td>49.841724</td>\n",
              "      <td>-0.018692</td>\n",
              "      <td>1.0</td>\n",
              "      <td>-0.018692</td>\n",
              "    </tr>\n",
              "    <tr>\n",
              "      <th>2019-08-23</th>\n",
              "      <td>49.841724</td>\n",
              "      <td>50.788677</td>\n",
              "      <td>0.018999</td>\n",
              "      <td>-1.0</td>\n",
              "      <td>-0.018999</td>\n",
              "    </tr>\n",
              "    <tr>\n",
              "      <th>2019-08-26</th>\n",
              "      <td>50.788677</td>\n",
              "      <td>50.215584</td>\n",
              "      <td>-0.011284</td>\n",
              "      <td>1.0</td>\n",
              "      <td>-0.011284</td>\n",
              "    </tr>\n",
              "    <tr>\n",
              "      <th>2019-08-27</th>\n",
              "      <td>50.215584</td>\n",
              "      <td>50.552551</td>\n",
              "      <td>0.006710</td>\n",
              "      <td>-1.0</td>\n",
              "      <td>-0.006710</td>\n",
              "    </tr>\n",
              "    <tr>\n",
              "      <th>2019-08-28</th>\n",
              "      <td>50.552551</td>\n",
              "      <td>50.594368</td>\n",
              "      <td>0.000827</td>\n",
              "      <td>1.0</td>\n",
              "      <td>0.000827</td>\n",
              "    </tr>\n",
              "    <tr>\n",
              "      <th>2019-09-03</th>\n",
              "      <td>50.594368</td>\n",
              "      <td>51.452774</td>\n",
              "      <td>0.016966</td>\n",
              "      <td>-1.0</td>\n",
              "      <td>-0.016966</td>\n",
              "    </tr>\n",
              "    <tr>\n",
              "      <th>2019-09-04</th>\n",
              "      <td>51.452774</td>\n",
              "      <td>64.006416</td>\n",
              "      <td>0.243984</td>\n",
              "      <td>1.0</td>\n",
              "      <td>0.243984</td>\n",
              "    </tr>\n",
              "    <tr>\n",
              "      <th>2019-12-03</th>\n",
              "      <td>64.006416</td>\n",
              "      <td>64.571350</td>\n",
              "      <td>0.008826</td>\n",
              "      <td>-1.0</td>\n",
              "      <td>-0.008826</td>\n",
              "    </tr>\n",
              "    <tr>\n",
              "      <th>2019-12-04</th>\n",
              "      <td>64.571350</td>\n",
              "      <td>76.356224</td>\n",
              "      <td>0.182509</td>\n",
              "      <td>1.0</td>\n",
              "      <td>0.182509</td>\n",
              "    </tr>\n",
              "    <tr>\n",
              "      <th>2020-01-31</th>\n",
              "      <td>76.356224</td>\n",
              "      <td>78.660416</td>\n",
              "      <td>0.030177</td>\n",
              "      <td>-1.0</td>\n",
              "      <td>-0.030177</td>\n",
              "    </tr>\n",
              "    <tr>\n",
              "      <th>2020-02-04</th>\n",
              "      <td>78.660416</td>\n",
              "      <td>77.412834</td>\n",
              "      <td>-0.015860</td>\n",
              "      <td>1.0</td>\n",
              "      <td>-0.015860</td>\n",
              "    </tr>\n",
              "    <tr>\n",
              "      <th>2020-02-21</th>\n",
              "      <td>77.412834</td>\n",
              "      <td>64.905113</td>\n",
              "      <td>-0.161572</td>\n",
              "      <td>-1.0</td>\n",
              "      <td>0.161572</td>\n",
              "    </tr>\n",
              "    <tr>\n",
              "      <th>2020-04-06</th>\n",
              "      <td>64.905113</td>\n",
              "      <td>66.364113</td>\n",
              "      <td>0.022479</td>\n",
              "      <td>1.0</td>\n",
              "      <td>0.022479</td>\n",
              "    </tr>\n",
              "    <tr>\n",
              "      <th>2020-04-21</th>\n",
              "      <td>66.364113</td>\n",
              "      <td>68.275627</td>\n",
              "      <td>0.028803</td>\n",
              "      <td>-1.0</td>\n",
              "      <td>-0.028803</td>\n",
              "    </tr>\n",
              "    <tr>\n",
              "      <th>2020-04-22</th>\n",
              "      <td>68.275627</td>\n",
              "      <td>92.085625</td>\n",
              "      <td>0.348733</td>\n",
              "      <td>1.0</td>\n",
              "      <td>0.348733</td>\n",
              "    </tr>\n",
              "    <tr>\n",
              "      <th>2020-07-23</th>\n",
              "      <td>92.085625</td>\n",
              "      <td>94.034538</td>\n",
              "      <td>0.021164</td>\n",
              "      <td>-1.0</td>\n",
              "      <td>-0.021164</td>\n",
              "    </tr>\n",
              "    <tr>\n",
              "      <th>2020-07-27</th>\n",
              "      <td>94.034538</td>\n",
              "      <td>92.489784</td>\n",
              "      <td>-0.016428</td>\n",
              "      <td>1.0</td>\n",
              "      <td>-0.016428</td>\n",
              "    </tr>\n",
              "    <tr>\n",
              "      <th>2020-07-28</th>\n",
              "      <td>92.489784</td>\n",
              "      <td>94.262657</td>\n",
              "      <td>0.019168</td>\n",
              "      <td>-1.0</td>\n",
              "      <td>-0.019168</td>\n",
              "    </tr>\n",
              "    <tr>\n",
              "      <th>2020-07-29</th>\n",
              "      <td>94.262657</td>\n",
              "      <td>112.098999</td>\n",
              "      <td>0.189220</td>\n",
              "      <td>1.0</td>\n",
              "      <td>0.189220</td>\n",
              "    </tr>\n",
              "    <tr>\n",
              "      <th>2020-09-08</th>\n",
              "      <td>112.098999</td>\n",
              "      <td>114.225311</td>\n",
              "      <td>0.018968</td>\n",
              "      <td>-1.0</td>\n",
              "      <td>-0.018968</td>\n",
              "    </tr>\n",
              "    <tr>\n",
              "      <th>2020-09-28</th>\n",
              "      <td>114.225311</td>\n",
              "      <td>112.297722</td>\n",
              "      <td>-0.016875</td>\n",
              "      <td>1.0</td>\n",
              "      <td>-0.016875</td>\n",
              "    </tr>\n",
              "    <tr>\n",
              "      <th>2020-10-02</th>\n",
              "      <td>112.297722</td>\n",
              "      <td>115.755478</td>\n",
              "      <td>0.030791</td>\n",
              "      <td>-1.0</td>\n",
              "      <td>-0.030791</td>\n",
              "    </tr>\n",
              "    <tr>\n",
              "      <th>2020-10-05</th>\n",
              "      <td>115.755478</td>\n",
              "      <td>112.436829</td>\n",
              "      <td>-0.028669</td>\n",
              "      <td>1.0</td>\n",
              "      <td>-0.028669</td>\n",
              "    </tr>\n",
              "    <tr>\n",
              "      <th>2020-10-06</th>\n",
              "      <td>112.436829</td>\n",
              "      <td>114.344559</td>\n",
              "      <td>0.016967</td>\n",
              "      <td>-1.0</td>\n",
              "      <td>-0.016967</td>\n",
              "    </tr>\n",
              "    <tr>\n",
              "      <th>2020-10-07</th>\n",
              "      <td>114.344559</td>\n",
              "      <td>115.238800</td>\n",
              "      <td>0.007821</td>\n",
              "      <td>1.0</td>\n",
              "      <td>0.007821</td>\n",
              "    </tr>\n",
              "    <tr>\n",
              "      <th>2020-10-19</th>\n",
              "      <td>115.238800</td>\n",
              "      <td>116.759033</td>\n",
              "      <td>0.013192</td>\n",
              "      <td>-1.0</td>\n",
              "      <td>-0.013192</td>\n",
              "    </tr>\n",
              "    <tr>\n",
              "      <th>2020-10-20</th>\n",
              "      <td>116.759033</td>\n",
              "      <td>116.123123</td>\n",
              "      <td>-0.005446</td>\n",
              "      <td>1.0</td>\n",
              "      <td>-0.005446</td>\n",
              "    </tr>\n",
              "    <tr>\n",
              "      <th>2020-10-21</th>\n",
              "      <td>116.123123</td>\n",
              "      <td>115.854843</td>\n",
              "      <td>-0.002310</td>\n",
              "      <td>-1.0</td>\n",
              "      <td>0.002310</td>\n",
              "    </tr>\n",
              "    <tr>\n",
              "      <th>2020-10-27</th>\n",
              "      <td>115.854843</td>\n",
              "      <td>110.489349</td>\n",
              "      <td>-0.046312</td>\n",
              "      <td>1.0</td>\n",
              "      <td>-0.046312</td>\n",
              "    </tr>\n",
              "    <tr>\n",
              "      <th>2020-10-28</th>\n",
              "      <td>110.489349</td>\n",
              "      <td>114.215385</td>\n",
              "      <td>0.033723</td>\n",
              "      <td>-1.0</td>\n",
              "      <td>-0.033723</td>\n",
              "    </tr>\n",
              "    <tr>\n",
              "      <th>2020-11-04</th>\n",
              "      <td>114.215385</td>\n",
              "      <td>113.317581</td>\n",
              "      <td>-0.007861</td>\n",
              "      <td>1.0</td>\n",
              "      <td>-0.007861</td>\n",
              "    </tr>\n",
              "    <tr>\n",
              "      <th>2020-11-23</th>\n",
              "      <td>113.317581</td>\n",
              "      <td>118.493263</td>\n",
              "      <td>0.045674</td>\n",
              "      <td>-1.0</td>\n",
              "      <td>-0.045674</td>\n",
              "    </tr>\n",
              "    <tr>\n",
              "      <th>2020-11-30</th>\n",
              "      <td>118.493263</td>\n",
              "      <td>NaN</td>\n",
              "      <td>NaN</td>\n",
              "      <td>1.0</td>\n",
              "      <td>NaN</td>\n",
              "    </tr>\n",
              "  </tbody>\n",
              "</table>\n",
              "</div>"
            ],
            "text/plain": [
              "            Entry prices  Exit prices  ...  Entry signals  Signal returns\n",
              "Date                                   ...                               \n",
              "2019-01-02     38.382229    38.114872  ...           -1.0        0.006966\n",
              "2019-01-18     38.114872    37.259346  ...            1.0       -0.022446\n",
              "2019-01-22     37.259346    38.343330  ...           -1.0       -0.029093\n",
              "2019-01-25     38.343330    37.594753  ...            1.0       -0.019523\n",
              "2019-01-29     37.594753    40.163769  ...           -1.0       -0.068334\n",
              "2019-01-30     40.163769    49.516289  ...            1.0        0.232860\n",
              "2019-05-07     49.516289    45.384624  ...           -1.0        0.083441\n",
              "2019-06-06     45.384624    49.991215  ...            1.0        0.101501\n",
              "2019-08-02     49.991215    49.846642  ...           -1.0        0.002892\n",
              "2019-08-08     49.846642    49.435886  ...            1.0       -0.008240\n",
              "2019-08-09     49.435886    51.398666  ...           -1.0       -0.039704\n",
              "2019-08-13     51.398666    49.868778  ...            1.0       -0.029765\n",
              "2019-08-14     49.868778    50.791138  ...           -1.0       -0.018496\n",
              "2019-08-16     50.791138    49.841724  ...            1.0       -0.018692\n",
              "2019-08-23     49.841724    50.788677  ...           -1.0       -0.018999\n",
              "2019-08-26     50.788677    50.215584  ...            1.0       -0.011284\n",
              "2019-08-27     50.215584    50.552551  ...           -1.0       -0.006710\n",
              "2019-08-28     50.552551    50.594368  ...            1.0        0.000827\n",
              "2019-09-03     50.594368    51.452774  ...           -1.0       -0.016966\n",
              "2019-09-04     51.452774    64.006416  ...            1.0        0.243984\n",
              "2019-12-03     64.006416    64.571350  ...           -1.0       -0.008826\n",
              "2019-12-04     64.571350    76.356224  ...            1.0        0.182509\n",
              "2020-01-31     76.356224    78.660416  ...           -1.0       -0.030177\n",
              "2020-02-04     78.660416    77.412834  ...            1.0       -0.015860\n",
              "2020-02-21     77.412834    64.905113  ...           -1.0        0.161572\n",
              "2020-04-06     64.905113    66.364113  ...            1.0        0.022479\n",
              "2020-04-21     66.364113    68.275627  ...           -1.0       -0.028803\n",
              "2020-04-22     68.275627    92.085625  ...            1.0        0.348733\n",
              "2020-07-23     92.085625    94.034538  ...           -1.0       -0.021164\n",
              "2020-07-27     94.034538    92.489784  ...            1.0       -0.016428\n",
              "2020-07-28     92.489784    94.262657  ...           -1.0       -0.019168\n",
              "2020-07-29     94.262657   112.098999  ...            1.0        0.189220\n",
              "2020-09-08    112.098999   114.225311  ...           -1.0       -0.018968\n",
              "2020-09-28    114.225311   112.297722  ...            1.0       -0.016875\n",
              "2020-10-02    112.297722   115.755478  ...           -1.0       -0.030791\n",
              "2020-10-05    115.755478   112.436829  ...            1.0       -0.028669\n",
              "2020-10-06    112.436829   114.344559  ...           -1.0       -0.016967\n",
              "2020-10-07    114.344559   115.238800  ...            1.0        0.007821\n",
              "2020-10-19    115.238800   116.759033  ...           -1.0       -0.013192\n",
              "2020-10-20    116.759033   116.123123  ...            1.0       -0.005446\n",
              "2020-10-21    116.123123   115.854843  ...           -1.0        0.002310\n",
              "2020-10-27    115.854843   110.489349  ...            1.0       -0.046312\n",
              "2020-10-28    110.489349   114.215385  ...           -1.0       -0.033723\n",
              "2020-11-04    114.215385   113.317581  ...            1.0       -0.007861\n",
              "2020-11-23    113.317581   118.493263  ...           -1.0       -0.045674\n",
              "2020-11-30    118.493263          NaN  ...            1.0             NaN\n",
              "\n",
              "[46 rows x 5 columns]"
            ]
          },
          "metadata": {
            "tags": []
          },
          "execution_count": 15
        }
      ]
    },
    {
      "cell_type": "code",
      "metadata": {
        "colab": {
          "base_uri": "https://localhost:8080/",
          "height": 519
        },
        "id": "mVFMJbWrANYz",
        "executionInfo": {
          "status": "ok",
          "timestamp": 1628779287027,
          "user_tz": -120,
          "elapsed": 293,
          "user": {
            "displayName": "Max Lucas Kienast",
            "photoUrl": "",
            "userId": "18136220580306165387"
          }
        },
        "outputId": "c737f572-3b1c-421e-8c61-f3913719185d"
      },
      "source": [
        "plt.figure(figsize=(16,8))\n",
        "plt.bar(return_df.index, return_df.loc[:,\"Signal returns\"], alpha=1.0, label=\"Signal returns\", width=1, color=\"cornflowerblue\", zorder=1)\n",
        "plt.legend(fontsize=18)\n",
        "plt.title(\"Expected signal returns for 2019-2021\", fontsize=18)\n",
        "plt.xlabel(\"Date\", fontsize=18)\n",
        "plt.ylabel(\"Signal returns\", fontsize=18)\n",
        "plt.show()"
      ],
      "execution_count": 16,
      "outputs": [
        {
          "output_type": "display_data",
          "data": {
            "image/png": "[encoded data removed]",
            "text/plain": [
              "<Figure size 1152x576 with 1 Axes>"
            ]
          },
          "metadata": {
            "tags": []
          }
        }
      ]
    },
    {
      "cell_type": "markdown",
      "metadata": {
        "id": "j7z0nLDvJ5Y5"
      },
      "source": [
        "## Show descriptive statistics of return distribution"
      ]
    },
    {
      "cell_type": "code",
      "metadata": {
        "colab": {
          "base_uri": "https://localhost:8080/",
          "height": 297
        },
        "id": "vPTZdWK3JWnh",
        "executionInfo": {
          "status": "ok",
          "timestamp": 1628779287028,
          "user_tz": -120,
          "elapsed": 17,
          "user": {
            "displayName": "Max Lucas Kienast",
            "photoUrl": "",
            "userId": "18136220580306165387"
          }
        },
        "outputId": "a228cb26-f72a-4aa6-9bc0-3d06b2c5f301"
      },
      "source": [
        "stats_table = pd.DataFrame(data={\"Stats\":[\"Mean\", \"Median\", \"Max\", \"Min\", \"St. dev.\",\"Skew\", \"Kurtosis\"]})\n",
        "stats_table.set_index(\"Stats\", inplace=True)\n",
        "\n",
        "stats_table[\"{}\".format(\"Signal returns\")] = [return_df.loc[:, \"Signal returns\"].mean(),\n",
        "                                              return_df.loc[:, \"Signal returns\"].median(),\n",
        "                                              return_df.loc[:, \"Signal returns\"].max(),\n",
        "                                              return_df.loc[:, \"Signal returns\"].min(), \n",
        "                                              return_df.loc[:, \"Signal returns\"].std(), \n",
        "                                              skew(return_df.loc[:, \"Signal returns\"][0:-1]), \n",
        "                                              kurtosis(return_df.loc[:, \"Signal returns\"][0:-1], fisher=True)]\n",
        "stats_table"
      ],
      "execution_count": 17,
      "outputs": [
        {
          "output_type": "execute_result",
          "data": {
            "text/html": [
              "<div>\n",
              "<style scoped>\n",
              "    .dataframe tbody tr th:only-of-type {\n",
              "        vertical-align: middle;\n",
              "    }\n",
              "\n",
              "    .dataframe tbody tr th {\n",
              "        vertical-align: top;\n",
              "    }\n",
              "\n",
              "    .dataframe thead th {\n",
              "        text-align: right;\n",
              "    }\n",
              "</style>\n",
              "<table border=\"1\" class=\"dataframe\">\n",
              "  <thead>\n",
              "    <tr style=\"text-align: right;\">\n",
              "      <th></th>\n",
              "      <th>Signal returns</th>\n",
              "    </tr>\n",
              "    <tr>\n",
              "      <th>Stats</th>\n",
              "      <th></th>\n",
              "    </tr>\n",
              "  </thead>\n",
              "  <tbody>\n",
              "    <tr>\n",
              "      <th>Mean</th>\n",
              "      <td>0.019421</td>\n",
              "    </tr>\n",
              "    <tr>\n",
              "      <th>Median</th>\n",
              "      <td>-0.016428</td>\n",
              "    </tr>\n",
              "    <tr>\n",
              "      <th>Max</th>\n",
              "      <td>0.348733</td>\n",
              "    </tr>\n",
              "    <tr>\n",
              "      <th>Min</th>\n",
              "      <td>-0.068334</td>\n",
              "    </tr>\n",
              "    <tr>\n",
              "      <th>St. dev.</th>\n",
              "      <td>0.089626</td>\n",
              "    </tr>\n",
              "    <tr>\n",
              "      <th>Skew</th>\n",
              "      <td>2.122673</td>\n",
              "    </tr>\n",
              "    <tr>\n",
              "      <th>Kurtosis</th>\n",
              "      <td>3.689837</td>\n",
              "    </tr>\n",
              "  </tbody>\n",
              "</table>\n",
              "</div>"
            ],
            "text/plain": [
              "          Signal returns\n",
              "Stats                   \n",
              "Mean            0.019421\n",
              "Median         -0.016428\n",
              "Max             0.348733\n",
              "Min            -0.068334\n",
              "St. dev.        0.089626\n",
              "Skew            2.122673\n",
              "Kurtosis        3.689837"
            ]
          },
          "metadata": {
            "tags": []
          },
          "execution_count": 17
        }
      ]
    },
    {
      "cell_type": "markdown",
      "metadata": {
        "id": "Mb_zqsDPPT9j"
      },
      "source": [
        "## Cumulative returns"
      ]
    },
    {
      "cell_type": "code",
      "metadata": {
        "id": "uGgVL6M-P0nF",
        "executionInfo": {
          "status": "ok",
          "timestamp": 1628779287028,
          "user_tz": -120,
          "elapsed": 16,
          "user": {
            "displayName": "Max Lucas Kienast",
            "photoUrl": "",
            "userId": "18136220580306165387"
          }
        }
      },
      "source": [
        "def cumulative_signal_returns(signal_returns):\n",
        "\n",
        "  cumulative_returns = 1 # start with 100%\n",
        "  for signal_return in signal_returns[:-1]:\n",
        "    cumulative_returns = cumulative_returns * (1+signal_return)\n",
        "\n",
        "  return cumulative_returns"
      ],
      "execution_count": 18,
      "outputs": []
    },
    {
      "cell_type": "code",
      "metadata": {
        "colab": {
          "base_uri": "https://localhost:8080/"
        },
        "id": "arCKfpSmQPpN",
        "executionInfo": {
          "status": "ok",
          "timestamp": 1628779287029,
          "user_tz": -120,
          "elapsed": 16,
          "user": {
            "displayName": "Max Lucas Kienast",
            "photoUrl": "",
            "userId": "18136220580306165387"
          }
        },
        "outputId": "5711320a-e412-482d-8ed5-e29991ce581f"
      },
      "source": [
        "signal_cum_ret = cumulative_signal_returns(return_df.loc[:, \"Signal returns\"])\n",
        "signal_cum_ret"
      ],
      "execution_count": 19,
      "outputs": [
        {
          "output_type": "execute_result",
          "data": {
            "text/plain": [
              "2.0399106222423193"
            ]
          },
          "metadata": {
            "tags": []
          },
          "execution_count": 19
        }
      ]
    },
    {
      "cell_type": "code",
      "metadata": {
        "colab": {
          "base_uri": "https://localhost:8080/"
        },
        "id": "LnypKComKmrp",
        "executionInfo": {
          "status": "ok",
          "timestamp": 1628779287030,
          "user_tz": -120,
          "elapsed": 15,
          "user": {
            "displayName": "Max Lucas Kienast",
            "photoUrl": "",
            "userId": "18136220580306165387"
          }
        },
        "outputId": "744fa2fc-642c-4cd0-9002-62437ceb5f8c"
      },
      "source": [
        "# confirm function results\n",
        "signal_cumulative_returns = (return_df.loc[:, \"Signal returns\"]+1).cumprod()\n",
        "signal_cumulative_returns"
      ],
      "execution_count": 20,
      "outputs": [
        {
          "output_type": "execute_result",
          "data": {
            "text/plain": [
              "Date\n",
              "2019-01-02    1.006966\n",
              "2019-01-18    0.984363\n",
              "2019-01-22    0.955725\n",
              "2019-01-25    0.937067\n",
              "2019-01-29    0.873033\n",
              "2019-01-30    1.076327\n",
              "2019-05-07    1.166136\n",
              "2019-06-06    1.284500\n",
              "2019-08-02    1.288215\n",
              "2019-08-08    1.277600\n",
              "2019-08-09    1.226874\n",
              "2019-08-13    1.190356\n",
              "2019-08-14    1.168340\n",
              "2019-08-16    1.146501\n",
              "2019-08-23    1.124718\n",
              "2019-08-26    1.112027\n",
              "2019-08-27    1.104565\n",
              "2019-08-28    1.105478\n",
              "2019-09-03    1.086722\n",
              "2019-09-04    1.351865\n",
              "2019-12-03    1.339933\n",
              "2019-12-04    1.584483\n",
              "2020-01-31    1.536669\n",
              "2020-02-04    1.512296\n",
              "2020-02-21    1.756641\n",
              "2020-04-06    1.796128\n",
              "2020-04-21    1.744394\n",
              "2020-04-22    2.352722\n",
              "2020-07-23    2.302929\n",
              "2020-07-27    2.265097\n",
              "2020-07-28    2.221679\n",
              "2020-07-29    2.642064\n",
              "2020-09-08    2.591949\n",
              "2020-09-28    2.548209\n",
              "2020-10-02    2.469747\n",
              "2020-10-05    2.398941\n",
              "2020-10-06    2.358238\n",
              "2020-10-07    2.376681\n",
              "2020-10-19    2.345327\n",
              "2020-10-20    2.332554\n",
              "2020-10-21    2.337943\n",
              "2020-10-27    2.229668\n",
              "2020-10-28    2.154476\n",
              "2020-11-04    2.137541\n",
              "2020-11-23    2.039911\n",
              "2020-11-30         NaN\n",
              "Name: Signal returns, dtype: float64"
            ]
          },
          "metadata": {
            "tags": []
          },
          "execution_count": 20
        }
      ]
    },
    {
      "cell_type": "code",
      "metadata": {
        "id": "q50DkPFyPo7E",
        "executionInfo": {
          "status": "ok",
          "timestamp": 1628779287030,
          "user_tz": -120,
          "elapsed": 13,
          "user": {
            "displayName": "Max Lucas Kienast",
            "photoUrl": "",
            "userId": "18136220580306165387"
          }
        }
      },
      "source": [
        ""
      ],
      "execution_count": 20,
      "outputs": []
    }
  ]
}
