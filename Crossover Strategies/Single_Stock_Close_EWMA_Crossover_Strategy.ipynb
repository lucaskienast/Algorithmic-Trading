{
  "nbformat": 4,
  "nbformat_minor": 0,
  "metadata": {
    "colab": {
      "name": "Single Stock Close-EWMA Crossover Strategy.ipynb",
      "provenance": [],
      "collapsed_sections": []
    },
    "kernelspec": {
      "name": "python3",
      "display_name": "Python 3"
    },
    "language_info": {
      "name": "python"
    }
  },
  "cells": [
    {
      "cell_type": "markdown",
      "metadata": {
        "id": "-KsjVTx_F72a"
      },
      "source": [
        "# Single Stock Close-EWMA Crossover Strategy\n",
        "\n",
        "- long when close > EWMA21 (i.e. close crosses above close)\n",
        "- short when close < EWMA21 (i.e. close crosses below close)"
      ]
    },
    {
      "cell_type": "markdown",
      "metadata": {
        "id": "iMwoprL1GOTu"
      },
      "source": [
        "## Import libraries"
      ]
    },
    {
      "cell_type": "code",
      "metadata": {
        "id": "hCX8U7uJHzT1"
      },
      "source": [
        "pip install yfinance"
      ],
      "execution_count": null,
      "outputs": []
    },
    {
      "cell_type": "code",
      "metadata": {
        "id": "gqhLxK5DjGw7"
      },
      "source": [
        "import numpy as np\n",
        "import pandas as pd\n",
        "import yfinance as yf\n",
        "import matplotlib.pyplot as plt\n",
        "from scipy.stats import skew\n",
        "from scipy.stats import kurtosis\n",
        "plt.style.use(\"seaborn-whitegrid\")"
      ],
      "execution_count": 2,
      "outputs": []
    },
    {
      "cell_type": "markdown",
      "metadata": {
        "id": "sV7hF89cGSC9"
      },
      "source": [
        "## Load stock data"
      ]
    },
    {
      "cell_type": "code",
      "metadata": {
        "colab": {
          "base_uri": "https://localhost:8080/",
          "height": 467
        },
        "id": "kSV0LEVyjIhi",
        "outputId": "5e04b5fe-b5e5-47c8-8bd7-59ce4deab93d"
      },
      "source": [
        "ticker = \"AAPL\"\n",
        "aapl_df = yf.download(tickers=ticker, period=\"max\", interval=\"1d\", group_by=\"ticker\", auto_adjust=True)\n",
        "aapl_df"
      ],
      "execution_count": 3,
      "outputs": [
        {
          "output_type": "stream",
          "text": [
            "\r[*********************100%***********************]  1 of 1 completed\n"
          ],
          "name": "stdout"
        },
        {
          "output_type": "execute_result",
          "data": {
            "text/html": [
              "<div>\n",
              "<style scoped>\n",
              "    .dataframe tbody tr th:only-of-type {\n",
              "        vertical-align: middle;\n",
              "    }\n",
              "\n",
              "    .dataframe tbody tr th {\n",
              "        vertical-align: top;\n",
              "    }\n",
              "\n",
              "    .dataframe thead th {\n",
              "        text-align: right;\n",
              "    }\n",
              "</style>\n",
              "<table border=\"1\" class=\"dataframe\">\n",
              "  <thead>\n",
              "    <tr style=\"text-align: right;\">\n",
              "      <th></th>\n",
              "      <th>Open</th>\n",
              "      <th>High</th>\n",
              "      <th>Low</th>\n",
              "      <th>Close</th>\n",
              "      <th>Volume</th>\n",
              "    </tr>\n",
              "    <tr>\n",
              "      <th>Date</th>\n",
              "      <th></th>\n",
              "      <th></th>\n",
              "      <th></th>\n",
              "      <th></th>\n",
              "      <th></th>\n",
              "    </tr>\n",
              "  </thead>\n",
              "  <tbody>\n",
              "    <tr>\n",
              "      <th>1980-12-12</th>\n",
              "      <td>0.100600</td>\n",
              "      <td>0.101037</td>\n",
              "      <td>0.100600</td>\n",
              "      <td>0.100600</td>\n",
              "      <td>469033600</td>\n",
              "    </tr>\n",
              "    <tr>\n",
              "      <th>1980-12-15</th>\n",
              "      <td>0.095789</td>\n",
              "      <td>0.095789</td>\n",
              "      <td>0.095352</td>\n",
              "      <td>0.095352</td>\n",
              "      <td>175884800</td>\n",
              "    </tr>\n",
              "    <tr>\n",
              "      <th>1980-12-16</th>\n",
              "      <td>0.088790</td>\n",
              "      <td>0.088790</td>\n",
              "      <td>0.088353</td>\n",
              "      <td>0.088353</td>\n",
              "      <td>105728000</td>\n",
              "    </tr>\n",
              "    <tr>\n",
              "      <th>1980-12-17</th>\n",
              "      <td>0.090540</td>\n",
              "      <td>0.090977</td>\n",
              "      <td>0.090540</td>\n",
              "      <td>0.090540</td>\n",
              "      <td>86441600</td>\n",
              "    </tr>\n",
              "    <tr>\n",
              "      <th>1980-12-18</th>\n",
              "      <td>0.093165</td>\n",
              "      <td>0.093602</td>\n",
              "      <td>0.093165</td>\n",
              "      <td>0.093165</td>\n",
              "      <td>73449600</td>\n",
              "    </tr>\n",
              "    <tr>\n",
              "      <th>...</th>\n",
              "      <td>...</td>\n",
              "      <td>...</td>\n",
              "      <td>...</td>\n",
              "      <td>...</td>\n",
              "      <td>...</td>\n",
              "    </tr>\n",
              "    <tr>\n",
              "      <th>2021-08-05</th>\n",
              "      <td>146.760114</td>\n",
              "      <td>147.618828</td>\n",
              "      <td>145.951328</td>\n",
              "      <td>146.839996</td>\n",
              "      <td>46397700</td>\n",
              "    </tr>\n",
              "    <tr>\n",
              "      <th>2021-08-06</th>\n",
              "      <td>146.350006</td>\n",
              "      <td>147.110001</td>\n",
              "      <td>145.630005</td>\n",
              "      <td>146.139999</td>\n",
              "      <td>54067400</td>\n",
              "    </tr>\n",
              "    <tr>\n",
              "      <th>2021-08-09</th>\n",
              "      <td>146.199997</td>\n",
              "      <td>146.699997</td>\n",
              "      <td>145.520004</td>\n",
              "      <td>146.089996</td>\n",
              "      <td>48908700</td>\n",
              "    </tr>\n",
              "    <tr>\n",
              "      <th>2021-08-10</th>\n",
              "      <td>146.440002</td>\n",
              "      <td>147.710007</td>\n",
              "      <td>145.300003</td>\n",
              "      <td>145.600006</td>\n",
              "      <td>68922200</td>\n",
              "    </tr>\n",
              "    <tr>\n",
              "      <th>2021-08-11</th>\n",
              "      <td>146.050003</td>\n",
              "      <td>146.720001</td>\n",
              "      <td>145.529999</td>\n",
              "      <td>145.860001</td>\n",
              "      <td>48422100</td>\n",
              "    </tr>\n",
              "  </tbody>\n",
              "</table>\n",
              "<p>10253 rows × 5 columns</p>\n",
              "</div>"
            ],
            "text/plain": [
              "                  Open        High         Low       Close     Volume\n",
              "Date                                                                 \n",
              "1980-12-12    0.100600    0.101037    0.100600    0.100600  469033600\n",
              "1980-12-15    0.095789    0.095789    0.095352    0.095352  175884800\n",
              "1980-12-16    0.088790    0.088790    0.088353    0.088353  105728000\n",
              "1980-12-17    0.090540    0.090977    0.090540    0.090540   86441600\n",
              "1980-12-18    0.093165    0.093602    0.093165    0.093165   73449600\n",
              "...                ...         ...         ...         ...        ...\n",
              "2021-08-05  146.760114  147.618828  145.951328  146.839996   46397700\n",
              "2021-08-06  146.350006  147.110001  145.630005  146.139999   54067400\n",
              "2021-08-09  146.199997  146.699997  145.520004  146.089996   48908700\n",
              "2021-08-10  146.440002  147.710007  145.300003  145.600006   68922200\n",
              "2021-08-11  146.050003  146.720001  145.529999  145.860001   48422100\n",
              "\n",
              "[10253 rows x 5 columns]"
            ]
          },
          "metadata": {
            "tags": []
          },
          "execution_count": 3
        }
      ]
    },
    {
      "cell_type": "markdown",
      "metadata": {
        "id": "zOLNxZ9kvXPv"
      },
      "source": [
        "## Get close prices"
      ]
    },
    {
      "cell_type": "code",
      "metadata": {
        "colab": {
          "base_uri": "https://localhost:8080/",
          "height": 450
        },
        "id": "hhQHeJw5vWJ3",
        "outputId": "b93a7dfb-453a-4f71-d1de-1066f4e6e75f"
      },
      "source": [
        "aapl_close = aapl_df.copy()\n",
        "aapl_close = aapl_close.drop(columns=[\"Open\", \"High\", \"Low\", \"Volume\"])\n",
        "aapl_close = aapl_close.rename(columns={\"Close\":\"AAPL\"})\n",
        "aapl_close"
      ],
      "execution_count": 4,
      "outputs": [
        {
          "output_type": "execute_result",
          "data": {
            "text/html": [
              "<div>\n",
              "<style scoped>\n",
              "    .dataframe tbody tr th:only-of-type {\n",
              "        vertical-align: middle;\n",
              "    }\n",
              "\n",
              "    .dataframe tbody tr th {\n",
              "        vertical-align: top;\n",
              "    }\n",
              "\n",
              "    .dataframe thead th {\n",
              "        text-align: right;\n",
              "    }\n",
              "</style>\n",
              "<table border=\"1\" class=\"dataframe\">\n",
              "  <thead>\n",
              "    <tr style=\"text-align: right;\">\n",
              "      <th></th>\n",
              "      <th>AAPL</th>\n",
              "    </tr>\n",
              "    <tr>\n",
              "      <th>Date</th>\n",
              "      <th></th>\n",
              "    </tr>\n",
              "  </thead>\n",
              "  <tbody>\n",
              "    <tr>\n",
              "      <th>1980-12-12</th>\n",
              "      <td>0.100600</td>\n",
              "    </tr>\n",
              "    <tr>\n",
              "      <th>1980-12-15</th>\n",
              "      <td>0.095352</td>\n",
              "    </tr>\n",
              "    <tr>\n",
              "      <th>1980-12-16</th>\n",
              "      <td>0.088353</td>\n",
              "    </tr>\n",
              "    <tr>\n",
              "      <th>1980-12-17</th>\n",
              "      <td>0.090540</td>\n",
              "    </tr>\n",
              "    <tr>\n",
              "      <th>1980-12-18</th>\n",
              "      <td>0.093165</td>\n",
              "    </tr>\n",
              "    <tr>\n",
              "      <th>...</th>\n",
              "      <td>...</td>\n",
              "    </tr>\n",
              "    <tr>\n",
              "      <th>2021-08-05</th>\n",
              "      <td>146.839996</td>\n",
              "    </tr>\n",
              "    <tr>\n",
              "      <th>2021-08-06</th>\n",
              "      <td>146.139999</td>\n",
              "    </tr>\n",
              "    <tr>\n",
              "      <th>2021-08-09</th>\n",
              "      <td>146.089996</td>\n",
              "    </tr>\n",
              "    <tr>\n",
              "      <th>2021-08-10</th>\n",
              "      <td>145.600006</td>\n",
              "    </tr>\n",
              "    <tr>\n",
              "      <th>2021-08-11</th>\n",
              "      <td>145.860001</td>\n",
              "    </tr>\n",
              "  </tbody>\n",
              "</table>\n",
              "<p>10253 rows × 1 columns</p>\n",
              "</div>"
            ],
            "text/plain": [
              "                  AAPL\n",
              "Date                  \n",
              "1980-12-12    0.100600\n",
              "1980-12-15    0.095352\n",
              "1980-12-16    0.088353\n",
              "1980-12-17    0.090540\n",
              "1980-12-18    0.093165\n",
              "...                ...\n",
              "2021-08-05  146.839996\n",
              "2021-08-06  146.139999\n",
              "2021-08-09  146.089996\n",
              "2021-08-10  145.600006\n",
              "2021-08-11  145.860001\n",
              "\n",
              "[10253 rows x 1 columns]"
            ]
          },
          "metadata": {
            "tags": []
          },
          "execution_count": 4
        }
      ]
    },
    {
      "cell_type": "markdown",
      "metadata": {
        "id": "NgRavc2AJTr6"
      },
      "source": [
        "## Visualise adjusted close prices"
      ]
    },
    {
      "cell_type": "code",
      "metadata": {
        "colab": {
          "base_uri": "https://localhost:8080/",
          "height": 519
        },
        "id": "nwgRqaIyI5cy",
        "outputId": "3f363ce6-7cae-47ed-9c8e-597b85d8f09f"
      },
      "source": [
        "plt.figure(figsize=(16,8))\n",
        "plt.plot(aapl_close.loc[\"2000-01-01\":\"2002-01-01\", \"AAPL\"], label=\"Daily close\")\n",
        "plt.title(\"AAPL Adj Close 2019-2021\", fontsize=18)\n",
        "plt.legend(fontsize=18)\n",
        "plt.xlabel(\"Date\", fontsize=18)\n",
        "plt.ylabel(\"Adj Close\", fontsize=18)\n",
        "plt.show()"
      ],
      "execution_count": 5,
      "outputs": [
        {
          "output_type": "display_data",
          "data": {
            "image/png": "[encoded data removed]",
            "text/plain": [
              "<Figure size 1152x576 with 1 Axes>"
            ]
          },
          "metadata": {
            "tags": []
          }
        }
      ]
    },
    {
      "cell_type": "markdown",
      "metadata": {
        "id": "_SAa3iVfKp1l"
      },
      "source": [
        "## Exponentially Weighted Moving Average (EWMA)"
      ]
    },
    {
      "cell_type": "code",
      "metadata": {
        "id": "-o9CRW4xJxVi"
      },
      "source": [
        "def EWMA(df, period):\n",
        "  return df.ewm(span=period, adjust=False).mean()"
      ],
      "execution_count": 6,
      "outputs": []
    },
    {
      "cell_type": "code",
      "metadata": {
        "id": "OxZb-nNnK1c4",
        "colab": {
          "base_uri": "https://localhost:8080/",
          "height": 450
        },
        "outputId": "65c81ed9-8fe4-441c-9bad-bba50c5e0fe1"
      },
      "source": [
        "aapl_ewma = aapl_close.copy()\n",
        "aapl_ewma.loc[:,\"AAPL\"] = EWMA(aapl_ewma, 21)\n",
        "aapl_ewma"
      ],
      "execution_count": 7,
      "outputs": [
        {
          "output_type": "execute_result",
          "data": {
            "text/html": [
              "<div>\n",
              "<style scoped>\n",
              "    .dataframe tbody tr th:only-of-type {\n",
              "        vertical-align: middle;\n",
              "    }\n",
              "\n",
              "    .dataframe tbody tr th {\n",
              "        vertical-align: top;\n",
              "    }\n",
              "\n",
              "    .dataframe thead th {\n",
              "        text-align: right;\n",
              "    }\n",
              "</style>\n",
              "<table border=\"1\" class=\"dataframe\">\n",
              "  <thead>\n",
              "    <tr style=\"text-align: right;\">\n",
              "      <th></th>\n",
              "      <th>AAPL</th>\n",
              "    </tr>\n",
              "    <tr>\n",
              "      <th>Date</th>\n",
              "      <th></th>\n",
              "    </tr>\n",
              "  </thead>\n",
              "  <tbody>\n",
              "    <tr>\n",
              "      <th>1980-12-12</th>\n",
              "      <td>0.100600</td>\n",
              "    </tr>\n",
              "    <tr>\n",
              "      <th>1980-12-15</th>\n",
              "      <td>0.100123</td>\n",
              "    </tr>\n",
              "    <tr>\n",
              "      <th>1980-12-16</th>\n",
              "      <td>0.099053</td>\n",
              "    </tr>\n",
              "    <tr>\n",
              "      <th>1980-12-17</th>\n",
              "      <td>0.098279</td>\n",
              "    </tr>\n",
              "    <tr>\n",
              "      <th>1980-12-18</th>\n",
              "      <td>0.097814</td>\n",
              "    </tr>\n",
              "    <tr>\n",
              "      <th>...</th>\n",
              "      <td>...</td>\n",
              "    </tr>\n",
              "    <tr>\n",
              "      <th>2021-08-05</th>\n",
              "      <td>144.631168</td>\n",
              "    </tr>\n",
              "    <tr>\n",
              "      <th>2021-08-06</th>\n",
              "      <td>144.768334</td>\n",
              "    </tr>\n",
              "    <tr>\n",
              "      <th>2021-08-09</th>\n",
              "      <td>144.888485</td>\n",
              "    </tr>\n",
              "    <tr>\n",
              "      <th>2021-08-10</th>\n",
              "      <td>144.953169</td>\n",
              "    </tr>\n",
              "    <tr>\n",
              "      <th>2021-08-11</th>\n",
              "      <td>145.035608</td>\n",
              "    </tr>\n",
              "  </tbody>\n",
              "</table>\n",
              "<p>10253 rows × 1 columns</p>\n",
              "</div>"
            ],
            "text/plain": [
              "                  AAPL\n",
              "Date                  \n",
              "1980-12-12    0.100600\n",
              "1980-12-15    0.100123\n",
              "1980-12-16    0.099053\n",
              "1980-12-17    0.098279\n",
              "1980-12-18    0.097814\n",
              "...                ...\n",
              "2021-08-05  144.631168\n",
              "2021-08-06  144.768334\n",
              "2021-08-09  144.888485\n",
              "2021-08-10  144.953169\n",
              "2021-08-11  145.035608\n",
              "\n",
              "[10253 rows x 1 columns]"
            ]
          },
          "metadata": {
            "tags": []
          },
          "execution_count": 7
        }
      ]
    },
    {
      "cell_type": "markdown",
      "metadata": {
        "id": "kRCD9esWMHC4"
      },
      "source": [
        "## Visualise SMA on top of adjusted close"
      ]
    },
    {
      "cell_type": "code",
      "metadata": {
        "colab": {
          "base_uri": "https://localhost:8080/",
          "height": 519
        },
        "id": "Axv7bCX-L6dh",
        "outputId": "11f61ab4-7046-45eb-bdf3-1d41ce74ed44"
      },
      "source": [
        "plt.figure(figsize=(16,8))\n",
        "plt.plot(aapl_close.loc[\"2000-01-01\":\"2002-01-01\",\"AAPL\"], alpha=1.0, label=\"Daily close\", linewidth=2, color=\"cornflowerblue\", zorder=2)\n",
        "plt.plot(aapl_ewma.loc[\"2000-01-01\":\"2002-01-01\",\"AAPL\"], alpha=1.0, label=\"21D EWMA\", linewidth=2, color=\"darkorange\", zorder=1)\n",
        "plt.title(\"AAPL Daily Adj Close with 21D-EWMA\", fontsize=18)\n",
        "plt.legend(fontsize=18)\n",
        "plt.xlabel(\"Date\", fontsize=18)\n",
        "plt.ylabel(\"Price\", fontsize=18)\n",
        "plt.show()"
      ],
      "execution_count": 8,
      "outputs": [
        {
          "output_type": "display_data",
          "data": {
            "image/png": "[encoded data removed]",
            "text/plain": [
              "<Figure size 1152x576 with 1 Axes>"
            ]
          },
          "metadata": {
            "tags": []
          }
        }
      ]
    },
    {
      "cell_type": "markdown",
      "metadata": {
        "id": "dK7KU3iSOf8D"
      },
      "source": [
        "## Compute long and short signals\n",
        "\n",
        "- Long: close > EWMA21\n",
        "- Short: close < EWMA21"
      ]
    },
    {
      "cell_type": "code",
      "metadata": {
        "id": "3BapG8sutqAM"
      },
      "source": [
        "def get_long_short(close, moving_avg):\n",
        "  # create initial long/short signal dataframe with all zeros\n",
        "  long_short = (close*0).fillna(0).astype(np.int)\n",
        "  # create long signals when close > moving avg\n",
        "  long_signals = (close > moving_avg).astype(np.int)\n",
        "  # create short signals when close < moving avg\n",
        "  short_signals = (close < moving_avg).astype(np.int)\n",
        "  # combine both long and short signals\n",
        "  long_short = long_short + long_signals - short_signals\n",
        "\n",
        "  return long_short"
      ],
      "execution_count": 9,
      "outputs": []
    },
    {
      "cell_type": "code",
      "metadata": {
        "id": "346n1Dsftp-T",
        "colab": {
          "base_uri": "https://localhost:8080/",
          "height": 450
        },
        "outputId": "31b7dcda-613a-4b0e-86fb-859aa0d3bdfa"
      },
      "source": [
        "# compute signals b/w 2020 and 2021 and cut ewma and close to that timeframe too\n",
        "aapl_close = aapl_close.loc[\"2000-01-01\":\"2002-01-01\", :]\n",
        "aapl_ewma = aapl_ewma.loc[\"2000-01-01\":\"2002-01-01\", :]\n",
        "signal = get_long_short(aapl_close, aapl_ewma)\n",
        "signal"
      ],
      "execution_count": 10,
      "outputs": [
        {
          "output_type": "execute_result",
          "data": {
            "text/html": [
              "<div>\n",
              "<style scoped>\n",
              "    .dataframe tbody tr th:only-of-type {\n",
              "        vertical-align: middle;\n",
              "    }\n",
              "\n",
              "    .dataframe tbody tr th {\n",
              "        vertical-align: top;\n",
              "    }\n",
              "\n",
              "    .dataframe thead th {\n",
              "        text-align: right;\n",
              "    }\n",
              "</style>\n",
              "<table border=\"1\" class=\"dataframe\">\n",
              "  <thead>\n",
              "    <tr style=\"text-align: right;\">\n",
              "      <th></th>\n",
              "      <th>AAPL</th>\n",
              "    </tr>\n",
              "    <tr>\n",
              "      <th>Date</th>\n",
              "      <th></th>\n",
              "    </tr>\n",
              "  </thead>\n",
              "  <tbody>\n",
              "    <tr>\n",
              "      <th>2000-01-03</th>\n",
              "      <td>1</td>\n",
              "    </tr>\n",
              "    <tr>\n",
              "      <th>2000-01-04</th>\n",
              "      <td>1</td>\n",
              "    </tr>\n",
              "    <tr>\n",
              "      <th>2000-01-05</th>\n",
              "      <td>1</td>\n",
              "    </tr>\n",
              "    <tr>\n",
              "      <th>2000-01-06</th>\n",
              "      <td>-1</td>\n",
              "    </tr>\n",
              "    <tr>\n",
              "      <th>2000-01-07</th>\n",
              "      <td>-1</td>\n",
              "    </tr>\n",
              "    <tr>\n",
              "      <th>...</th>\n",
              "      <td>...</td>\n",
              "    </tr>\n",
              "    <tr>\n",
              "      <th>2001-12-24</th>\n",
              "      <td>1</td>\n",
              "    </tr>\n",
              "    <tr>\n",
              "      <th>2001-12-26</th>\n",
              "      <td>1</td>\n",
              "    </tr>\n",
              "    <tr>\n",
              "      <th>2001-12-27</th>\n",
              "      <td>1</td>\n",
              "    </tr>\n",
              "    <tr>\n",
              "      <th>2001-12-28</th>\n",
              "      <td>1</td>\n",
              "    </tr>\n",
              "    <tr>\n",
              "      <th>2001-12-31</th>\n",
              "      <td>1</td>\n",
              "    </tr>\n",
              "  </tbody>\n",
              "</table>\n",
              "<p>500 rows × 1 columns</p>\n",
              "</div>"
            ],
            "text/plain": [
              "            AAPL\n",
              "Date            \n",
              "2000-01-03     1\n",
              "2000-01-04     1\n",
              "2000-01-05     1\n",
              "2000-01-06    -1\n",
              "2000-01-07    -1\n",
              "...          ...\n",
              "2001-12-24     1\n",
              "2001-12-26     1\n",
              "2001-12-27     1\n",
              "2001-12-28     1\n",
              "2001-12-31     1\n",
              "\n",
              "[500 rows x 1 columns]"
            ]
          },
          "metadata": {
            "tags": []
          },
          "execution_count": 10
        }
      ]
    },
    {
      "cell_type": "markdown",
      "metadata": {
        "id": "i-8cD3Nx3iFm"
      },
      "source": [
        "## Filter signal\n",
        "\n",
        "Filter out all consecutive-equal signals, so only long/short changes remain."
      ]
    },
    {
      "cell_type": "code",
      "metadata": {
        "id": "e8x7ymLLtp8C"
      },
      "source": [
        "def filter_signal(signal):\n",
        "\n",
        "  filtered_signal = signal.copy()\n",
        "  for ticker in filtered_signal:\n",
        "    filtered_signal.loc[filtered_signal[ticker].shift(1).eq(filtered_signal[ticker])] = 0\n",
        "  \n",
        "  return filtered_signal"
      ],
      "execution_count": 11,
      "outputs": []
    },
    {
      "cell_type": "code",
      "metadata": {
        "id": "OQOFrtWltp5o",
        "colab": {
          "base_uri": "https://localhost:8080/",
          "height": 450
        },
        "outputId": "00f8249f-1554-4330-e96e-2b12e0f1c853"
      },
      "source": [
        "filtered_signal = filter_signal(signal)\n",
        "filtered_signal"
      ],
      "execution_count": 12,
      "outputs": [
        {
          "output_type": "execute_result",
          "data": {
            "text/html": [
              "<div>\n",
              "<style scoped>\n",
              "    .dataframe tbody tr th:only-of-type {\n",
              "        vertical-align: middle;\n",
              "    }\n",
              "\n",
              "    .dataframe tbody tr th {\n",
              "        vertical-align: top;\n",
              "    }\n",
              "\n",
              "    .dataframe thead th {\n",
              "        text-align: right;\n",
              "    }\n",
              "</style>\n",
              "<table border=\"1\" class=\"dataframe\">\n",
              "  <thead>\n",
              "    <tr style=\"text-align: right;\">\n",
              "      <th></th>\n",
              "      <th>AAPL</th>\n",
              "    </tr>\n",
              "    <tr>\n",
              "      <th>Date</th>\n",
              "      <th></th>\n",
              "    </tr>\n",
              "  </thead>\n",
              "  <tbody>\n",
              "    <tr>\n",
              "      <th>2000-01-03</th>\n",
              "      <td>1</td>\n",
              "    </tr>\n",
              "    <tr>\n",
              "      <th>2000-01-04</th>\n",
              "      <td>0</td>\n",
              "    </tr>\n",
              "    <tr>\n",
              "      <th>2000-01-05</th>\n",
              "      <td>0</td>\n",
              "    </tr>\n",
              "    <tr>\n",
              "      <th>2000-01-06</th>\n",
              "      <td>-1</td>\n",
              "    </tr>\n",
              "    <tr>\n",
              "      <th>2000-01-07</th>\n",
              "      <td>0</td>\n",
              "    </tr>\n",
              "    <tr>\n",
              "      <th>...</th>\n",
              "      <td>...</td>\n",
              "    </tr>\n",
              "    <tr>\n",
              "      <th>2001-12-24</th>\n",
              "      <td>1</td>\n",
              "    </tr>\n",
              "    <tr>\n",
              "      <th>2001-12-26</th>\n",
              "      <td>0</td>\n",
              "    </tr>\n",
              "    <tr>\n",
              "      <th>2001-12-27</th>\n",
              "      <td>0</td>\n",
              "    </tr>\n",
              "    <tr>\n",
              "      <th>2001-12-28</th>\n",
              "      <td>0</td>\n",
              "    </tr>\n",
              "    <tr>\n",
              "      <th>2001-12-31</th>\n",
              "      <td>0</td>\n",
              "    </tr>\n",
              "  </tbody>\n",
              "</table>\n",
              "<p>500 rows × 1 columns</p>\n",
              "</div>"
            ],
            "text/plain": [
              "            AAPL\n",
              "Date            \n",
              "2000-01-03     1\n",
              "2000-01-04     0\n",
              "2000-01-05     0\n",
              "2000-01-06    -1\n",
              "2000-01-07     0\n",
              "...          ...\n",
              "2001-12-24     1\n",
              "2001-12-26     0\n",
              "2001-12-27     0\n",
              "2001-12-28     0\n",
              "2001-12-31     0\n",
              "\n",
              "[500 rows x 1 columns]"
            ]
          },
          "metadata": {
            "tags": []
          },
          "execution_count": 12
        }
      ]
    },
    {
      "cell_type": "code",
      "metadata": {
        "id": "v_hHyqWXtp2O",
        "colab": {
          "base_uri": "https://localhost:8080/",
          "height": 519
        },
        "outputId": "d36e28df-d74c-49b8-9325-36770bb91f1d"
      },
      "source": [
        "plt.figure(figsize=(16,8))\n",
        "plt.plot(aapl_close.loc[:,\"AAPL\"], alpha=1.0, label=\"Daily close\", linewidth=2, color=\"cornflowerblue\", zorder=2)\n",
        "plt.plot(aapl_ewma.loc[:,\"AAPL\"], alpha=1.0, label=\"21D EWMA\", linewidth=2, color=\"darkorange\", zorder=1)\n",
        "plt.scatter(filtered_signal.index, np.where(filtered_signal.loc[:, \"AAPL\"]==1, aapl_close.loc[:,\"AAPL\"], np.nan), alpha=1, label=\"Long Signal\", marker=\"^\", color=\"green\", s=200, zorder=3)\n",
        "plt.scatter(filtered_signal.index, np.where(filtered_signal.loc[:, \"AAPL\"]==-1, aapl_close.loc[:, \"AAPL\"], np.nan), alpha=1, label=\"Short Signal\", marker=\"v\", color=\"red\", s=200, zorder=5)\n",
        "plt.title(\"AAPL Daily Adj Close with 21D-EWMA & Long/Short Signals\", fontsize=18)\n",
        "plt.legend(fontsize=18)\n",
        "plt.xlabel(\"Date\", fontsize=18)\n",
        "plt.ylabel(\"Price\", fontsize=18)\n",
        "plt.show()"
      ],
      "execution_count": 13,
      "outputs": [
        {
          "output_type": "display_data",
          "data": {
            "image/png": "[encoded data removed]",
            "text/plain": [
              "<Figure size 1152x576 with 1 Axes>"
            ]
          },
          "metadata": {
            "tags": []
          }
        }
      ]
    },
    {
      "cell_type": "markdown",
      "metadata": {
        "id": "vjROxxtV9_NP"
      },
      "source": [
        "## Signal log returns\n",
        "\n",
        "For each long/short signal get the price of the next (opposite) signal to compute the returns made in the period between signal changes."
      ]
    },
    {
      "cell_type": "code",
      "metadata": {
        "id": "eMWwTy-6tpz2"
      },
      "source": [
        "def get_lookahead_returns(close, signal):\n",
        "\n",
        "  entry_signals = signal.copy()\n",
        "  entry_signals = entry_signals[entry_signals!=0].dropna(axis=0)\n",
        "\n",
        "  entry_prices = close.copy()\n",
        "  entry_prices = entry_prices[signal!=0].dropna(axis=0)\n",
        "\n",
        "  exit_prices = entry_prices.shift(-1)\n",
        "  price_returns = exit_prices/entry_prices - 1\n",
        "  signal_returns = entry_signals * price_returns\n",
        "\n",
        "  return pd.DataFrame(data={\"Entry prices\":entry_prices[\"AAPL\"],\n",
        "                            \"Exit prices\":exit_prices[\"AAPL\"],\n",
        "                            \"Price returns\":price_returns[\"AAPL\"],\n",
        "                            \"Entry signals\":entry_signals[\"AAPL\"],\n",
        "                            \"Signal returns\":signal_returns[\"AAPL\"]}, index=entry_signals.index)"
      ],
      "execution_count": 14,
      "outputs": []
    },
    {
      "cell_type": "code",
      "metadata": {
        "colab": {
          "base_uri": "https://localhost:8080/",
          "height": 1000
        },
        "id": "OZxtWcwE_3Qn",
        "outputId": "21e7ba31-ca38-4a44-d00b-d0204c488923"
      },
      "source": [
        "return_df = get_lookahead_returns(aapl_close, filtered_signal)\n",
        "return_df.head(50)"
      ],
      "execution_count": 15,
      "outputs": [
        {
          "output_type": "execute_result",
          "data": {
            "text/html": [
              "<div>\n",
              "<style scoped>\n",
              "    .dataframe tbody tr th:only-of-type {\n",
              "        vertical-align: middle;\n",
              "    }\n",
              "\n",
              "    .dataframe tbody tr th {\n",
              "        vertical-align: top;\n",
              "    }\n",
              "\n",
              "    .dataframe thead th {\n",
              "        text-align: right;\n",
              "    }\n",
              "</style>\n",
              "<table border=\"1\" class=\"dataframe\">\n",
              "  <thead>\n",
              "    <tr style=\"text-align: right;\">\n",
              "      <th></th>\n",
              "      <th>Entry prices</th>\n",
              "      <th>Exit prices</th>\n",
              "      <th>Price returns</th>\n",
              "      <th>Entry signals</th>\n",
              "      <th>Signal returns</th>\n",
              "    </tr>\n",
              "    <tr>\n",
              "      <th>Date</th>\n",
              "      <th></th>\n",
              "      <th></th>\n",
              "      <th></th>\n",
              "      <th></th>\n",
              "      <th></th>\n",
              "    </tr>\n",
              "  </thead>\n",
              "  <tbody>\n",
              "    <tr>\n",
              "      <th>2000-01-03</th>\n",
              "      <td>0.858137</td>\n",
              "      <td>0.728291</td>\n",
              "      <td>-0.151312</td>\n",
              "      <td>1.0</td>\n",
              "      <td>-0.151312</td>\n",
              "    </tr>\n",
              "    <tr>\n",
              "      <th>2000-01-06</th>\n",
              "      <td>0.728291</td>\n",
              "      <td>0.769976</td>\n",
              "      <td>0.057237</td>\n",
              "      <td>-1.0</td>\n",
              "      <td>-0.057237</td>\n",
              "    </tr>\n",
              "    <tr>\n",
              "      <th>2000-01-14</th>\n",
              "      <td>0.769976</td>\n",
              "      <td>0.779079</td>\n",
              "      <td>0.011823</td>\n",
              "      <td>1.0</td>\n",
              "      <td>0.011823</td>\n",
              "    </tr>\n",
              "    <tr>\n",
              "      <th>2000-01-28</th>\n",
              "      <td>0.779079</td>\n",
              "      <td>0.827952</td>\n",
              "      <td>0.062731</td>\n",
              "      <td>-1.0</td>\n",
              "      <td>-0.062731</td>\n",
              "    </tr>\n",
              "    <tr>\n",
              "      <th>2000-02-04</th>\n",
              "      <td>0.827952</td>\n",
              "      <td>0.846159</td>\n",
              "      <td>0.021991</td>\n",
              "      <td>1.0</td>\n",
              "      <td>0.021991</td>\n",
              "    </tr>\n",
              "    <tr>\n",
              "      <th>2000-02-25</th>\n",
              "      <td>0.846159</td>\n",
              "      <td>0.868199</td>\n",
              "      <td>0.026048</td>\n",
              "      <td>-1.0</td>\n",
              "      <td>-0.026048</td>\n",
              "    </tr>\n",
              "    <tr>\n",
              "      <th>2000-02-28</th>\n",
              "      <td>0.868199</td>\n",
              "      <td>0.875865</td>\n",
              "      <td>0.008829</td>\n",
              "      <td>1.0</td>\n",
              "      <td>0.008829</td>\n",
              "    </tr>\n",
              "    <tr>\n",
              "      <th>2000-03-14</th>\n",
              "      <td>0.875865</td>\n",
              "      <td>0.931924</td>\n",
              "      <td>0.064004</td>\n",
              "      <td>-1.0</td>\n",
              "      <td>-0.064004</td>\n",
              "    </tr>\n",
              "    <tr>\n",
              "      <th>2000-03-16</th>\n",
              "      <td>0.931924</td>\n",
              "      <td>0.964027</td>\n",
              "      <td>0.034448</td>\n",
              "      <td>1.0</td>\n",
              "      <td>0.034448</td>\n",
              "    </tr>\n",
              "    <tr>\n",
              "      <th>2000-03-30</th>\n",
              "      <td>0.964027</td>\n",
              "      <td>1.041169</td>\n",
              "      <td>0.080020</td>\n",
              "      <td>-1.0</td>\n",
              "      <td>-0.080020</td>\n",
              "    </tr>\n",
              "    <tr>\n",
              "      <th>2000-03-31</th>\n",
              "      <td>1.041169</td>\n",
              "      <td>0.976005</td>\n",
              "      <td>-0.062587</td>\n",
              "      <td>1.0</td>\n",
              "      <td>-0.062587</td>\n",
              "    </tr>\n",
              "    <tr>\n",
              "      <th>2000-04-04</th>\n",
              "      <td>0.976005</td>\n",
              "      <td>0.999484</td>\n",
              "      <td>0.024056</td>\n",
              "      <td>-1.0</td>\n",
              "      <td>-0.024056</td>\n",
              "    </tr>\n",
              "    <tr>\n",
              "      <th>2000-04-05</th>\n",
              "      <td>0.999484</td>\n",
              "      <td>0.959715</td>\n",
              "      <td>-0.039789</td>\n",
              "      <td>1.0</td>\n",
              "      <td>-0.039789</td>\n",
              "    </tr>\n",
              "    <tr>\n",
              "      <th>2000-04-06</th>\n",
              "      <td>0.959715</td>\n",
              "      <td>1.010024</td>\n",
              "      <td>0.052421</td>\n",
              "      <td>-1.0</td>\n",
              "      <td>-0.052421</td>\n",
              "    </tr>\n",
              "    <tr>\n",
              "      <th>2000-04-07</th>\n",
              "      <td>1.010024</td>\n",
              "      <td>0.958277</td>\n",
              "      <td>-0.051233</td>\n",
              "      <td>1.0</td>\n",
              "      <td>-0.051233</td>\n",
              "    </tr>\n",
              "    <tr>\n",
              "      <th>2000-04-10</th>\n",
              "      <td>0.958277</td>\n",
              "      <td>0.972652</td>\n",
              "      <td>0.015001</td>\n",
              "      <td>-1.0</td>\n",
              "      <td>-0.015001</td>\n",
              "    </tr>\n",
              "    <tr>\n",
              "      <th>2000-04-18</th>\n",
              "      <td>0.972652</td>\n",
              "      <td>0.928571</td>\n",
              "      <td>-0.045321</td>\n",
              "      <td>1.0</td>\n",
              "      <td>-0.045321</td>\n",
              "    </tr>\n",
              "    <tr>\n",
              "      <th>2000-04-19</th>\n",
              "      <td>0.928571</td>\n",
              "      <td>0.983671</td>\n",
              "      <td>0.059339</td>\n",
              "      <td>-1.0</td>\n",
              "      <td>-0.059339</td>\n",
              "    </tr>\n",
              "    <tr>\n",
              "      <th>2000-04-25</th>\n",
              "      <td>0.983671</td>\n",
              "      <td>0.930008</td>\n",
              "      <td>-0.054554</td>\n",
              "      <td>1.0</td>\n",
              "      <td>-0.054554</td>\n",
              "    </tr>\n",
              "    <tr>\n",
              "      <th>2000-04-26</th>\n",
              "      <td>0.930008</td>\n",
              "      <td>0.971693</td>\n",
              "      <td>0.044822</td>\n",
              "      <td>-1.0</td>\n",
              "      <td>-0.044822</td>\n",
              "    </tr>\n",
              "    <tr>\n",
              "      <th>2000-04-27</th>\n",
              "      <td>0.971693</td>\n",
              "      <td>0.903655</td>\n",
              "      <td>-0.070020</td>\n",
              "      <td>1.0</td>\n",
              "      <td>-0.070020</td>\n",
              "    </tr>\n",
              "    <tr>\n",
              "      <th>2000-05-02</th>\n",
              "      <td>0.903655</td>\n",
              "      <td>0.740269</td>\n",
              "      <td>-0.180806</td>\n",
              "      <td>-1.0</td>\n",
              "      <td>0.180806</td>\n",
              "    </tr>\n",
              "    <tr>\n",
              "      <th>2000-06-07</th>\n",
              "      <td>0.740269</td>\n",
              "      <td>0.726853</td>\n",
              "      <td>-0.018123</td>\n",
              "      <td>1.0</td>\n",
              "      <td>-0.018123</td>\n",
              "    </tr>\n",
              "    <tr>\n",
              "      <th>2000-06-08</th>\n",
              "      <td>0.726853</td>\n",
              "      <td>0.740748</td>\n",
              "      <td>0.019117</td>\n",
              "      <td>-1.0</td>\n",
              "      <td>-0.019117</td>\n",
              "    </tr>\n",
              "    <tr>\n",
              "      <th>2000-06-19</th>\n",
              "      <td>0.740748</td>\n",
              "      <td>0.807828</td>\n",
              "      <td>0.090556</td>\n",
              "      <td>1.0</td>\n",
              "      <td>0.090556</td>\n",
              "    </tr>\n",
              "    <tr>\n",
              "      <th>2000-07-19</th>\n",
              "      <td>0.807828</td>\n",
              "      <td>0.845201</td>\n",
              "      <td>0.046264</td>\n",
              "      <td>-1.0</td>\n",
              "      <td>-0.046264</td>\n",
              "    </tr>\n",
              "    <tr>\n",
              "      <th>2000-07-20</th>\n",
              "      <td>0.845201</td>\n",
              "      <td>0.821243</td>\n",
              "      <td>-0.028345</td>\n",
              "      <td>1.0</td>\n",
              "      <td>-0.028345</td>\n",
              "    </tr>\n",
              "    <tr>\n",
              "      <th>2000-07-21</th>\n",
              "      <td>0.821243</td>\n",
              "      <td>0.788662</td>\n",
              "      <td>-0.039673</td>\n",
              "      <td>-1.0</td>\n",
              "      <td>0.039673</td>\n",
              "    </tr>\n",
              "    <tr>\n",
              "      <th>2000-08-17</th>\n",
              "      <td>0.788662</td>\n",
              "      <td>0.871793</td>\n",
              "      <td>0.105407</td>\n",
              "      <td>1.0</td>\n",
              "      <td>0.105407</td>\n",
              "    </tr>\n",
              "    <tr>\n",
              "      <th>2000-09-14</th>\n",
              "      <td>0.871793</td>\n",
              "      <td>0.930008</td>\n",
              "      <td>0.066776</td>\n",
              "      <td>-1.0</td>\n",
              "      <td>-0.066776</td>\n",
              "    </tr>\n",
              "    <tr>\n",
              "      <th>2000-09-18</th>\n",
              "      <td>0.930008</td>\n",
              "      <td>0.869158</td>\n",
              "      <td>-0.065430</td>\n",
              "      <td>1.0</td>\n",
              "      <td>-0.065430</td>\n",
              "    </tr>\n",
              "    <tr>\n",
              "      <th>2000-09-21</th>\n",
              "      <td>0.869158</td>\n",
              "      <td>0.251069</td>\n",
              "      <td>-0.711135</td>\n",
              "      <td>-1.0</td>\n",
              "      <td>0.711135</td>\n",
              "    </tr>\n",
              "    <tr>\n",
              "      <th>2001-01-03</th>\n",
              "      <td>0.251069</td>\n",
              "      <td>0.293233</td>\n",
              "      <td>0.167938</td>\n",
              "      <td>1.0</td>\n",
              "      <td>0.167938</td>\n",
              "    </tr>\n",
              "    <tr>\n",
              "      <th>2001-02-09</th>\n",
              "      <td>0.293233</td>\n",
              "      <td>0.301858</td>\n",
              "      <td>0.029413</td>\n",
              "      <td>-1.0</td>\n",
              "      <td>-0.029413</td>\n",
              "    </tr>\n",
              "    <tr>\n",
              "      <th>2001-02-12</th>\n",
              "      <td>0.301858</td>\n",
              "      <td>0.293233</td>\n",
              "      <td>-0.028573</td>\n",
              "      <td>1.0</td>\n",
              "      <td>-0.028573</td>\n",
              "    </tr>\n",
              "    <tr>\n",
              "      <th>2001-02-13</th>\n",
              "      <td>0.293233</td>\n",
              "      <td>0.307607</td>\n",
              "      <td>0.049019</td>\n",
              "      <td>-1.0</td>\n",
              "      <td>-0.049019</td>\n",
              "    </tr>\n",
              "    <tr>\n",
              "      <th>2001-02-15</th>\n",
              "      <td>0.307607</td>\n",
              "      <td>0.291317</td>\n",
              "      <td>-0.052959</td>\n",
              "      <td>1.0</td>\n",
              "      <td>-0.052959</td>\n",
              "    </tr>\n",
              "    <tr>\n",
              "      <th>2001-02-16</th>\n",
              "      <td>0.291317</td>\n",
              "      <td>0.298982</td>\n",
              "      <td>0.026314</td>\n",
              "      <td>-1.0</td>\n",
              "      <td>-0.026314</td>\n",
              "    </tr>\n",
              "    <tr>\n",
              "      <th>2001-02-26</th>\n",
              "      <td>0.298982</td>\n",
              "      <td>0.279817</td>\n",
              "      <td>-0.064101</td>\n",
              "      <td>1.0</td>\n",
              "      <td>-0.064101</td>\n",
              "    </tr>\n",
              "    <tr>\n",
              "      <th>2001-02-28</th>\n",
              "      <td>0.279817</td>\n",
              "      <td>0.295149</td>\n",
              "      <td>0.054794</td>\n",
              "      <td>-1.0</td>\n",
              "      <td>-0.054794</td>\n",
              "    </tr>\n",
              "    <tr>\n",
              "      <th>2001-03-02</th>\n",
              "      <td>0.295149</td>\n",
              "      <td>0.285566</td>\n",
              "      <td>-0.032468</td>\n",
              "      <td>1.0</td>\n",
              "      <td>-0.032468</td>\n",
              "    </tr>\n",
              "    <tr>\n",
              "      <th>2001-03-12</th>\n",
              "      <td>0.285566</td>\n",
              "      <td>0.313356</td>\n",
              "      <td>0.097316</td>\n",
              "      <td>-1.0</td>\n",
              "      <td>-0.097316</td>\n",
              "    </tr>\n",
              "    <tr>\n",
              "      <th>2001-03-14</th>\n",
              "      <td>0.313356</td>\n",
              "      <td>0.301858</td>\n",
              "      <td>-0.036695</td>\n",
              "      <td>1.0</td>\n",
              "      <td>-0.036695</td>\n",
              "    </tr>\n",
              "    <tr>\n",
              "      <th>2001-03-15</th>\n",
              "      <td>0.301858</td>\n",
              "      <td>0.315274</td>\n",
              "      <td>0.044444</td>\n",
              "      <td>-1.0</td>\n",
              "      <td>-0.044444</td>\n",
              "    </tr>\n",
              "    <tr>\n",
              "      <th>2001-03-19</th>\n",
              "      <td>0.315274</td>\n",
              "      <td>0.301858</td>\n",
              "      <td>-0.042553</td>\n",
              "      <td>1.0</td>\n",
              "      <td>-0.042553</td>\n",
              "    </tr>\n",
              "    <tr>\n",
              "      <th>2001-03-20</th>\n",
              "      <td>0.301858</td>\n",
              "      <td>0.308565</td>\n",
              "      <td>0.022221</td>\n",
              "      <td>-1.0</td>\n",
              "      <td>-0.022221</td>\n",
              "    </tr>\n",
              "    <tr>\n",
              "      <th>2001-03-21</th>\n",
              "      <td>0.308565</td>\n",
              "      <td>0.310329</td>\n",
              "      <td>0.005716</td>\n",
              "      <td>1.0</td>\n",
              "      <td>0.005716</td>\n",
              "    </tr>\n",
              "    <tr>\n",
              "      <th>2001-04-03</th>\n",
              "      <td>0.310329</td>\n",
              "      <td>0.337927</td>\n",
              "      <td>0.088930</td>\n",
              "      <td>-1.0</td>\n",
              "      <td>-0.088930</td>\n",
              "    </tr>\n",
              "    <tr>\n",
              "      <th>2001-04-10</th>\n",
              "      <td>0.337927</td>\n",
              "      <td>0.312782</td>\n",
              "      <td>-0.074409</td>\n",
              "      <td>1.0</td>\n",
              "      <td>-0.074409</td>\n",
              "    </tr>\n",
              "    <tr>\n",
              "      <th>2001-04-17</th>\n",
              "      <td>0.312782</td>\n",
              "      <td>0.349426</td>\n",
              "      <td>0.117155</td>\n",
              "      <td>-1.0</td>\n",
              "      <td>-0.117155</td>\n",
              "    </tr>\n",
              "  </tbody>\n",
              "</table>\n",
              "</div>"
            ],
            "text/plain": [
              "            Entry prices  Exit prices  ...  Entry signals  Signal returns\n",
              "Date                                   ...                               \n",
              "2000-01-03      0.858137     0.728291  ...            1.0       -0.151312\n",
              "2000-01-06      0.728291     0.769976  ...           -1.0       -0.057237\n",
              "2000-01-14      0.769976     0.779079  ...            1.0        0.011823\n",
              "2000-01-28      0.779079     0.827952  ...           -1.0       -0.062731\n",
              "2000-02-04      0.827952     0.846159  ...            1.0        0.021991\n",
              "2000-02-25      0.846159     0.868199  ...           -1.0       -0.026048\n",
              "2000-02-28      0.868199     0.875865  ...            1.0        0.008829\n",
              "2000-03-14      0.875865     0.931924  ...           -1.0       -0.064004\n",
              "2000-03-16      0.931924     0.964027  ...            1.0        0.034448\n",
              "2000-03-30      0.964027     1.041169  ...           -1.0       -0.080020\n",
              "2000-03-31      1.041169     0.976005  ...            1.0       -0.062587\n",
              "2000-04-04      0.976005     0.999484  ...           -1.0       -0.024056\n",
              "2000-04-05      0.999484     0.959715  ...            1.0       -0.039789\n",
              "2000-04-06      0.959715     1.010024  ...           -1.0       -0.052421\n",
              "2000-04-07      1.010024     0.958277  ...            1.0       -0.051233\n",
              "2000-04-10      0.958277     0.972652  ...           -1.0       -0.015001\n",
              "2000-04-18      0.972652     0.928571  ...            1.0       -0.045321\n",
              "2000-04-19      0.928571     0.983671  ...           -1.0       -0.059339\n",
              "2000-04-25      0.983671     0.930008  ...            1.0       -0.054554\n",
              "2000-04-26      0.930008     0.971693  ...           -1.0       -0.044822\n",
              "2000-04-27      0.971693     0.903655  ...            1.0       -0.070020\n",
              "2000-05-02      0.903655     0.740269  ...           -1.0        0.180806\n",
              "2000-06-07      0.740269     0.726853  ...            1.0       -0.018123\n",
              "2000-06-08      0.726853     0.740748  ...           -1.0       -0.019117\n",
              "2000-06-19      0.740748     0.807828  ...            1.0        0.090556\n",
              "2000-07-19      0.807828     0.845201  ...           -1.0       -0.046264\n",
              "2000-07-20      0.845201     0.821243  ...            1.0       -0.028345\n",
              "2000-07-21      0.821243     0.788662  ...           -1.0        0.039673\n",
              "2000-08-17      0.788662     0.871793  ...            1.0        0.105407\n",
              "2000-09-14      0.871793     0.930008  ...           -1.0       -0.066776\n",
              "2000-09-18      0.930008     0.869158  ...            1.0       -0.065430\n",
              "2000-09-21      0.869158     0.251069  ...           -1.0        0.711135\n",
              "2001-01-03      0.251069     0.293233  ...            1.0        0.167938\n",
              "2001-02-09      0.293233     0.301858  ...           -1.0       -0.029413\n",
              "2001-02-12      0.301858     0.293233  ...            1.0       -0.028573\n",
              "2001-02-13      0.293233     0.307607  ...           -1.0       -0.049019\n",
              "2001-02-15      0.307607     0.291317  ...            1.0       -0.052959\n",
              "2001-02-16      0.291317     0.298982  ...           -1.0       -0.026314\n",
              "2001-02-26      0.298982     0.279817  ...            1.0       -0.064101\n",
              "2001-02-28      0.279817     0.295149  ...           -1.0       -0.054794\n",
              "2001-03-02      0.295149     0.285566  ...            1.0       -0.032468\n",
              "2001-03-12      0.285566     0.313356  ...           -1.0       -0.097316\n",
              "2001-03-14      0.313356     0.301858  ...            1.0       -0.036695\n",
              "2001-03-15      0.301858     0.315274  ...           -1.0       -0.044444\n",
              "2001-03-19      0.315274     0.301858  ...            1.0       -0.042553\n",
              "2001-03-20      0.301858     0.308565  ...           -1.0       -0.022221\n",
              "2001-03-21      0.308565     0.310329  ...            1.0        0.005716\n",
              "2001-04-03      0.310329     0.337927  ...           -1.0       -0.088930\n",
              "2001-04-10      0.337927     0.312782  ...            1.0       -0.074409\n",
              "2001-04-17      0.312782     0.349426  ...           -1.0       -0.117155\n",
              "\n",
              "[50 rows x 5 columns]"
            ]
          },
          "metadata": {
            "tags": []
          },
          "execution_count": 15
        }
      ]
    },
    {
      "cell_type": "code",
      "metadata": {
        "colab": {
          "base_uri": "https://localhost:8080/",
          "height": 519
        },
        "id": "mVFMJbWrANYz",
        "outputId": "1c0ac808-b635-4f45-e74e-1eb916d18695"
      },
      "source": [
        "plt.figure(figsize=(16,8))\n",
        "plt.bar(return_df.index, return_df.loc[:,\"Signal returns\"], alpha=1.0, label=\"Signal returns\", width=1, color=\"cornflowerblue\", zorder=1)\n",
        "plt.legend(fontsize=18)\n",
        "plt.title(\"Expected signal returns for 2000-2002\", fontsize=18)\n",
        "plt.xlabel(\"Date\", fontsize=18)\n",
        "plt.ylabel(\"Signal returns\", fontsize=18)\n",
        "plt.show()"
      ],
      "execution_count": 16,
      "outputs": [
        {
          "output_type": "display_data",
          "data": {
            "image/png": "[encoded data removed]",
            "text/plain": [
              "<Figure size 1152x576 with 1 Axes>"
            ]
          },
          "metadata": {
            "tags": []
          }
        }
      ]
    },
    {
      "cell_type": "markdown",
      "metadata": {
        "id": "j7z0nLDvJ5Y5"
      },
      "source": [
        "## Show descriptive statistics of return distribution"
      ]
    },
    {
      "cell_type": "code",
      "metadata": {
        "colab": {
          "base_uri": "https://localhost:8080/",
          "height": 297
        },
        "id": "vPTZdWK3JWnh",
        "outputId": "c72aea22-2570-430a-fc44-f04aab6ec1c2"
      },
      "source": [
        "stats_table = pd.DataFrame(data={\"Stats\":[\"Mean\", \"Median\", \"Max\", \"Min\", \"St. dev.\",\"Skew\", \"Kurtosis\"]})\n",
        "stats_table.set_index(\"Stats\", inplace=True)\n",
        "\n",
        "stats_table[\"{}\".format(\"Signal returns\")] = [return_df.loc[:, \"Signal returns\"].mean(),\n",
        "                                              return_df.loc[:, \"Signal returns\"].median(),\n",
        "                                              return_df.loc[:, \"Signal returns\"].max(),\n",
        "                                              return_df.loc[:, \"Signal returns\"].min(), \n",
        "                                              return_df.loc[:, \"Signal returns\"].std(), \n",
        "                                              skew(return_df.loc[:, \"Signal returns\"][0:-1]), \n",
        "                                              kurtosis(return_df.loc[:, \"Signal returns\"][0:-1], fisher=True)]\n",
        "stats_table"
      ],
      "execution_count": 17,
      "outputs": [
        {
          "output_type": "execute_result",
          "data": {
            "text/html": [
              "<div>\n",
              "<style scoped>\n",
              "    .dataframe tbody tr th:only-of-type {\n",
              "        vertical-align: middle;\n",
              "    }\n",
              "\n",
              "    .dataframe tbody tr th {\n",
              "        vertical-align: top;\n",
              "    }\n",
              "\n",
              "    .dataframe thead th {\n",
              "        text-align: right;\n",
              "    }\n",
              "</style>\n",
              "<table border=\"1\" class=\"dataframe\">\n",
              "  <thead>\n",
              "    <tr style=\"text-align: right;\">\n",
              "      <th></th>\n",
              "      <th>Signal returns</th>\n",
              "    </tr>\n",
              "    <tr>\n",
              "      <th>Stats</th>\n",
              "      <th></th>\n",
              "    </tr>\n",
              "  </thead>\n",
              "  <tbody>\n",
              "    <tr>\n",
              "      <th>Mean</th>\n",
              "      <td>-0.008649</td>\n",
              "    </tr>\n",
              "    <tr>\n",
              "      <th>Median</th>\n",
              "      <td>-0.031440</td>\n",
              "    </tr>\n",
              "    <tr>\n",
              "      <th>Max</th>\n",
              "      <td>0.711135</td>\n",
              "    </tr>\n",
              "    <tr>\n",
              "      <th>Min</th>\n",
              "      <td>-0.151312</td>\n",
              "    </tr>\n",
              "    <tr>\n",
              "      <th>St. dev.</th>\n",
              "      <td>0.108505</td>\n",
              "    </tr>\n",
              "    <tr>\n",
              "      <th>Skew</th>\n",
              "      <td>4.522310</td>\n",
              "    </tr>\n",
              "    <tr>\n",
              "      <th>Kurtosis</th>\n",
              "      <td>26.774677</td>\n",
              "    </tr>\n",
              "  </tbody>\n",
              "</table>\n",
              "</div>"
            ],
            "text/plain": [
              "          Signal returns\n",
              "Stats                   \n",
              "Mean           -0.008649\n",
              "Median         -0.031440\n",
              "Max             0.711135\n",
              "Min            -0.151312\n",
              "St. dev.        0.108505\n",
              "Skew            4.522310\n",
              "Kurtosis       26.774677"
            ]
          },
          "metadata": {
            "tags": []
          },
          "execution_count": 17
        }
      ]
    },
    {
      "cell_type": "markdown",
      "metadata": {
        "id": "Mb_zqsDPPT9j"
      },
      "source": [
        "## Cumulative returns"
      ]
    },
    {
      "cell_type": "code",
      "metadata": {
        "id": "uGgVL6M-P0nF"
      },
      "source": [
        "def cumulative_signal_returns(signal_returns):\n",
        "\n",
        "  cumulative_returns = 1 # start with 100%\n",
        "  for signal_return in signal_returns[:-1]:\n",
        "    cumulative_returns = cumulative_returns * (1+signal_return)\n",
        "\n",
        "  return cumulative_returns"
      ],
      "execution_count": 18,
      "outputs": []
    },
    {
      "cell_type": "code",
      "metadata": {
        "colab": {
          "base_uri": "https://localhost:8080/"
        },
        "id": "arCKfpSmQPpN",
        "outputId": "714e7609-eff1-44d5-eb2b-c4f57c9c6814"
      },
      "source": [
        "signal_cum_ret = cumulative_signal_returns(return_df.loc[:, \"Signal returns\"])\n",
        "signal_cum_ret"
      ],
      "execution_count": 19,
      "outputs": [
        {
          "output_type": "execute_result",
          "data": {
            "text/plain": [
              "0.4042418439328812"
            ]
          },
          "metadata": {
            "tags": []
          },
          "execution_count": 19
        }
      ]
    },
    {
      "cell_type": "code",
      "metadata": {
        "colab": {
          "base_uri": "https://localhost:8080/"
        },
        "id": "LnypKComKmrp",
        "outputId": "c5b4053f-275a-4b8a-d47b-7a928add009a"
      },
      "source": [
        "# confirm function results\n",
        "signal_cumulative_returns = (return_df.loc[:, \"Signal returns\"]+1).cumprod()\n",
        "signal_cumulative_returns"
      ],
      "execution_count": 20,
      "outputs": [
        {
          "output_type": "execute_result",
          "data": {
            "text/plain": [
              "Date\n",
              "2000-01-03    0.848688\n",
              "2000-01-06    0.800111\n",
              "2000-01-14    0.809571\n",
              "2000-01-28    0.758786\n",
              "2000-02-04    0.775472\n",
              "                ...   \n",
              "2001-11-01    0.425285\n",
              "2001-12-13    0.425082\n",
              "2001-12-18    0.418203\n",
              "2001-12-20    0.404242\n",
              "2001-12-24         NaN\n",
              "Name: Signal returns, Length: 69, dtype: float64"
            ]
          },
          "metadata": {
            "tags": []
          },
          "execution_count": 20
        }
      ]
    },
    {
      "cell_type": "code",
      "metadata": {
        "id": "q50DkPFyPo7E"
      },
      "source": [
        ""
      ],
      "execution_count": 20,
      "outputs": []
    }
  ]
}