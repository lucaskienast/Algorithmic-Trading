{
  "nbformat": 4,
  "nbformat_minor": 0,
  "metadata": {
    "colab": {
      "name": "Generate Signals.ipynb",
      "provenance": [],
      "collapsed_sections": []
    },
    "kernelspec": {
      "name": "python3",
      "display_name": "Python 3"
    },
    "language_info": {
      "name": "python"
    }
  },
  "cells": [
    {
      "cell_type": "markdown",
      "metadata": {
        "id": "ssLEtdxdAGi2"
      },
      "source": [
        "# Generate Trading Signals"
      ]
    },
    {
      "cell_type": "code",
      "metadata": {
        "id": "KwK49V9b_QLT"
      },
      "source": [
        "import numpy as np"
      ],
      "execution_count": 1,
      "outputs": []
    },
    {
      "cell_type": "markdown",
      "metadata": {
        "id": "kMdoCSTvA4rf"
      },
      "source": [
        "## Data type conversion"
      ]
    },
    {
      "cell_type": "code",
      "metadata": {
        "colab": {
          "base_uri": "https://localhost:8080/"
        },
        "id": "89tw3bSwAU8T",
        "outputId": "485770e3-72de-491f-856c-375d82021bba"
      },
      "source": [
        "arr = np.arange(10)\n",
        "print(arr)\n",
        "print(type(arr))\n",
        "print(arr.dtype)"
      ],
      "execution_count": 2,
      "outputs": [
        {
          "output_type": "stream",
          "text": [
            "[0 1 2 3 4 5 6 7 8 9]\n",
            "<class 'numpy.ndarray'>\n",
            "int64\n"
          ],
          "name": "stdout"
        }
      ]
    },
    {
      "cell_type": "code",
      "metadata": {
        "colab": {
          "base_uri": "https://localhost:8080/"
        },
        "id": "V5MiYzwzAc-x",
        "outputId": "2d156763-b5ce-493e-f7d9-059dab6e7150"
      },
      "source": [
        "float_arr = arr / 2\n",
        "print(float_arr)\n",
        "print(type(float_arr))\n",
        "print(float_arr.dtype)"
      ],
      "execution_count": 3,
      "outputs": [
        {
          "output_type": "stream",
          "text": [
            "[0.  0.5 1.  1.5 2.  2.5 3.  3.5 4.  4.5]\n",
            "<class 'numpy.ndarray'>\n",
            "float64\n"
          ],
          "name": "stdout"
        }
      ]
    },
    {
      "cell_type": "code",
      "metadata": {
        "colab": {
          "base_uri": "https://localhost:8080/"
        },
        "id": "rb8Z132NAn7J",
        "outputId": "158771e0-fa03-4175-880c-cfb2598bcfb7"
      },
      "source": [
        "int_arr = float_arr.astype(np.int64)\n",
        "print(int_arr)\n",
        "print(type(int_arr))\n",
        "print(int_arr.dtype)"
      ],
      "execution_count": 4,
      "outputs": [
        {
          "output_type": "stream",
          "text": [
            "[0 0 1 1 2 2 3 3 4 4]\n",
            "<class 'numpy.ndarray'>\n",
            "int64\n"
          ],
          "name": "stdout"
        }
      ]
    },
    {
      "cell_type": "markdown",
      "metadata": {
        "id": "XGKUszaXA8OD"
      },
      "source": [
        "## Signals\n"
      ]
    },
    {
      "cell_type": "code",
      "metadata": {
        "colab": {
          "base_uri": "https://localhost:8080/"
        },
        "id": "yY-UZmHiAzS6",
        "outputId": "c801b745-6aa0-4492-de09-693d3f771a21"
      },
      "source": [
        "prices = np.array([1, 3, -2, 9, 5, 7, 2])\n",
        "prices"
      ],
      "execution_count": 5,
      "outputs": [
        {
          "output_type": "execute_result",
          "data": {
            "text/plain": [
              "array([ 1,  3, -2,  9,  5,  7,  2])"
            ]
          },
          "metadata": {
            "tags": []
          },
          "execution_count": 5
        }
      ]
    },
    {
      "cell_type": "code",
      "metadata": {
        "colab": {
          "base_uri": "https://localhost:8080/"
        },
        "id": "W14uCU0dBHOh",
        "outputId": "be21a942-87e3-4ec3-a109-530b25a85e2c"
      },
      "source": [
        "signal_one = prices > 2\n",
        "signal_three = prices > 4\n",
        "\n",
        "print(signal_one)\n",
        "print(signal_three)"
      ],
      "execution_count": 6,
      "outputs": [
        {
          "output_type": "stream",
          "text": [
            "[False  True False  True  True  True False]\n",
            "[False False False  True  True  True False]\n"
          ],
          "name": "stdout"
        }
      ]
    },
    {
      "cell_type": "code",
      "metadata": {
        "colab": {
          "base_uri": "https://localhost:8080/"
        },
        "id": "VYq2wB72Budw",
        "outputId": "001b2530-a801-4e7f-a444-0e02ddc484a1"
      },
      "source": [
        "signal_one = signal_one.astype(np.int)\n",
        "signal_three = signal_three.astype(np.int)\n",
        "\n",
        "print(signal_one)\n",
        "print(signal_three)"
      ],
      "execution_count": 7,
      "outputs": [
        {
          "output_type": "stream",
          "text": [
            "[0 1 0 1 1 1 0]\n",
            "[0 0 0 1 1 1 0]\n"
          ],
          "name": "stdout"
        }
      ]
    },
    {
      "cell_type": "markdown",
      "metadata": {
        "id": "RvqyNLTPBlY2"
      },
      "source": [
        "## Signals to positions\n",
        "\n",
        "- buy 1 share when price > 2\n",
        "- buy 3 shares when price > 4"
      ]
    },
    {
      "cell_type": "code",
      "metadata": {
        "colab": {
          "base_uri": "https://localhost:8080/"
        },
        "id": "sSX_jSk2Bbnt",
        "outputId": "b0f07cab-5e75-41fe-8970-e36e6a46dc92"
      },
      "source": [
        "position_one = 1 * signal_one\n",
        "position_three = 3 * signal_three\n",
        "\n",
        "print(position_one)\n",
        "print(position_three)"
      ],
      "execution_count": 8,
      "outputs": [
        {
          "output_type": "stream",
          "text": [
            "[0 1 0 1 1 1 0]\n",
            "[0 0 0 3 3 3 0]\n"
          ],
          "name": "stdout"
        }
      ]
    },
    {
      "cell_type": "code",
      "metadata": {
        "colab": {
          "base_uri": "https://localhost:8080/"
        },
        "id": "YY12WgZACEIQ",
        "outputId": "590f0174-122b-4c8f-bc69-cd58475ec333"
      },
      "source": [
        "long_positions = position_one + position_three\n",
        "print(long_positions)"
      ],
      "execution_count": 9,
      "outputs": [
        {
          "output_type": "stream",
          "text": [
            "[0 1 0 4 4 4 0]\n"
          ],
          "name": "stdout"
        }
      ]
    },
    {
      "cell_type": "code",
      "metadata": {
        "id": "c9QeQVx_CM5e"
      },
      "source": [
        ""
      ],
      "execution_count": 9,
      "outputs": []
    }
  ]
}
