{
  "nbformat": 4,
  "nbformat_minor": 0,
  "metadata": {
    "colab": {
      "name": "CVXPY Simple Portfolio Optimisation.ipynb",
      "provenance": [],
      "collapsed_sections": []
    },
    "kernelspec": {
      "name": "python3",
      "display_name": "Python 3"
    },
    "language_info": {
      "name": "python"
    }
  },
  "cells": [
    {
      "cell_type": "markdown",
      "metadata": {
        "id": "jewF6LYT2TXi"
      },
      "source": [
        "# Simple Portfolio Optimisation using cvxpy"
      ]
    },
    {
      "cell_type": "markdown",
      "metadata": {
        "id": "1qg9nETm2Z_2"
      },
      "source": [
        "## Import libraries"
      ]
    },
    {
      "cell_type": "code",
      "metadata": {
        "id": "xsS6Dt6S0VnG"
      },
      "source": [
        "import cvxpy as cvx\n",
        "import numpy as np"
      ],
      "execution_count": 1,
      "outputs": []
    },
    {
      "cell_type": "markdown",
      "metadata": {
        "id": "VUAOXXZK2tkV"
      },
      "source": [
        "## Optimisation procedure"
      ]
    },
    {
      "cell_type": "markdown",
      "metadata": {
        "id": "MBhbpgFF2w8t"
      },
      "source": [
        "Find the optimal weights on a two-asset portfolio given the variance of Stock A, the variance of Stock B, and the correlation between Stocks A and B. Create a function that takes in these values as arguments and returns the vector of optimal weights, i.e., \n",
        "\n",
        "$\\mathbf{x} = \\begin{bmatrix}\n",
        "x_A & x_B\n",
        "\\end{bmatrix}\n",
        "$\n",
        "\n",
        "\n",
        "The constraint in this problem is: $x_A + x_B = 1$"
      ]
    },
    {
      "cell_type": "markdown",
      "metadata": {
        "id": "TND4Xkxy2w5_"
      },
      "source": [
        "### standard deviation\n",
        "standard deviation $\\sigma_A = \\sqrt(\\sigma^2_A)$, where $\\sigma^2_A$ is variance of $x_A$\n",
        "look at `np.sqrt()`"
      ]
    },
    {
      "cell_type": "markdown",
      "metadata": {
        "id": "0oH_IQOn3P-9"
      },
      "source": [
        "### covariance\n",
        "correlation between the stocks is $\\rho_{A,B}$\n",
        "\n",
        "covariance between the stocks is $\\sigma_{A,B} = \\sigma_A \\times \\sigma_B \\times \\rho_{A,B}$"
      ]
    },
    {
      "cell_type": "markdown",
      "metadata": {
        "id": "TeVdz4Bb3TZV"
      },
      "source": [
        "### x vector\n",
        "create a vector of 2 x variables $\\mathbf{x} = \\begin{bmatrix}\n",
        "x_A & x_B\n",
        "\\end{bmatrix}\n",
        "$\n",
        "we can use `cvx.Variable(2)`"
      ]
    },
    {
      "cell_type": "markdown",
      "metadata": {
        "id": "fxsHOVvP3WTi"
      },
      "source": [
        "### covariance matrix\n",
        "The covariance matrix $P = \n",
        "\\begin{bmatrix}\n",
        "\\sigma^2_A & \\sigma_{A,B} \\\\ \n",
        "\\sigma_{A,B} & \\sigma^2_B \n",
        "\\end{bmatrix}$\n",
        "\n",
        "We can create a 2 x 2 matrix using a 2-dimensional numpy array\n",
        "`np.array([[\"Cindy\", \"Liz\"],[\"Eddy\", \"Brok\"]])`"
      ]
    },
    {
      "cell_type": "markdown",
      "metadata": {
        "id": "bclbFu2o3ZeM"
      },
      "source": [
        "### quadratic form\n",
        "We can write the portfolio variance $\\sigma^2_p = \\mathbf{x^T} \\mathbf{P} \\mathbf{x}$\n",
        "\n",
        "Recall that the $\\mathbf{x^T} \\mathbf{P} \\mathbf{x}$ is called the quadratic form.\n",
        "We can use the cvxpy function `quad_form(x,P)` to get the quadratic form."
      ]
    },
    {
      "cell_type": "markdown",
      "metadata": {
        "id": "E61h0ovK3bn8"
      },
      "source": [
        "### objective function\n",
        "Next, we want to define the objective function.  In this case, we want to minimize something.  What do we want to minimize in this case?  We want to minimize the portfolio variance, which is defined by our quadratic form $\\mathbf{x^T} \\mathbf{P} \\mathbf{x}$\n",
        "\n",
        "We can find the objective function using cvxpy `objective = cvx.Minimize()`.  Can you guess what to pass into this function?"
      ]
    },
    {
      "cell_type": "markdown",
      "metadata": {
        "id": "9L-nrkA73eUY"
      },
      "source": [
        "### constraints\n",
        "We can also define our constraints in a list.  For example, if you wanted the $\\sum_{1}^{n}x = 1$, you could save a variable as `[sum(x)==1]`, where x was created using `cvx.Variable()`."
      ]
    },
    {
      "cell_type": "markdown",
      "metadata": {
        "id": "2Z8jqnI-3gRN"
      },
      "source": [
        "### optimization\n",
        "So now that we have our objective function and constraints, we can solve for the values of $\\mathbf{x}$.\n",
        "cvxpy has the constructor `Problem(objective, constraints)`, which returns a `Problem` object.\n",
        "\n",
        "The `Problem` object has a function solve(), which returns the minimum of the solution.  In this case, this is the minimum variance of the portfolio.\n",
        "\n",
        "It also updates the vector $\\mathbf{x}$.\n",
        "\n",
        "We can check out the values of $x_A$ and $x_B$ that gave the minimum portfolio variance by using `x.value`"
      ]
    },
    {
      "cell_type": "code",
      "metadata": {
        "id": "ygnb9mt_2oKI"
      },
      "source": [
        "def optimize_two_asset_portfolio(varA, varB, corrAB):\n",
        "  \"\"\"Create a function that takes in the variance of Stock A, the variance of\n",
        "    Stock B, and the correlation between Stocks A and B as arguments and returns \n",
        "    the vector of optimal weights\n",
        "    \n",
        "    Parameters\n",
        "    ----------\n",
        "    varA : float\n",
        "        The variance of Stock A.\n",
        "        \n",
        "    varB : float\n",
        "        The variance of Stock B.    \n",
        "        \n",
        "    rAB : float\n",
        "        The correlation between Stocks A and B.\n",
        "        \n",
        "    Returns\n",
        "    -------\n",
        "    x : np.ndarray\n",
        "        A 2-element numpy ndarray containing the weights on Stocks A and B,\n",
        "        [x_A, x_B], that minimize the portfolio variance.\n",
        "    \n",
        "  \"\"\"\n",
        "\n",
        "  cov = np.sqrt(varA) * np.sqrt(varB) * corrAB\n",
        "  x = cvx.Variable(2)\n",
        "  P = np.array([[varA, cov], [cov, varB]])\n",
        "  objective = cvx.Minimize(cvx.quad_form(x, P))\n",
        "  constraints = [sum(x)==1]\n",
        "  problem = cvx.Problem(objective, constraints)\n",
        "  min_value = problem.solve()\n",
        "  xA, xB = x.value\n",
        "\n",
        "  return xA, xB"
      ],
      "execution_count": 2,
      "outputs": []
    },
    {
      "cell_type": "code",
      "metadata": {
        "id": "pm6_WdjH5ERG"
      },
      "source": [
        "# take example values for variances and correlation\n",
        "varA = 0.1\n",
        "varB = 0.05\n",
        "corrAB = 0.25"
      ],
      "execution_count": 3,
      "outputs": []
    },
    {
      "cell_type": "code",
      "metadata": {
        "id": "dZ83AIpm5Qf7"
      },
      "source": [
        "# compute optimal weights for mimimal variance of portfolio\n",
        "xA, xB = optimize_two_asset_portfolio(varA, varB, corrAB)"
      ],
      "execution_count": 4,
      "outputs": []
    },
    {
      "cell_type": "code",
      "metadata": {
        "colab": {
          "base_uri": "https://localhost:8080/"
        },
        "id": "A6Sa3-LJ5c-j",
        "outputId": "9796f055-c0c5-4333-9d79-4e156234b112"
      },
      "source": [
        "xA"
      ],
      "execution_count": 5,
      "outputs": [
        {
          "output_type": "execute_result",
          "data": {
            "text/plain": [
              "0.28193489522432075"
            ]
          },
          "metadata": {
            "tags": []
          },
          "execution_count": 5
        }
      ]
    },
    {
      "cell_type": "code",
      "metadata": {
        "colab": {
          "base_uri": "https://localhost:8080/"
        },
        "id": "Q1yFqGL65drr",
        "outputId": "44136eb3-3fc7-4e33-a785-b1e19e33d091"
      },
      "source": [
        "xB"
      ],
      "execution_count": 6,
      "outputs": [
        {
          "output_type": "execute_result",
          "data": {
            "text/plain": [
              "0.7180651047756793"
            ]
          },
          "metadata": {
            "tags": []
          },
          "execution_count": 6
        }
      ]
    },
    {
      "cell_type": "code",
      "metadata": {
        "colab": {
          "base_uri": "https://localhost:8080/"
        },
        "id": "1fgpVn-K5eZx",
        "outputId": "9a28559d-8d79-485c-ca28-46d3106f05f8"
      },
      "source": [
        "xA + xB"
      ],
      "execution_count": 7,
      "outputs": [
        {
          "output_type": "execute_result",
          "data": {
            "text/plain": [
              "1.0"
            ]
          },
          "metadata": {
            "tags": []
          },
          "execution_count": 7
        }
      ]
    },
    {
      "cell_type": "code",
      "metadata": {
        "id": "kzw2uP3c5fg7"
      },
      "source": [
        ""
      ],
      "execution_count": 7,
      "outputs": []
    }
  ]
}