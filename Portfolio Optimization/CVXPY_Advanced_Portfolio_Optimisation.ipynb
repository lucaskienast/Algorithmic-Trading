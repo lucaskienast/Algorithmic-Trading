{
  "nbformat": 4,
  "nbformat_minor": 0,
  "metadata": {
    "colab": {
      "name": "CVXPY Advanced Portfolio Optimisation.ipynb",
      "provenance": [],
      "collapsed_sections": []
    },
    "kernelspec": {
      "name": "python3",
      "display_name": "Python 3"
    },
    "language_info": {
      "name": "python"
    }
  },
  "cells": [
    {
      "cell_type": "markdown",
      "metadata": {
        "id": "ziLGZJIY6VAz"
      },
      "source": [
        "# Advanced Portfolio Optimisation using cvxpy\n",
        "\n",
        "We want to both minimize the portfolio variance and also want to closely track a market cap weighted index.  In other words, we're trying to minimize the distance between the weights of our portfolio and the weights of the index.\n",
        "\n",
        "$Minimize \\left [ \\sigma^2_p + \\lambda \\sqrt{\\sum_{1}^{m}(weight_i - indexWeight_i)^2} \\right  ]$ where $m$ is the number of stocks in the portfolio, and $\\lambda$ is a scaling factor that you can choose."
      ]
    },
    {
      "cell_type": "markdown",
      "metadata": {
        "id": "jwl3PrMP7FQ6"
      },
      "source": [
        "### x vector\n",
        "To create a vector of M variables $\\mathbf{x} = \\begin{bmatrix}\n",
        "x_1 &...& x_M\n",
        "\\end{bmatrix}\n",
        "$\n",
        "we can use `cvx.Variable(m)`"
      ]
    },
    {
      "cell_type": "markdown",
      "metadata": {
        "id": "oXag4nyg7Iiq"
      },
      "source": [
        "### covariance matrix\n",
        "If we have $m$ stock series, the covariance matrix is an $m \\times m$ matrix containing the covariance between each pair of stocks.  We can use [numpy.cov](https://docs.scipy.org/doc/numpy/reference/generated/numpy.cov.html) to get the covariance.  We give it a 2D array in which each row is a stock series, and each column is an observation at the same period of time.\n",
        "\n",
        "The covariance matrix $\\mathbf{P} = \n",
        "\\begin{bmatrix}\n",
        "\\sigma^2_{1,1} & ... & \\sigma^2_{1,m} \\\\ \n",
        "... & ... & ...\\\\\n",
        "\\sigma_{m,1} & ... & \\sigma^2_{m,m}  \\\\\n",
        "\\end{bmatrix}$"
      ]
    },
    {
      "cell_type": "markdown",
      "metadata": {
        "id": "73NsJyQz7QP7"
      },
      "source": [
        "### portfolio variance\n",
        "We can write the portfolio variance $\\sigma^2_p = \\mathbf{x^T} \\mathbf{P} \\mathbf{x}$\n",
        "\n",
        "Recall that the $\\mathbf{x^T} \\mathbf{P} \\mathbf{x}$ is called the quadratic form.\n",
        "We can use the cvxpy function `quad_form(x,P)` to get the quadratic form."
      ]
    },
    {
      "cell_type": "markdown",
      "metadata": {
        "id": "jKVWEpbr7QMb"
      },
      "source": [
        "### Distance from index weights\n",
        "We want portfolio weights that track the index closely.  So we want to minimize the distance between them.\n",
        "Recall from the Pythagorean theorem that you can get the distance between two points in an x,y plane by adding the square of the x and y distances and taking the square root.  Extending this to any number of dimensions is called the L2 norm.  So: $\\sqrt{\\sum_{1}^{n}(weight_i - indexWeight_i)^2}$  Can also be written as $\\left \\| \\mathbf{x} - \\mathbf{index} \\right \\|_2$.  There's a cvxpy function called [norm()](https://www.cvxpy.org/api_reference/cvxpy.atoms.other_atoms.html#norm)\n",
        "`norm(x, p=2, axis=None)`.  The default is already set to find an L2 norm, so you would pass in one argument, which is the difference between your portfolio weights and the index weights."
      ]
    },
    {
      "cell_type": "markdown",
      "metadata": {
        "id": "9-YEZ8M97QJz"
      },
      "source": [
        "\n",
        "### objective function\n",
        "We want to minimize both the portfolio variance and the distance of the portfolio weights from the index weights.\n",
        "We also want to choose a `scale` constant, which is $\\lambda$ in the expression. This lets us choose how much priority we give to minimizing the difference from the index, relative to minimizing the variance of the portfolio.\n",
        "\n",
        "We can find the objective function using cvxpy `objective = cvx.Minimize()`."
      ]
    },
    {
      "cell_type": "markdown",
      "metadata": {
        "id": "3DqQy10A7W3i"
      },
      "source": [
        "### constraints\n",
        "We can also define our constraints in a list.  For example, you'd want the weights to sum to one. So $\\sum_{1}^{n}x = 1$.  You may also need to go long only, which means no shorting, so no negative weights.  So $x_i >0 $ for all $i$. you could save a variable as `[x >= 0, sum(x) == 1]`, where x was created using `cvx.Variable()`."
      ]
    },
    {
      "cell_type": "markdown",
      "metadata": {
        "id": "dQyzWKzN8if6"
      },
      "source": [
        "### optimization\n",
        "So now that we have our objective function and constraints, we can solve for the values of $\\mathbf{x}$.\n",
        "cvxpy has the constructor `Problem(objective, constraints)`, which returns a `Problem` object.\n",
        "\n",
        "The `Problem` object has a function solve(), which returns the minimum of the solution.  In this case, this is the minimum variance of the portfolio.\n",
        "\n",
        "It also updates the vector $\\mathbf{x}$.\n",
        "\n",
        "We can check out the values of $x_A$ and $x_B$ that gave the minimum portfolio variance by using `x.value`"
      ]
    },
    {
      "cell_type": "markdown",
      "metadata": {
        "id": "9OzmES796liC"
      },
      "source": [
        "## Import libraries"
      ]
    },
    {
      "cell_type": "code",
      "metadata": {
        "id": "o6t4zKRe6Lv3"
      },
      "source": [
        "import cvxpy as cvx\n",
        "import numpy as np"
      ],
      "execution_count": 1,
      "outputs": []
    },
    {
      "cell_type": "code",
      "metadata": {
        "id": "5_6JIt9Q6_iI"
      },
      "source": [
        "def optimize_portfolio(returns, index_weights, scale=0.00001):\n",
        "  \"\"\"\n",
        "    Create a function that takes the return series of a set of stocks, the index weights,\n",
        "    and scaling factor. The function will minimize a combination of the portfolio variance\n",
        "    and the distance of its weights from the index weights.  \n",
        "    The optimization will be constrained to be long only, and the weights should sum to one.\n",
        "    \n",
        "    Parameters\n",
        "    ----------\n",
        "    returns : numpy.ndarray\n",
        "        2D array containing stock return series in each row.\n",
        "        \n",
        "    index_weights : numpy.ndarray\n",
        "        1D numpy array containing weights of the index.\n",
        "        \n",
        "    scale : float\n",
        "        The scaling factor applied to the distance between portfolio and index weights\n",
        "        \n",
        "    Returns\n",
        "    -------\n",
        "    x : np.ndarray\n",
        "        A numpy ndarray containing the weights of the stocks in the optimized portfolio\n",
        "  \"\"\"\n",
        "\n",
        "  #determine the weights on the assets that minimize the combination of portfolio variance and distance from index weights\n",
        "\n",
        "  # number of stocks m is number of rows of returns, and also number of index weights\n",
        "  m = returns.shape[0]\n",
        "\n",
        "  # covariance matrix of returns\n",
        "  P = np.cov(returns)\n",
        "\n",
        "  # x variables (to be found with optimisation)\n",
        "  x = cvx.Variable(m)\n",
        "\n",
        "  # portfolio variance in quadratic form\n",
        "  portfolio_variance = cvx.quad_form(x, P)\n",
        "\n",
        "  # euclidean distance (L2 norm) between portfolio and index weights\n",
        "  distance_to_index = cvx.norm(x - index_weights)\n",
        "\n",
        "  # objective function\n",
        "  objective = cvx.Minimize(portfolio_variance + scale*distance_to_index)\n",
        "\n",
        "  # constraints\n",
        "  constraints = [x>=0, sum(x)==1]\n",
        "\n",
        "  # solve objective function\n",
        "  problem = cvx.Problem(objective, constraints)\n",
        "  result = problem.solve()\n",
        "\n",
        "  # get weights of optimized portfolio\n",
        "  x_values = x.value\n",
        "\n",
        "  return x_values"
      ],
      "execution_count": 2,
      "outputs": []
    },
    {
      "cell_type": "code",
      "metadata": {
        "id": "Reh0N3YP-ZI6"
      },
      "source": [
        "# Test with a simulated stock series of three stocks\n",
        "trading_days_per_year = 252\n",
        "years = 3\n",
        "total_days = trading_days_per_year * years\n",
        "\n",
        "# make up return series\n",
        "return_market = np.random.normal(loc=0.05, scale=0.3, size=trading_days_per_year)\n",
        "return_1 = np.random.uniform(low=-0.000001, high=0.000001, size=trading_days_per_year) + return_market\n",
        "return_2 = np.random.uniform(low=-0.000001, high=0.000001, size=trading_days_per_year) + return_market\n",
        "return_3 = np.random.uniform(low=-0.000001, high=0.000001, size=trading_days_per_year) + return_market\n",
        "returns = np.array([return_1, return_2, return_3])\n",
        "\n",
        "# simulate index weights\n",
        "index_weights = np.array([0.9, 0.15, 0.05])"
      ],
      "execution_count": 3,
      "outputs": []
    },
    {
      "cell_type": "code",
      "metadata": {
        "colab": {
          "base_uri": "https://localhost:8080/"
        },
        "id": "IUy2ZYzd_XLp",
        "outputId": "3bdcd16a-5c9b-4660-811f-6fe51080a6cd"
      },
      "source": [
        "# optimise portfolio weights\n",
        "x_values = optimize_portfolio(returns, index_weights, scale=0.00001)\n",
        "print(x_values)\n",
        "print(sum(x_values))"
      ],
      "execution_count": 4,
      "outputs": [
        {
          "output_type": "stream",
          "text": [
            "[0.86651554 0.11654767 0.01693679]\n",
            "1.00000000001493\n"
          ],
          "name": "stdout"
        }
      ]
    },
    {
      "cell_type": "code",
      "metadata": {
        "id": "kwNU6kv9_oXj"
      },
      "source": [
        ""
      ],
      "execution_count": 4,
      "outputs": []
    }
  ]
}